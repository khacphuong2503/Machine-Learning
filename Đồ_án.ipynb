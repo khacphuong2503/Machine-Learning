{
  "nbformat": 4,
  "nbformat_minor": 0,
  "metadata": {
    "colab": {
      "provenance": [],
      "collapsed_sections": [],
      "toc_visible": true
    },
    "kernelspec": {
      "display_name": "Python 3",
      "name": "python3"
    },
    "language_info": {
      "name": "python"
    }
  },
  "cells": [
    {
      "cell_type": "code",
      "metadata": {
        "id": "lIe9D1yBdpzL"
      },
      "source": [
        "from google.colab import drive\n",
        "drive.mount('/content/drive')"
      ],
      "execution_count": null,
      "outputs": []
    },
    {
      "cell_type": "code",
      "metadata": {
        "id": "dopQuMdzPBXY"
      },
      "source": [
        "import numpy as np\n",
        "import pandas as pd\n",
        "DataFile=pd.read_csv(\"/content/drive/MyDrive/DoAnMayHoc/UIT-ViNames/UIT-ViNames - Full.csv\")"
      ],
      "execution_count": null,
      "outputs": []
    },
    {
      "cell_type": "code",
      "metadata": {
        "colab": {
          "base_uri": "https://localhost:8080/"
        },
        "id": "51zPr5qLPUKo",
        "outputId": "9525ca67-1803-4014-a272-9fac0c409624"
      },
      "source": [
        "print(DataFile)\n",
        "print('Giới tính nam',int(DataFile[DataFile.Gender==1].size/2))\n",
        "print('Giới tính nữ',int(DataFile[DataFile.Gender==0].size/2))\n",
        "print('Điểm dữ liệu',len(DataFile))\n",
        "print('giá trị Null', DataFile.isnull().sum())"
      ],
      "execution_count": null,
      "outputs": [
        {
          "output_type": "stream",
          "name": "stdout",
          "text": [
            "                  Full_Name  Gender\n",
            "0             Ngô Xuân Tùng       1\n",
            "1         Bùi Dương Thảo Vy       0\n",
            "2               Lưu Thế Huy       1\n",
            "3            Nguyễn Thị Vân       0\n",
            "4           Dương Minh Long       1\n",
            "...                     ...     ...\n",
            "26846      Đoàn Thị Bảo Thu       0\n",
            "26847            Ôn Hoa Thu       1\n",
            "26848  Nguyễn Thị Huỳnh Như       0\n",
            "26849  Nguyễn Thị Hồng Phúc       0\n",
            "26850         Dương Mỹ Uyên       0\n",
            "\n",
            "[26851 rows x 2 columns]\n",
            "Giới tính nam 15495\n",
            "Giới tính nữ 11356\n",
            "Điểm dữ liệu 26851\n",
            "giá trị Null Full_Name    0\n",
            "Gender       0\n",
            "dtype: int64\n"
          ]
        }
      ]
    },
    {
      "cell_type": "code",
      "metadata": {
        "colab": {
          "base_uri": "https://localhost:8080/",
          "height": 300
        },
        "id": "2sENeMrGq4Jv",
        "outputId": "a075fb17-cf32-4e1f-a164-fb0a98672da9"
      },
      "source": [
        "DataFile.describe()"
      ],
      "execution_count": null,
      "outputs": [
        {
          "output_type": "execute_result",
          "data": {
            "text/html": [
              "\n",
              "  <div id=\"df-cf22fcd8-ea0e-48fc-856c-d6e8635b396e\">\n",
              "    <div class=\"colab-df-container\">\n",
              "      <div>\n",
              "<style scoped>\n",
              "    .dataframe tbody tr th:only-of-type {\n",
              "        vertical-align: middle;\n",
              "    }\n",
              "\n",
              "    .dataframe tbody tr th {\n",
              "        vertical-align: top;\n",
              "    }\n",
              "\n",
              "    .dataframe thead th {\n",
              "        text-align: right;\n",
              "    }\n",
              "</style>\n",
              "<table border=\"1\" class=\"dataframe\">\n",
              "  <thead>\n",
              "    <tr style=\"text-align: right;\">\n",
              "      <th></th>\n",
              "      <th>Gender</th>\n",
              "    </tr>\n",
              "  </thead>\n",
              "  <tbody>\n",
              "    <tr>\n",
              "      <th>count</th>\n",
              "      <td>26851.000000</td>\n",
              "    </tr>\n",
              "    <tr>\n",
              "      <th>mean</th>\n",
              "      <td>0.577073</td>\n",
              "    </tr>\n",
              "    <tr>\n",
              "      <th>std</th>\n",
              "      <td>0.494033</td>\n",
              "    </tr>\n",
              "    <tr>\n",
              "      <th>min</th>\n",
              "      <td>0.000000</td>\n",
              "    </tr>\n",
              "    <tr>\n",
              "      <th>25%</th>\n",
              "      <td>0.000000</td>\n",
              "    </tr>\n",
              "    <tr>\n",
              "      <th>50%</th>\n",
              "      <td>1.000000</td>\n",
              "    </tr>\n",
              "    <tr>\n",
              "      <th>75%</th>\n",
              "      <td>1.000000</td>\n",
              "    </tr>\n",
              "    <tr>\n",
              "      <th>max</th>\n",
              "      <td>1.000000</td>\n",
              "    </tr>\n",
              "  </tbody>\n",
              "</table>\n",
              "</div>\n",
              "      <button class=\"colab-df-convert\" onclick=\"convertToInteractive('df-cf22fcd8-ea0e-48fc-856c-d6e8635b396e')\"\n",
              "              title=\"Convert this dataframe to an interactive table.\"\n",
              "              style=\"display:none;\">\n",
              "        \n",
              "  <svg xmlns=\"http://www.w3.org/2000/svg\" height=\"24px\"viewBox=\"0 0 24 24\"\n",
              "       width=\"24px\">\n",
              "    <path d=\"M0 0h24v24H0V0z\" fill=\"none\"/>\n",
              "    <path d=\"M18.56 5.44l.94 2.06.94-2.06 2.06-.94-2.06-.94-.94-2.06-.94 2.06-2.06.94zm-11 1L8.5 8.5l.94-2.06 2.06-.94-2.06-.94L8.5 2.5l-.94 2.06-2.06.94zm10 10l.94 2.06.94-2.06 2.06-.94-2.06-.94-.94-2.06-.94 2.06-2.06.94z\"/><path d=\"M17.41 7.96l-1.37-1.37c-.4-.4-.92-.59-1.43-.59-.52 0-1.04.2-1.43.59L10.3 9.45l-7.72 7.72c-.78.78-.78 2.05 0 2.83L4 21.41c.39.39.9.59 1.41.59.51 0 1.02-.2 1.41-.59l7.78-7.78 2.81-2.81c.8-.78.8-2.07 0-2.86zM5.41 20L4 18.59l7.72-7.72 1.47 1.35L5.41 20z\"/>\n",
              "  </svg>\n",
              "      </button>\n",
              "      \n",
              "  <style>\n",
              "    .colab-df-container {\n",
              "      display:flex;\n",
              "      flex-wrap:wrap;\n",
              "      gap: 12px;\n",
              "    }\n",
              "\n",
              "    .colab-df-convert {\n",
              "      background-color: #E8F0FE;\n",
              "      border: none;\n",
              "      border-radius: 50%;\n",
              "      cursor: pointer;\n",
              "      display: none;\n",
              "      fill: #1967D2;\n",
              "      height: 32px;\n",
              "      padding: 0 0 0 0;\n",
              "      width: 32px;\n",
              "    }\n",
              "\n",
              "    .colab-df-convert:hover {\n",
              "      background-color: #E2EBFA;\n",
              "      box-shadow: 0px 1px 2px rgba(60, 64, 67, 0.3), 0px 1px 3px 1px rgba(60, 64, 67, 0.15);\n",
              "      fill: #174EA6;\n",
              "    }\n",
              "\n",
              "    [theme=dark] .colab-df-convert {\n",
              "      background-color: #3B4455;\n",
              "      fill: #D2E3FC;\n",
              "    }\n",
              "\n",
              "    [theme=dark] .colab-df-convert:hover {\n",
              "      background-color: #434B5C;\n",
              "      box-shadow: 0px 1px 3px 1px rgba(0, 0, 0, 0.15);\n",
              "      filter: drop-shadow(0px 1px 2px rgba(0, 0, 0, 0.3));\n",
              "      fill: #FFFFFF;\n",
              "    }\n",
              "  </style>\n",
              "\n",
              "      <script>\n",
              "        const buttonEl =\n",
              "          document.querySelector('#df-cf22fcd8-ea0e-48fc-856c-d6e8635b396e button.colab-df-convert');\n",
              "        buttonEl.style.display =\n",
              "          google.colab.kernel.accessAllowed ? 'block' : 'none';\n",
              "\n",
              "        async function convertToInteractive(key) {\n",
              "          const element = document.querySelector('#df-cf22fcd8-ea0e-48fc-856c-d6e8635b396e');\n",
              "          const dataTable =\n",
              "            await google.colab.kernel.invokeFunction('convertToInteractive',\n",
              "                                                     [key], {});\n",
              "          if (!dataTable) return;\n",
              "\n",
              "          const docLinkHtml = 'Like what you see? Visit the ' +\n",
              "            '<a target=\"_blank\" href=https://colab.research.google.com/notebooks/data_table.ipynb>data table notebook</a>'\n",
              "            + ' to learn more about interactive tables.';\n",
              "          element.innerHTML = '';\n",
              "          dataTable['output_type'] = 'display_data';\n",
              "          await google.colab.output.renderOutput(dataTable, element);\n",
              "          const docLink = document.createElement('div');\n",
              "          docLink.innerHTML = docLinkHtml;\n",
              "          element.appendChild(docLink);\n",
              "        }\n",
              "      </script>\n",
              "    </div>\n",
              "  </div>\n",
              "  "
            ],
            "text/plain": [
              "             Gender\n",
              "count  26851.000000\n",
              "mean       0.577073\n",
              "std        0.494033\n",
              "min        0.000000\n",
              "25%        0.000000\n",
              "50%        1.000000\n",
              "75%        1.000000\n",
              "max        1.000000"
            ]
          },
          "metadata": {},
          "execution_count": 4
        }
      ]
    },
    {
      "cell_type": "code",
      "metadata": {
        "id": "8vfziq3UQ_8I"
      },
      "source": [
        "File_Train=pd.read_csv(\"/content/drive/MyDrive/DoAnMayHoc/UIT-ViNames/UIT-ViNames - Train.csv\")\n",
        "File_Test=pd.read_csv(\"/content/drive/MyDrive/DoAnMayHoc/UIT-ViNames/UIT-ViNames-Test.csv\")\n",
        "File_Dev= pd.read_csv(\"/content/drive/MyDrive/DoAnMayHoc/UIT-ViNames/UIT-ViNames - Dev.csv\")"
      ],
      "execution_count": null,
      "outputs": []
    },
    {
      "cell_type": "code",
      "source": [
        "print(len(File_Train)/len(DataFile))\n",
        "print(len(File_Test)/len(DataFile))\n",
        "print(len(File_Dev)/len(DataFile))"
      ],
      "metadata": {
        "colab": {
          "base_uri": "https://localhost:8080/"
        },
        "id": "MO0Eh6ZxB_gM",
        "outputId": "0bf86b98-7c09-44a3-ae11-fd657849b5a3"
      },
      "execution_count": null,
      "outputs": [
        {
          "output_type": "stream",
          "name": "stdout",
          "text": [
            "0.699973930207441\n",
            "0.19999255148784031\n",
            "0.10003351830471863\n"
          ]
        }
      ]
    },
    {
      "cell_type": "markdown",
      "metadata": {
        "id": "QkEZoZAJnGWR"
      },
      "source": [
        "# Phân chia dữ liệu"
      ]
    },
    {
      "cell_type": "code",
      "metadata": {
        "id": "Tl08AAFLwl1f"
      },
      "source": [
        "def Split_File(file):\n",
        "  i =0\n",
        "  file[\"First_Name\"]=file[\"Mid_Name\"]=file[\"Last_Name\"]=file.Full_Name\n",
        "  for FULL_NAME in file.Full_Name:\n",
        "    Name=FULL_NAME\n",
        "    Name_Split= Name.split()\n",
        "    file.First_Name[i]=Name_Split[0]\n",
        "    file.Mid_Name[i]=str(Name_Split[1:-1])\n",
        "    file.Last_Name[i]=Name_Split[-1]\n",
        "    i=i+1\n"
      ],
      "execution_count": null,
      "outputs": []
    },
    {
      "cell_type": "code",
      "metadata": {
        "colab": {
          "base_uri": "https://localhost:8080/"
        },
        "id": "4WcUUwd5TKLr",
        "outputId": "6d353c41-0910-40c4-a2ee-11ef7f696a6f"
      },
      "source": [
        "Split_File(DataFile)"
      ],
      "execution_count": null,
      "outputs": [
        {
          "output_type": "stream",
          "name": "stderr",
          "text": [
            "/usr/local/lib/python3.7/dist-packages/ipykernel_launcher.py:7: SettingWithCopyWarning: \n",
            "A value is trying to be set on a copy of a slice from a DataFrame\n",
            "\n",
            "See the caveats in the documentation: https://pandas.pydata.org/pandas-docs/stable/user_guide/indexing.html#returning-a-view-versus-a-copy\n",
            "  import sys\n",
            "/usr/local/lib/python3.7/dist-packages/ipykernel_launcher.py:8: SettingWithCopyWarning: \n",
            "A value is trying to be set on a copy of a slice from a DataFrame\n",
            "\n",
            "See the caveats in the documentation: https://pandas.pydata.org/pandas-docs/stable/user_guide/indexing.html#returning-a-view-versus-a-copy\n",
            "  \n",
            "/usr/local/lib/python3.7/dist-packages/ipykernel_launcher.py:9: SettingWithCopyWarning: \n",
            "A value is trying to be set on a copy of a slice from a DataFrame\n",
            "\n",
            "See the caveats in the documentation: https://pandas.pydata.org/pandas-docs/stable/user_guide/indexing.html#returning-a-view-versus-a-copy\n",
            "  if __name__ == '__main__':\n"
          ]
        }
      ]
    },
    {
      "cell_type": "code",
      "metadata": {
        "id": "NIi0tDhiwlKn",
        "colab": {
          "base_uri": "https://localhost:8080/",
          "height": 423
        },
        "outputId": "3b13a4f6-946b-4d99-f166-c6c08bf15357"
      },
      "source": [
        "DataFile"
      ],
      "execution_count": null,
      "outputs": [
        {
          "output_type": "execute_result",
          "data": {
            "text/html": [
              "\n",
              "  <div id=\"df-9a8866b5-5f0f-43a8-af81-d0753fdce495\">\n",
              "    <div class=\"colab-df-container\">\n",
              "      <div>\n",
              "<style scoped>\n",
              "    .dataframe tbody tr th:only-of-type {\n",
              "        vertical-align: middle;\n",
              "    }\n",
              "\n",
              "    .dataframe tbody tr th {\n",
              "        vertical-align: top;\n",
              "    }\n",
              "\n",
              "    .dataframe thead th {\n",
              "        text-align: right;\n",
              "    }\n",
              "</style>\n",
              "<table border=\"1\" class=\"dataframe\">\n",
              "  <thead>\n",
              "    <tr style=\"text-align: right;\">\n",
              "      <th></th>\n",
              "      <th>Full_Name</th>\n",
              "      <th>Gender</th>\n",
              "      <th>First_Name</th>\n",
              "      <th>Mid_Name</th>\n",
              "      <th>Last_Name</th>\n",
              "    </tr>\n",
              "  </thead>\n",
              "  <tbody>\n",
              "    <tr>\n",
              "      <th>0</th>\n",
              "      <td>Ngô Xuân Tùng</td>\n",
              "      <td>1</td>\n",
              "      <td>Ngô</td>\n",
              "      <td>['Xuân']</td>\n",
              "      <td>Tùng</td>\n",
              "    </tr>\n",
              "    <tr>\n",
              "      <th>1</th>\n",
              "      <td>Bùi Dương Thảo Vy</td>\n",
              "      <td>0</td>\n",
              "      <td>Bùi</td>\n",
              "      <td>['Dương', 'Thảo']</td>\n",
              "      <td>Vy</td>\n",
              "    </tr>\n",
              "    <tr>\n",
              "      <th>2</th>\n",
              "      <td>Lưu Thế Huy</td>\n",
              "      <td>1</td>\n",
              "      <td>Lưu</td>\n",
              "      <td>['Thế']</td>\n",
              "      <td>Huy</td>\n",
              "    </tr>\n",
              "    <tr>\n",
              "      <th>3</th>\n",
              "      <td>Nguyễn Thị Vân</td>\n",
              "      <td>0</td>\n",
              "      <td>Nguyễn</td>\n",
              "      <td>['Thị']</td>\n",
              "      <td>Vân</td>\n",
              "    </tr>\n",
              "    <tr>\n",
              "      <th>4</th>\n",
              "      <td>Dương Minh Long</td>\n",
              "      <td>1</td>\n",
              "      <td>Dương</td>\n",
              "      <td>['Minh']</td>\n",
              "      <td>Long</td>\n",
              "    </tr>\n",
              "    <tr>\n",
              "      <th>...</th>\n",
              "      <td>...</td>\n",
              "      <td>...</td>\n",
              "      <td>...</td>\n",
              "      <td>...</td>\n",
              "      <td>...</td>\n",
              "    </tr>\n",
              "    <tr>\n",
              "      <th>26846</th>\n",
              "      <td>Đoàn Thị Bảo Thu</td>\n",
              "      <td>0</td>\n",
              "      <td>Đoàn</td>\n",
              "      <td>['Thị', 'Bảo']</td>\n",
              "      <td>Thu</td>\n",
              "    </tr>\n",
              "    <tr>\n",
              "      <th>26847</th>\n",
              "      <td>Ôn Hoa Thu</td>\n",
              "      <td>1</td>\n",
              "      <td>Ôn</td>\n",
              "      <td>['Hoa']</td>\n",
              "      <td>Thu</td>\n",
              "    </tr>\n",
              "    <tr>\n",
              "      <th>26848</th>\n",
              "      <td>Nguyễn Thị Huỳnh Như</td>\n",
              "      <td>0</td>\n",
              "      <td>Nguyễn</td>\n",
              "      <td>['Thị', 'Huỳnh']</td>\n",
              "      <td>Như</td>\n",
              "    </tr>\n",
              "    <tr>\n",
              "      <th>26849</th>\n",
              "      <td>Nguyễn Thị Hồng Phúc</td>\n",
              "      <td>0</td>\n",
              "      <td>Nguyễn</td>\n",
              "      <td>['Thị', 'Hồng']</td>\n",
              "      <td>Phúc</td>\n",
              "    </tr>\n",
              "    <tr>\n",
              "      <th>26850</th>\n",
              "      <td>Dương Mỹ Uyên</td>\n",
              "      <td>0</td>\n",
              "      <td>Dương</td>\n",
              "      <td>['Mỹ']</td>\n",
              "      <td>Uyên</td>\n",
              "    </tr>\n",
              "  </tbody>\n",
              "</table>\n",
              "<p>26851 rows × 5 columns</p>\n",
              "</div>\n",
              "      <button class=\"colab-df-convert\" onclick=\"convertToInteractive('df-9a8866b5-5f0f-43a8-af81-d0753fdce495')\"\n",
              "              title=\"Convert this dataframe to an interactive table.\"\n",
              "              style=\"display:none;\">\n",
              "        \n",
              "  <svg xmlns=\"http://www.w3.org/2000/svg\" height=\"24px\"viewBox=\"0 0 24 24\"\n",
              "       width=\"24px\">\n",
              "    <path d=\"M0 0h24v24H0V0z\" fill=\"none\"/>\n",
              "    <path d=\"M18.56 5.44l.94 2.06.94-2.06 2.06-.94-2.06-.94-.94-2.06-.94 2.06-2.06.94zm-11 1L8.5 8.5l.94-2.06 2.06-.94-2.06-.94L8.5 2.5l-.94 2.06-2.06.94zm10 10l.94 2.06.94-2.06 2.06-.94-2.06-.94-.94-2.06-.94 2.06-2.06.94z\"/><path d=\"M17.41 7.96l-1.37-1.37c-.4-.4-.92-.59-1.43-.59-.52 0-1.04.2-1.43.59L10.3 9.45l-7.72 7.72c-.78.78-.78 2.05 0 2.83L4 21.41c.39.39.9.59 1.41.59.51 0 1.02-.2 1.41-.59l7.78-7.78 2.81-2.81c.8-.78.8-2.07 0-2.86zM5.41 20L4 18.59l7.72-7.72 1.47 1.35L5.41 20z\"/>\n",
              "  </svg>\n",
              "      </button>\n",
              "      \n",
              "  <style>\n",
              "    .colab-df-container {\n",
              "      display:flex;\n",
              "      flex-wrap:wrap;\n",
              "      gap: 12px;\n",
              "    }\n",
              "\n",
              "    .colab-df-convert {\n",
              "      background-color: #E8F0FE;\n",
              "      border: none;\n",
              "      border-radius: 50%;\n",
              "      cursor: pointer;\n",
              "      display: none;\n",
              "      fill: #1967D2;\n",
              "      height: 32px;\n",
              "      padding: 0 0 0 0;\n",
              "      width: 32px;\n",
              "    }\n",
              "\n",
              "    .colab-df-convert:hover {\n",
              "      background-color: #E2EBFA;\n",
              "      box-shadow: 0px 1px 2px rgba(60, 64, 67, 0.3), 0px 1px 3px 1px rgba(60, 64, 67, 0.15);\n",
              "      fill: #174EA6;\n",
              "    }\n",
              "\n",
              "    [theme=dark] .colab-df-convert {\n",
              "      background-color: #3B4455;\n",
              "      fill: #D2E3FC;\n",
              "    }\n",
              "\n",
              "    [theme=dark] .colab-df-convert:hover {\n",
              "      background-color: #434B5C;\n",
              "      box-shadow: 0px 1px 3px 1px rgba(0, 0, 0, 0.15);\n",
              "      filter: drop-shadow(0px 1px 2px rgba(0, 0, 0, 0.3));\n",
              "      fill: #FFFFFF;\n",
              "    }\n",
              "  </style>\n",
              "\n",
              "      <script>\n",
              "        const buttonEl =\n",
              "          document.querySelector('#df-9a8866b5-5f0f-43a8-af81-d0753fdce495 button.colab-df-convert');\n",
              "        buttonEl.style.display =\n",
              "          google.colab.kernel.accessAllowed ? 'block' : 'none';\n",
              "\n",
              "        async function convertToInteractive(key) {\n",
              "          const element = document.querySelector('#df-9a8866b5-5f0f-43a8-af81-d0753fdce495');\n",
              "          const dataTable =\n",
              "            await google.colab.kernel.invokeFunction('convertToInteractive',\n",
              "                                                     [key], {});\n",
              "          if (!dataTable) return;\n",
              "\n",
              "          const docLinkHtml = 'Like what you see? Visit the ' +\n",
              "            '<a target=\"_blank\" href=https://colab.research.google.com/notebooks/data_table.ipynb>data table notebook</a>'\n",
              "            + ' to learn more about interactive tables.';\n",
              "          element.innerHTML = '';\n",
              "          dataTable['output_type'] = 'display_data';\n",
              "          await google.colab.output.renderOutput(dataTable, element);\n",
              "          const docLink = document.createElement('div');\n",
              "          docLink.innerHTML = docLinkHtml;\n",
              "          element.appendChild(docLink);\n",
              "        }\n",
              "      </script>\n",
              "    </div>\n",
              "  </div>\n",
              "  "
            ],
            "text/plain": [
              "                  Full_Name  Gender First_Name           Mid_Name Last_Name\n",
              "0             Ngô Xuân Tùng       1        Ngô           ['Xuân']      Tùng\n",
              "1         Bùi Dương Thảo Vy       0        Bùi  ['Dương', 'Thảo']        Vy\n",
              "2               Lưu Thế Huy       1        Lưu            ['Thế']       Huy\n",
              "3            Nguyễn Thị Vân       0     Nguyễn            ['Thị']       Vân\n",
              "4           Dương Minh Long       1      Dương           ['Minh']      Long\n",
              "...                     ...     ...        ...                ...       ...\n",
              "26846      Đoàn Thị Bảo Thu       0       Đoàn     ['Thị', 'Bảo']       Thu\n",
              "26847            Ôn Hoa Thu       1         Ôn            ['Hoa']       Thu\n",
              "26848  Nguyễn Thị Huỳnh Như       0     Nguyễn   ['Thị', 'Huỳnh']       Như\n",
              "26849  Nguyễn Thị Hồng Phúc       0     Nguyễn    ['Thị', 'Hồng']      Phúc\n",
              "26850         Dương Mỹ Uyên       0      Dương             ['Mỹ']      Uyên\n",
              "\n",
              "[26851 rows x 5 columns]"
            ]
          },
          "metadata": {},
          "execution_count": 9
        }
      ]
    },
    {
      "cell_type": "code",
      "source": [
        "i =0\n",
        "for x in DataFile.First_Name:\n",
        "  if str(x)==\"Nguyễn\" or str(x)==\"nguyễn\":\n",
        "    i+=1\n",
        "print(i)\n"
      ],
      "metadata": {
        "colab": {
          "base_uri": "https://localhost:8080/"
        },
        "id": "VM561FMjM2Y-",
        "outputId": "a6d76bdf-ed96-461e-8894-9677fdd1ea0f"
      },
      "execution_count": null,
      "outputs": [
        {
          "output_type": "stream",
          "name": "stdout",
          "text": [
            "8517\n"
          ]
        }
      ]
    },
    {
      "cell_type": "code",
      "source": [
        "from sklearn.feature_extraction.text import CountVectorizer"
      ],
      "metadata": {
        "id": "nmFjGebL7fS2"
      },
      "execution_count": null,
      "outputs": []
    },
    {
      "cell_type": "code",
      "source": [
        "cv = CountVectorizer()\n",
        "X_train = cv.fit_transform(File_Train.Full_Names)\n",
        "y_train = File_Train.Gender\n",
        "X_test = cv.transform(File_Test.Full_Names)\n",
        "y_test = File_Test.Gender"
      ],
      "metadata": {
        "id": "E4I4pugU7hE_"
      },
      "execution_count": null,
      "outputs": []
    },
    {
      "cell_type": "code",
      "source": [
        "# hiển thị một số thông tin về dữ liệu \n",
        "print(\"Dữ liệu training = \", X_train.shape, y_train.shape)\n",
        "print(\"Dữ liệu testing = \", X_test.shape, y_test.shape)"
      ],
      "metadata": {
        "colab": {
          "base_uri": "https://localhost:8080/"
        },
        "id": "4gxZ7eLJ7vT5",
        "outputId": "1a41036c-f4d6-4fdc-a7fa-de62bcc7435e"
      },
      "execution_count": null,
      "outputs": [
        {
          "output_type": "stream",
          "name": "stdout",
          "text": [
            "Dữ liệu training =  (18795, 1292) (18795,)\n",
            "Dữ liệu testing =  (5370, 1292) (5370,)\n"
          ]
        }
      ]
    },
    {
      "cell_type": "markdown",
      "source": [
        "#hàm liên quan"
      ],
      "metadata": {
        "id": "UXk1ocax76Dm"
      }
    },
    {
      "cell_type": "code",
      "source": [
        "def Out_CSV(Model,Name_out):# xuất file CSV những kết quả sai của mô hình, đầu vào là kết quả của mô hình sau khi dự đoán, tên file out.\n",
        "  writer = csv.writer(open(\"/content/drive/MyDrive/DoAnMayHoc/\"+str(Name_out)+\".csv\", 'w'))\n",
        "  writer.writerow([\"Full_Names\",\"Gender_Predicted\",\"Gender_True\"])\n",
        "  i=0\n",
        "  for x in Model:\n",
        "    if (x != File_Test.Gender[i]):\n",
        "      writer.writerow([File_Test.Full_Names[i],x,File_Test.Gender[i]])\n",
        "      #arr_true.append([File_Test.Attr[i],x,File_CSV.Gender[i]])\n",
        "    i+=1"
      ],
      "metadata": {
        "id": "xxRI9_ze7-ru"
      },
      "execution_count": null,
      "outputs": []
    },
    {
      "cell_type": "code",
      "source": [
        "def gender_trans(Model,name): # Dự đoán\n",
        "    Name = [name]\n",
        "    vector = cv.transform(Name).toarray()\n",
        "    if Model.predict(vector) == 1:\n",
        "        print(\"Giới Tính: Nam\")\n",
        "    else:\n",
        "        print(\"Giới Tính: Nữ\")"
      ],
      "metadata": {
        "id": "FEMvabaUAOju"
      },
      "execution_count": null,
      "outputs": []
    },
    {
      "cell_type": "markdown",
      "metadata": {
        "id": "bCE2XDPXXIlr"
      },
      "source": [
        "#Mô hình NB"
      ]
    },
    {
      "cell_type": "code",
      "metadata": {
        "id": "I4gK6fS7kcBf"
      },
      "source": [
        "from sklearn.naive_bayes import MultinomialNB"
      ],
      "execution_count": null,
      "outputs": []
    },
    {
      "cell_type": "code",
      "metadata": {
        "colab": {
          "base_uri": "https://localhost:8080/"
        },
        "id": "4TUrglYLSAlg",
        "outputId": "e07cd849-c61d-4118-cf0e-06a4b643a691"
      },
      "source": [
        "print(\"- Training ...\")\n",
        "clf = MultinomialNB()\n",
        "clf.fit(X_train,y_train)\n",
        "print(\"- model - train complete\")"
      ],
      "execution_count": null,
      "outputs": [
        {
          "output_type": "stream",
          "name": "stdout",
          "text": [
            "- Training ...\n",
            "- model - train complete\n"
          ]
        }
      ]
    },
    {
      "cell_type": "code",
      "metadata": {
        "colab": {
          "base_uri": "https://localhost:8080/"
        },
        "id": "7-MIzqIOzUw8",
        "outputId": "a6730e62-5151-4c0a-f0a2-3a43c91ccf81"
      },
      "source": [
        "print(\"- Test ...\")\n",
        "clf.score(X_test,y_test)\n",
        "Pre_clf=clf.predict(X_test)"
      ],
      "execution_count": null,
      "outputs": [
        {
          "output_type": "stream",
          "name": "stdout",
          "text": [
            "- Test ...\n"
          ]
        }
      ]
    },
    {
      "cell_type": "code",
      "metadata": {
        "id": "rN5WRazh_8Ds"
      },
      "source": [
        "Out_CSV(Pre_clf,\"outNB\")"
      ],
      "execution_count": null,
      "outputs": []
    },
    {
      "cell_type": "code",
      "metadata": {
        "colab": {
          "base_uri": "https://localhost:8080/"
        },
        "id": "qlNbnqeLXTKL",
        "outputId": "7ef3fa93-0e91-4cd3-bcda-673f84451316"
      },
      "source": [
        "from sklearn.metrics import accuracy_score, precision_score, recall_score, f1_score, confusion_matrix\n",
        "print(\"Accuracy: \" + str(accuracy_score(y_test, Pre_clf)))\n",
        "print(\"Precision: \" + str(precision_score(y_test, Pre_clf)))\n",
        "print(\"Recall: \" + str(recall_score(y_test, Pre_clf)))\n",
        "print(\"F1-micro: \" + str(f1_score(y_test, Pre_clf)))\n",
        "print(\"F1-macro: \" + str(f1_score(y_test, Pre_clf, average='macro')))\n",
        "cf = confusion_matrix(y_test, Pre_clf)\n"
      ],
      "execution_count": null,
      "outputs": [
        {
          "output_type": "stream",
          "name": "stdout",
          "text": [
            "Accuracy: 0.9493482309124768\n",
            "Precision: 0.9558584875040571\n",
            "Recall: 0.9558584875040571\n",
            "F1-micro: 0.9558584875040571\n",
            "F1-macro: 0.948221947989687\n"
          ]
        }
      ]
    },
    {
      "cell_type": "code",
      "metadata": {
        "colab": {
          "base_uri": "https://localhost:8080/"
        },
        "id": "IGGn4iXRx--M",
        "outputId": "f8537d7b-8754-4d34-d82e-63ef86959bf5"
      },
      "source": [
        "from sklearn.metrics import classification_report\n",
        "print(classification_report(y_test, Pre_clf)) "
      ],
      "execution_count": null,
      "outputs": [
        {
          "output_type": "stream",
          "name": "stdout",
          "text": [
            "              precision    recall  f1-score   support\n",
            "\n",
            "           0       0.94      0.94      0.94      2289\n",
            "           1       0.96      0.96      0.96      3081\n",
            "\n",
            "    accuracy                           0.95      5370\n",
            "   macro avg       0.95      0.95      0.95      5370\n",
            "weighted avg       0.95      0.95      0.95      5370\n",
            "\n"
          ]
        }
      ]
    },
    {
      "cell_type": "code",
      "metadata": {
        "id": "Fb_XW6NOn7XP"
      },
      "source": [
        "from sklearn.metrics import confusion_matrix\n",
        "\n",
        "matrix_clf = confusion_matrix(y_test, Pre_clf)"
      ],
      "execution_count": null,
      "outputs": []
    },
    {
      "cell_type": "code",
      "metadata": {
        "colab": {
          "base_uri": "https://localhost:8080/",
          "height": 295
        },
        "id": "uIWoxJE2l_Hv",
        "outputId": "7614bfe7-191b-4173-bf6a-997b8cd0f9ab"
      },
      "source": [
        "import seaborn as sn\n",
        "import matplotlib.pyplot as plt\n",
        "\n",
        "sn.set(font_scale=1.4) \n",
        "sn.heatmap(matrix_clf, annot=True, annot_kws={\"size\": 16}, fmt='d') \n",
        "\n",
        "plt.xlabel('Predicted')\n",
        "plt.ylabel('True')\n",
        "plt.show()"
      ],
      "execution_count": null,
      "outputs": [
        {
          "output_type": "display_data",
          "data": {
            "image/png": "[encoded data removed]",
            "text/plain": [
              "<Figure size 432x288 with 2 Axes>"
            ]
          },
          "metadata": {}
        }
      ]
    },
    {
      "cell_type": "code",
      "metadata": {
        "colab": {
          "base_uri": "https://localhost:8080/"
        },
        "id": "r3E_yGtlU8GG",
        "outputId": "bbc25888-cfa3-44ce-81fc-e58952d10f4a"
      },
      "source": [
        "gender_trans(clf,\"H'Hen Niê\")"
      ],
      "execution_count": null,
      "outputs": [
        {
          "output_type": "stream",
          "name": "stdout",
          "text": [
            "Giới Tính: Nữ\n"
          ]
        }
      ]
    },
    {
      "cell_type": "markdown",
      "metadata": {
        "id": "n1reg7VrtF5l"
      },
      "source": [
        "# Mô hình SVM và GridSearchCV\n"
      ]
    },
    {
      "cell_type": "code",
      "metadata": {
        "id": "I6Ox4xD7tI5E"
      },
      "source": [
        "from sklearn import svm\n",
        "from sklearn.feature_extraction.text import CountVectorizer\n",
        "from sklearn.model_selection import train_test_split\n",
        "from sklearn.metrics import accuracy_score\n"
      ],
      "execution_count": null,
      "outputs": []
    },
    {
      "cell_type": "code",
      "metadata": {
        "id": "pXktOJyctTVM"
      },
      "source": [
        "X_train_SVM = cv.fit_transform(File_Train.Full_Names)\n",
        "y_train_SVM = File_Train.Gender\n",
        "X_test_SVM = cv.transform(File_Test.Full_Names)\n",
        "y_test_SVM = File_Test.Gender"
      ],
      "execution_count": null,
      "outputs": []
    },
    {
      "cell_type": "code",
      "metadata": {
        "colab": {
          "base_uri": "https://localhost:8080/"
        },
        "id": "P9ufo_b4t8ik",
        "outputId": "b8eda99d-9fe2-487c-d538-052bf4f91a33"
      },
      "source": [
        "# hiển thị một số thông tin về dữ liệu \n",
        "print(\"Dữ liệu training = \", X_train_SVM.shape, y_train_SVM.shape)\n",
        "print(\"Dữ liệu testing = \", X_test_SVM.shape, y_test_SVM.shape)"
      ],
      "execution_count": null,
      "outputs": [
        {
          "output_type": "stream",
          "name": "stdout",
          "text": [
            "Dữ liệu training =  (18795, 1292) (18795,)\n",
            "Dữ liệu testing =  (5370, 1292) (5370,)\n"
          ]
        }
      ]
    },
    {
      "cell_type": "code",
      "metadata": {
        "colab": {
          "base_uri": "https://localhost:8080/"
        },
        "id": "PuU_txSjuRVr",
        "outputId": "a06ded78-b86e-4136-876e-8850357945c8"
      },
      "source": [
        "print(\"- Training ...\")\n",
        "# X_train.shape\n",
        "print(\"- Train size = {}\".format(X_train_SVM.shape))\n",
        "module = svm.SVC(C=10, gamma=1, kernel='linear')\n",
        "module.fit(X_train_SVM, y_train_SVM)\n",
        "print(\"- model - train complete\")"
      ],
      "execution_count": null,
      "outputs": [
        {
          "output_type": "stream",
          "name": "stdout",
          "text": [
            "- Training ...\n",
            "- Train size = (18795, 1292)\n",
            "- model - train complete\n"
          ]
        }
      ]
    },
    {
      "cell_type": "code",
      "metadata": {
        "id": "TP_GBVL9uddc"
      },
      "source": [
        "y_pred = module.predict(X_test_SVM)\n",
        "Pre_svm=module.predict(X_test_SVM)"
      ],
      "execution_count": null,
      "outputs": []
    },
    {
      "cell_type": "code",
      "metadata": {
        "colab": {
          "base_uri": "https://localhost:8080/"
        },
        "id": "a1Zw1bk7inJf",
        "outputId": "b32a620e-ad79-455e-c98f-0aa534216f70"
      },
      "source": [
        "from sklearn.metrics import accuracy_score, precision_score, recall_score, f1_score\n",
        "print(\"Accuracy: \" + str(accuracy_score(y_test_SVM, Pre_clf)))\n",
        "print(\"Precision: \" + str(precision_score(y_test_SVM, Pre_clf)))\n",
        "print(\"Recall: \" + str(recall_score(y_test_SVM, Pre_clf)))\n",
        "print(\"F1-micro: \" + str(f1_score(y_test_SVM, Pre_clf)))\n",
        "print(\"F1-macro: \" + str(f1_score(y_test_SVM, Pre_clf, average='macro')))\n",
        "cf = confusion_matrix(y_test_SVM, Pre_clf)"
      ],
      "execution_count": null,
      "outputs": [
        {
          "output_type": "stream",
          "name": "stdout",
          "text": [
            "Accuracy: 0.9493482309124768\n",
            "Precision: 0.9558584875040571\n",
            "Recall: 0.9558584875040571\n",
            "F1-micro: 0.9558584875040571\n",
            "F1-macro: 0.948221947989687\n"
          ]
        }
      ]
    },
    {
      "cell_type": "code",
      "metadata": {
        "colab": {
          "base_uri": "https://localhost:8080/"
        },
        "id": "Rp_Qnz2Oyfyk",
        "outputId": "e63e7456-1b83-49f0-ceb5-d85881b7cc77"
      },
      "source": [
        "from sklearn.metrics import classification_report\n",
        "print(classification_report(y_test_SVM, Pre_svm)) "
      ],
      "execution_count": null,
      "outputs": [
        {
          "output_type": "stream",
          "name": "stdout",
          "text": [
            "              precision    recall  f1-score   support\n",
            "\n",
            "           0       0.96      0.93      0.94      2289\n",
            "           1       0.95      0.97      0.96      3081\n",
            "\n",
            "    accuracy                           0.95      5370\n",
            "   macro avg       0.95      0.95      0.95      5370\n",
            "weighted avg       0.95      0.95      0.95      5370\n",
            "\n"
          ]
        }
      ]
    },
    {
      "cell_type": "code",
      "metadata": {
        "id": "e5TZmnOloRcF"
      },
      "source": [
        "from sklearn.metrics import confusion_matrix\n",
        "\n",
        "matrix_svm = confusion_matrix(y_test_SVM, Pre_svm)"
      ],
      "execution_count": null,
      "outputs": []
    },
    {
      "cell_type": "code",
      "metadata": {
        "colab": {
          "base_uri": "https://localhost:8080/",
          "height": 295
        },
        "id": "DhnlVpKsmzKG",
        "outputId": "879d542a-d18f-41a5-f461-29b17aff5ce1"
      },
      "source": [
        "import seaborn as sn\n",
        "import matplotlib.pyplot as plt\n",
        "\n",
        "sn.set(font_scale=1.4) \n",
        "sn.heatmap(matrix_svm, annot=True, annot_kws={\"size\": 16}, fmt='d') \n",
        "\n",
        "plt.xlabel('Predicted')\n",
        "plt.ylabel('True')\n",
        "plt.show()"
      ],
      "execution_count": null,
      "outputs": [
        {
          "output_type": "display_data",
          "data": {
            "image/png": "[encoded data removed]",
            "text/plain": [
              "<Figure size 432x288 with 2 Axes>"
            ]
          },
          "metadata": {}
        }
      ]
    },
    {
      "cell_type": "code",
      "metadata": {
        "colab": {
          "base_uri": "https://localhost:8080/"
        },
        "id": "0rnoY8R4y8NE",
        "outputId": "8bc19436-0f3a-4d08-b61b-c871f58629fc"
      },
      "source": [
        "from sklearn.model_selection import GridSearchCV # link tham khảo:https://cafedev.vn/tu-hoc-ml-dieu-chinh-sieu-tham-so-svm-bang-gridsearchcv-ml/\n",
        "  \n",
        "# defining parameter range \n",
        "param_grid = {'C': [0.1, 1, 10],  \n",
        "              'gamma': [1, 0.1, 0.01], \n",
        "              'kernel': ['linear']}  \n",
        "  \n",
        "grid = GridSearchCV(svm.SVC(), param_grid, refit = True, verbose = 3) \n",
        "  \n",
        "# fitting the model for grid search \n",
        "grid.fit(X_train_SVM, y_train_SVM) "
      ],
      "execution_count": null,
      "outputs": [
        {
          "output_type": "stream",
          "name": "stdout",
          "text": [
            "Fitting 5 folds for each of 9 candidates, totalling 45 fits\n",
            "[CV 1/5] END .....C=0.1, gamma=1, kernel=linear;, score=0.904 total time=   2.1s\n",
            "[CV 2/5] END .....C=0.1, gamma=1, kernel=linear;, score=0.899 total time=   2.2s\n",
            "[CV 3/5] END .....C=0.1, gamma=1, kernel=linear;, score=0.900 total time=   2.2s\n",
            "[CV 4/5] END .....C=0.1, gamma=1, kernel=linear;, score=0.904 total time=   2.2s\n",
            "[CV 5/5] END .....C=0.1, gamma=1, kernel=linear;, score=0.899 total time=   2.2s\n",
            "[CV 1/5] END ...C=0.1, gamma=0.1, kernel=linear;, score=0.904 total time=   2.1s\n",
            "[CV 2/5] END ...C=0.1, gamma=0.1, kernel=linear;, score=0.899 total time=   2.1s\n",
            "[CV 3/5] END ...C=0.1, gamma=0.1, kernel=linear;, score=0.900 total time=   2.1s\n",
            "[CV 4/5] END ...C=0.1, gamma=0.1, kernel=linear;, score=0.904 total time=   2.2s\n",
            "[CV 5/5] END ...C=0.1, gamma=0.1, kernel=linear;, score=0.899 total time=   2.1s\n",
            "[CV 1/5] END ..C=0.1, gamma=0.01, kernel=linear;, score=0.904 total time=   2.1s\n",
            "[CV 2/5] END ..C=0.1, gamma=0.01, kernel=linear;, score=0.899 total time=   2.2s\n",
            "[CV 3/5] END ..C=0.1, gamma=0.01, kernel=linear;, score=0.900 total time=   2.1s\n",
            "[CV 4/5] END ..C=0.1, gamma=0.01, kernel=linear;, score=0.904 total time=   2.2s\n",
            "[CV 5/5] END ..C=0.1, gamma=0.01, kernel=linear;, score=0.899 total time=   2.1s\n",
            "[CV 1/5] END .......C=1, gamma=1, kernel=linear;, score=0.912 total time=   1.6s\n",
            "[CV 2/5] END .......C=1, gamma=1, kernel=linear;, score=0.911 total time=   1.7s\n",
            "[CV 3/5] END .......C=1, gamma=1, kernel=linear;, score=0.907 total time=   1.7s\n",
            "[CV 4/5] END .......C=1, gamma=1, kernel=linear;, score=0.914 total time=   1.7s\n",
            "[CV 5/5] END .......C=1, gamma=1, kernel=linear;, score=0.906 total time=   1.7s\n",
            "[CV 1/5] END .....C=1, gamma=0.1, kernel=linear;, score=0.912 total time=   1.6s\n",
            "[CV 2/5] END .....C=1, gamma=0.1, kernel=linear;, score=0.911 total time=   1.7s\n",
            "[CV 3/5] END .....C=1, gamma=0.1, kernel=linear;, score=0.907 total time=   1.7s\n",
            "[CV 4/5] END .....C=1, gamma=0.1, kernel=linear;, score=0.914 total time=   1.7s\n",
            "[CV 5/5] END .....C=1, gamma=0.1, kernel=linear;, score=0.906 total time=   1.6s\n",
            "[CV 1/5] END ....C=1, gamma=0.01, kernel=linear;, score=0.912 total time=   1.7s\n",
            "[CV 2/5] END ....C=1, gamma=0.01, kernel=linear;, score=0.911 total time=   1.7s\n",
            "[CV 3/5] END ....C=1, gamma=0.01, kernel=linear;, score=0.907 total time=   1.7s\n",
            "[CV 4/5] END ....C=1, gamma=0.01, kernel=linear;, score=0.914 total time=   1.7s\n",
            "[CV 5/5] END ....C=1, gamma=0.01, kernel=linear;, score=0.906 total time=   1.6s\n",
            "[CV 1/5] END ......C=10, gamma=1, kernel=linear;, score=0.912 total time=   2.1s\n",
            "[CV 2/5] END ......C=10, gamma=1, kernel=linear;, score=0.911 total time=   2.1s\n",
            "[CV 3/5] END ......C=10, gamma=1, kernel=linear;, score=0.907 total time=   2.1s\n",
            "[CV 4/5] END ......C=10, gamma=1, kernel=linear;, score=0.913 total time=   2.3s\n",
            "[CV 5/5] END ......C=10, gamma=1, kernel=linear;, score=0.905 total time=   2.0s\n",
            "[CV 1/5] END ....C=10, gamma=0.1, kernel=linear;, score=0.912 total time=   2.1s\n",
            "[CV 2/5] END ....C=10, gamma=0.1, kernel=linear;, score=0.911 total time=   2.2s\n",
            "[CV 3/5] END ....C=10, gamma=0.1, kernel=linear;, score=0.907 total time=   2.1s\n",
            "[CV 4/5] END ....C=10, gamma=0.1, kernel=linear;, score=0.913 total time=   2.2s\n",
            "[CV 5/5] END ....C=10, gamma=0.1, kernel=linear;, score=0.905 total time=   2.0s\n",
            "[CV 1/5] END ...C=10, gamma=0.01, kernel=linear;, score=0.912 total time=   2.1s\n",
            "[CV 2/5] END ...C=10, gamma=0.01, kernel=linear;, score=0.911 total time=   2.1s\n",
            "[CV 3/5] END ...C=10, gamma=0.01, kernel=linear;, score=0.907 total time=   2.1s\n",
            "[CV 4/5] END ...C=10, gamma=0.01, kernel=linear;, score=0.913 total time=   2.2s\n",
            "[CV 5/5] END ...C=10, gamma=0.01, kernel=linear;, score=0.905 total time=   2.1s\n"
          ]
        },
        {
          "output_type": "execute_result",
          "data": {
            "text/plain": [
              "GridSearchCV(estimator=SVC(),\n",
              "             param_grid={'C': [0.1, 1, 10], 'gamma': [1, 0.1, 0.01],\n",
              "                         'kernel': ['linear']},\n",
              "             verbose=3)"
            ]
          },
          "metadata": {},
          "execution_count": 41
        }
      ]
    },
    {
      "cell_type": "code",
      "metadata": {
        "id": "PGH981CHaDlb",
        "colab": {
          "base_uri": "https://localhost:8080/"
        },
        "outputId": "47a5d9ad-5b38-43b1-a3a9-2c9753195fce"
      },
      "source": [
        "predictions = grid.predict(X_test_SVM) \n",
        "print(classification_report(y_test_SVM, predictions))"
      ],
      "execution_count": null,
      "outputs": [
        {
          "output_type": "stream",
          "name": "stdout",
          "text": [
            "              precision    recall  f1-score   support\n",
            "\n",
            "           0       0.96      0.93      0.94      2289\n",
            "           1       0.95      0.97      0.96      3081\n",
            "\n",
            "    accuracy                           0.95      5370\n",
            "   macro avg       0.95      0.95      0.95      5370\n",
            "weighted avg       0.95      0.95      0.95      5370\n",
            "\n"
          ]
        }
      ]
    },
    {
      "cell_type": "code",
      "metadata": {
        "id": "loZt-RFIi6TB",
        "colab": {
          "base_uri": "https://localhost:8080/"
        },
        "outputId": "95b3f394-bd46-416a-b6fe-07e7c1f4c812"
      },
      "source": [
        "print(\"Thông số tốt nhất:\",grid.best_params_) \n",
        "print(\"Công cụ ướng tính tốt nhất:\",grid.best_estimator_) "
      ],
      "execution_count": null,
      "outputs": [
        {
          "output_type": "stream",
          "name": "stdout",
          "text": [
            "Thông số tốt nhất: {'C': 10, 'gamma': 1, 'kernel': 'linear'}\n",
            "Công cụ ướng tính tốt nhất: SVC(C=10, gamma=1, kernel='linear')\n"
          ]
        }
      ]
    },
    {
      "cell_type": "code",
      "metadata": {
        "id": "iAWmM1pt-JoN"
      },
      "source": [
        "def Out_CSV(Module,File_CSV): # mô hình,file csv cần xuất: Hàm xuất đúng  chỉ cần đổi tên file trong đg dẫn và phép so sánh => file CSV sai\n",
        "  writer = csv.writer(open(\"/content/drive/MyDrive/DoAnMayHoc/file_out_SVM.csv\", 'w'))\n",
        "  writer.writerow([\"Full_Names\",\"Gender_Predicted\",\"Gender_True\"])\n",
        "  i=0\n",
        "  for x in Module:\n",
        "    if (x != File_CSV.Gender[i]):\n",
        "      writer.writerow([File_CSV.Full_Names[i],x,File_CSV.Gender[i]])\n",
        "      #arr_true.append([File_Test.Attr[i],x,File_CSV.Gender[i]])\n",
        "    i+=1"
      ],
      "execution_count": null,
      "outputs": []
    },
    {
      "cell_type": "code",
      "metadata": {
        "id": "V9E4cYIh9C9-"
      },
      "source": [
        "Out_CSV(Pre_svm,File_Test)"
      ],
      "execution_count": null,
      "outputs": []
    },
    {
      "cell_type": "code",
      "metadata": {
        "id": "85v93HV1vTDE"
      },
      "source": [
        "def gender_trans_svm(name):\n",
        "    Name = [name]\n",
        "    vector = cv.transform(Name).toarray()\n",
        "    if module.predict(vector) == 1:\n",
        "        print(\"Giới Tính:Nam\")\n",
        "    else:\n",
        "        print(\"Giới Tính:Nữ\")"
      ],
      "execution_count": null,
      "outputs": []
    },
    {
      "cell_type": "code",
      "metadata": {
        "id": "DWWfhuTSxGat",
        "colab": {
          "base_uri": "https://localhost:8080/"
        },
        "outputId": "0fe94b11-52b7-42eb-f496-ca1556152136"
      },
      "source": [
        "gender_trans_svm(\"Ksor H’Bơ Khăp\")"
      ],
      "execution_count": null,
      "outputs": [
        {
          "output_type": "stream",
          "name": "stdout",
          "text": [
            "Giới Tính:Nữ\n"
          ]
        }
      ]
    },
    {
      "cell_type": "markdown",
      "metadata": {
        "id": "4w__6y4N4KOW"
      },
      "source": [
        "# Mô hình Logistic regression"
      ]
    },
    {
      "cell_type": "code",
      "metadata": {
        "id": "CMV1EOTS4Mw-"
      },
      "source": [
        "from sklearn.linear_model import LogisticRegression\n",
        "from sklearn.feature_extraction.text import CountVectorizer\n",
        "from sklearn.model_selection import train_test_split\n",
        "from sklearn.metrics import accuracy_score"
      ],
      "execution_count": null,
      "outputs": []
    },
    {
      "cell_type": "code",
      "metadata": {
        "colab": {
          "base_uri": "https://localhost:8080/"
        },
        "id": "lAVRPFUY8M9d",
        "outputId": "6d49753f-b070-48e3-c400-26eb083d15c8"
      },
      "source": [
        "print(File_Train.columns)"
      ],
      "execution_count": null,
      "outputs": [
        {
          "output_type": "stream",
          "name": "stdout",
          "text": [
            "Index(['Full_Names', 'Gender'], dtype='object')\n"
          ]
        }
      ]
    },
    {
      "cell_type": "code",
      "metadata": {
        "colab": {
          "base_uri": "https://localhost:8080/",
          "height": 206
        },
        "id": "eFaoKLFQ8V9O",
        "outputId": "7bf87455-e558-4fc2-80bb-62517fe8cd9d"
      },
      "source": [
        "File_Train.sample(5)"
      ],
      "execution_count": null,
      "outputs": [
        {
          "output_type": "execute_result",
          "data": {
            "text/html": [
              "\n",
              "  <div id=\"df-bac4c762-eef4-4f8a-990f-b31e0d1758dc\">\n",
              "    <div class=\"colab-df-container\">\n",
              "      <div>\n",
              "<style scoped>\n",
              "    .dataframe tbody tr th:only-of-type {\n",
              "        vertical-align: middle;\n",
              "    }\n",
              "\n",
              "    .dataframe tbody tr th {\n",
              "        vertical-align: top;\n",
              "    }\n",
              "\n",
              "    .dataframe thead th {\n",
              "        text-align: right;\n",
              "    }\n",
              "</style>\n",
              "<table border=\"1\" class=\"dataframe\">\n",
              "  <thead>\n",
              "    <tr style=\"text-align: right;\">\n",
              "      <th></th>\n",
              "      <th>Full_Names</th>\n",
              "      <th>Gender</th>\n",
              "    </tr>\n",
              "  </thead>\n",
              "  <tbody>\n",
              "    <tr>\n",
              "      <th>3005</th>\n",
              "      <td>Nguyễn Phương Phi</td>\n",
              "      <td>1</td>\n",
              "    </tr>\n",
              "    <tr>\n",
              "      <th>9775</th>\n",
              "      <td>Lê Dương Hoàng Ngân</td>\n",
              "      <td>0</td>\n",
              "    </tr>\n",
              "    <tr>\n",
              "      <th>17511</th>\n",
              "      <td>Trần Vĩnh Thành</td>\n",
              "      <td>1</td>\n",
              "    </tr>\n",
              "    <tr>\n",
              "      <th>533</th>\n",
              "      <td>Nguyễn Đăng Tuấn Dũng</td>\n",
              "      <td>1</td>\n",
              "    </tr>\n",
              "    <tr>\n",
              "      <th>2474</th>\n",
              "      <td>Nguyễn Thị Thu Hằng</td>\n",
              "      <td>0</td>\n",
              "    </tr>\n",
              "  </tbody>\n",
              "</table>\n",
              "</div>\n",
              "      <button class=\"colab-df-convert\" onclick=\"convertToInteractive('df-bac4c762-eef4-4f8a-990f-b31e0d1758dc')\"\n",
              "              title=\"Convert this dataframe to an interactive table.\"\n",
              "              style=\"display:none;\">\n",
              "        \n",
              "  <svg xmlns=\"http://www.w3.org/2000/svg\" height=\"24px\"viewBox=\"0 0 24 24\"\n",
              "       width=\"24px\">\n",
              "    <path d=\"M0 0h24v24H0V0z\" fill=\"none\"/>\n",
              "    <path d=\"M18.56 5.44l.94 2.06.94-2.06 2.06-.94-2.06-.94-.94-2.06-.94 2.06-2.06.94zm-11 1L8.5 8.5l.94-2.06 2.06-.94-2.06-.94L8.5 2.5l-.94 2.06-2.06.94zm10 10l.94 2.06.94-2.06 2.06-.94-2.06-.94-.94-2.06-.94 2.06-2.06.94z\"/><path d=\"M17.41 7.96l-1.37-1.37c-.4-.4-.92-.59-1.43-.59-.52 0-1.04.2-1.43.59L10.3 9.45l-7.72 7.72c-.78.78-.78 2.05 0 2.83L4 21.41c.39.39.9.59 1.41.59.51 0 1.02-.2 1.41-.59l7.78-7.78 2.81-2.81c.8-.78.8-2.07 0-2.86zM5.41 20L4 18.59l7.72-7.72 1.47 1.35L5.41 20z\"/>\n",
              "  </svg>\n",
              "      </button>\n",
              "      \n",
              "  <style>\n",
              "    .colab-df-container {\n",
              "      display:flex;\n",
              "      flex-wrap:wrap;\n",
              "      gap: 12px;\n",
              "    }\n",
              "\n",
              "    .colab-df-convert {\n",
              "      background-color: #E8F0FE;\n",
              "      border: none;\n",
              "      border-radius: 50%;\n",
              "      cursor: pointer;\n",
              "      display: none;\n",
              "      fill: #1967D2;\n",
              "      height: 32px;\n",
              "      padding: 0 0 0 0;\n",
              "      width: 32px;\n",
              "    }\n",
              "\n",
              "    .colab-df-convert:hover {\n",
              "      background-color: #E2EBFA;\n",
              "      box-shadow: 0px 1px 2px rgba(60, 64, 67, 0.3), 0px 1px 3px 1px rgba(60, 64, 67, 0.15);\n",
              "      fill: #174EA6;\n",
              "    }\n",
              "\n",
              "    [theme=dark] .colab-df-convert {\n",
              "      background-color: #3B4455;\n",
              "      fill: #D2E3FC;\n",
              "    }\n",
              "\n",
              "    [theme=dark] .colab-df-convert:hover {\n",
              "      background-color: #434B5C;\n",
              "      box-shadow: 0px 1px 3px 1px rgba(0, 0, 0, 0.15);\n",
              "      filter: drop-shadow(0px 1px 2px rgba(0, 0, 0, 0.3));\n",
              "      fill: #FFFFFF;\n",
              "    }\n",
              "  </style>\n",
              "\n",
              "      <script>\n",
              "        const buttonEl =\n",
              "          document.querySelector('#df-bac4c762-eef4-4f8a-990f-b31e0d1758dc button.colab-df-convert');\n",
              "        buttonEl.style.display =\n",
              "          google.colab.kernel.accessAllowed ? 'block' : 'none';\n",
              "\n",
              "        async function convertToInteractive(key) {\n",
              "          const element = document.querySelector('#df-bac4c762-eef4-4f8a-990f-b31e0d1758dc');\n",
              "          const dataTable =\n",
              "            await google.colab.kernel.invokeFunction('convertToInteractive',\n",
              "                                                     [key], {});\n",
              "          if (!dataTable) return;\n",
              "\n",
              "          const docLinkHtml = 'Like what you see? Visit the ' +\n",
              "            '<a target=\"_blank\" href=https://colab.research.google.com/notebooks/data_table.ipynb>data table notebook</a>'\n",
              "            + ' to learn more about interactive tables.';\n",
              "          element.innerHTML = '';\n",
              "          dataTable['output_type'] = 'display_data';\n",
              "          await google.colab.output.renderOutput(dataTable, element);\n",
              "          const docLink = document.createElement('div');\n",
              "          docLink.innerHTML = docLinkHtml;\n",
              "          element.appendChild(docLink);\n",
              "        }\n",
              "      </script>\n",
              "    </div>\n",
              "  </div>\n",
              "  "
            ],
            "text/plain": [
              "                  Full_Names  Gender\n",
              "3005       Nguyễn Phương Phi       1\n",
              "9775     Lê Dương Hoàng Ngân       0\n",
              "17511        Trần Vĩnh Thành       1\n",
              "533    Nguyễn Đăng Tuấn Dũng       1\n",
              "2474     Nguyễn Thị Thu Hằng       0"
            ]
          },
          "metadata": {},
          "execution_count": 43
        }
      ]
    },
    {
      "cell_type": "code",
      "metadata": {
        "id": "TmIZKbjW230W"
      },
      "source": [
        "cv = CountVectorizer()\n",
        "X_train_lg = cv.fit_transform(File_Train.Full_Names)\n",
        "y_train_lg = File_Train.Gender\n",
        "X_test_lg = cv.transform(File_Test.Full_Names)\n",
        "y_test_lg = File_Test.Gender"
      ],
      "execution_count": null,
      "outputs": []
    },
    {
      "cell_type": "code",
      "metadata": {
        "colab": {
          "base_uri": "https://localhost:8080/"
        },
        "id": "oXr386Gc9ZS-",
        "outputId": "f724e0ab-8c85-4f00-d42b-cf1792f2087a"
      },
      "source": [
        "print(\"Dữ liệu training = \", X_train_lg.shape, y_train_lg.shape)\n",
        "print(\"Dữ liệu testing = \", X_test_lg.shape, y_test_lg.shape)"
      ],
      "execution_count": null,
      "outputs": [
        {
          "output_type": "stream",
          "name": "stdout",
          "text": [
            "Dữ liệu training =  (18795, 1292) (18795,)\n",
            "Dữ liệu testing =  (5370, 1292) (5370,)\n"
          ]
        }
      ]
    },
    {
      "cell_type": "code",
      "metadata": {
        "colab": {
          "base_uri": "https://localhost:8080/"
        },
        "id": "SQWZH3jUBv8V",
        "outputId": "23108173-bf56-4b1e-9d2c-9d3d08b94294"
      },
      "source": [
        "model1 = LogisticRegression(C= 1.5103373646043785,penalty= 'l2')\n",
        "model1.fit(X_train_lg, y_train_lg)"
      ],
      "execution_count": null,
      "outputs": [
        {
          "output_type": "execute_result",
          "data": {
            "text/plain": [
              "LogisticRegression(C=1.5103373646043785)"
            ]
          },
          "metadata": {},
          "execution_count": 54
        }
      ]
    },
    {
      "cell_type": "code",
      "metadata": {
        "id": "zODEhiNKB1L1"
      },
      "source": [
        "y_pred1 = model1.predict(X_test_lg)"
      ],
      "execution_count": null,
      "outputs": []
    },
    {
      "cell_type": "code",
      "metadata": {
        "colab": {
          "base_uri": "https://localhost:8080/"
        },
        "id": "Spx3xjHnCJ_K",
        "outputId": "20c698e7-ac2a-4469-f9e8-6486c5cf89dd"
      },
      "source": [
        "from sklearn.metrics import accuracy_score, precision_score, recall_score, f1_score\n",
        "print(\"Accuracy: \" + str(accuracy_score(y_test_lg, y_pred1)))\n",
        "print(\"Precision: \" + str(precision_score(y_test_lg,y_pred1)))\n",
        "print(\"Recall: \" + str(recall_score(y_test_lg, y_pred1)))\n",
        "print(\"F1-micro: \" + str(f1_score(y_test_lg, y_pred1)))\n",
        "print(\"F1-macro: \" + str(f1_score(y_test_lg, y_pred1, average='macro')))\n",
        "cf = confusion_matrix(y_test_lg, y_pred1)"
      ],
      "execution_count": null,
      "outputs": [
        {
          "output_type": "stream",
          "name": "stdout",
          "text": [
            "Accuracy: 0.9553072625698324\n",
            "Precision: 0.9516693163751987\n",
            "Recall: 0.9714378448555664\n",
            "F1-micro: 0.9614519755862513\n",
            "F1-macro: 0.9541420267829351\n"
          ]
        }
      ]
    },
    {
      "cell_type": "code",
      "metadata": {
        "colab": {
          "base_uri": "https://localhost:8080/"
        },
        "id": "naNM6jdyp4Aj",
        "outputId": "e9dd1d21-e7de-41ae-aac9-548d63779cf4"
      },
      "source": [
        "from sklearn.metrics import classification_report\n",
        "print(classification_report(y_test_lg, y_pred1)) "
      ],
      "execution_count": null,
      "outputs": [
        {
          "output_type": "stream",
          "name": "stdout",
          "text": [
            "              precision    recall  f1-score   support\n",
            "\n",
            "           0       0.96      0.93      0.95      2289\n",
            "           1       0.95      0.97      0.96      3081\n",
            "\n",
            "    accuracy                           0.96      5370\n",
            "   macro avg       0.96      0.95      0.95      5370\n",
            "weighted avg       0.96      0.96      0.96      5370\n",
            "\n"
          ]
        }
      ]
    },
    {
      "cell_type": "code",
      "metadata": {
        "colab": {
          "base_uri": "https://localhost:8080/",
          "height": 295
        },
        "id": "V7F-4IxiD_CG",
        "outputId": "ce25d2d1-e7c5-4621-eab0-59cf0c980388"
      },
      "source": [
        "import seaborn as sn\n",
        "import matplotlib.pyplot as plt\n",
        "matrix_lg = confusion_matrix(y_test_lg, y_pred1)\n",
        "sn.set(font_scale=1.4) \n",
        "sn.heatmap(matrix_lg, annot=True, annot_kws={\"size\": 16}, fmt='d') \n",
        "\n",
        "plt.xlabel('Predicted')\n",
        "plt.ylabel('True')  \n",
        "plt.show()"
      ],
      "execution_count": null,
      "outputs": [
        {
          "output_type": "display_data",
          "data": {
            "image/png": "[encoded data removed]",
            "text/plain": [
              "<Figure size 432x288 with 2 Axes>"
            ]
          },
          "metadata": {}
        }
      ]
    },
    {
      "cell_type": "code",
      "metadata": {
        "id": "Qy9TsrHzIIbt"
      },
      "source": [
        "f1_model1 = f1_score(y_test_lg, y_pred1,average='macro')\n"
      ],
      "execution_count": null,
      "outputs": []
    },
    {
      "cell_type": "code",
      "source": [
        "def Out_CSV(Module,File_CSV): # mô hình,file csv cần xuất: Hàm xuất đúng  chỉ cần đổi tên file trong đg dẫn và phép so sánh => file CSV sai\n",
        "  writer = csv.writer(open(\"/content/drive/MyDrive/DoAnMayHoc/file_out_LG.csv\", 'w'))\n",
        "  writer.writerow([\"Full_Names\",\"Gender_Predicted\",\"Gender_True\"])\n",
        "  i=0\n",
        "  for x in Module:\n",
        "    if (x != File_CSV.Gender[i]):\n",
        "      writer.writerow([File_CSV.Full_Names[i],x,File_CSV.Gender[i]])\n",
        "      \n",
        "    i+=1"
      ],
      "metadata": {
        "id": "pFNOCVR_8WXZ"
      },
      "execution_count": null,
      "outputs": []
    },
    {
      "cell_type": "code",
      "source": [
        "Out_CSV(y_pred1,File_Test)"
      ],
      "metadata": {
        "id": "xgbsLTp-8eIi"
      },
      "execution_count": null,
      "outputs": []
    },
    {
      "cell_type": "code",
      "metadata": {
        "id": "nopcbmUFJL5l"
      },
      "source": [
        "def gender_trans_model1(name):\n",
        "    Name = [name]\n",
        "    vector = cv.transform(Name).toarray()\n",
        "    if model1.predict(vector) == 1:\n",
        "        print(\"Giới Tính: Nam\")\n",
        "    else:\n",
        "        print(\"Giới Tính: Nữ\")"
      ],
      "execution_count": null,
      "outputs": []
    },
    {
      "cell_type": "code",
      "metadata": {
        "colab": {
          "base_uri": "https://localhost:8080/"
        },
        "id": "CKIgvA6MJVUs",
        "outputId": "85b0c40f-6dae-4e37-fe16-2d9929c21d08"
      },
      "source": [
        "gender_trans_model1(\"Nguyễn Minh Châu\")"
      ],
      "execution_count": null,
      "outputs": [
        {
          "output_type": "stream",
          "name": "stdout",
          "text": [
            "Giới Tính: Nam\n"
          ]
        }
      ]
    },
    {
      "cell_type": "markdown",
      "metadata": {
        "id": "boWSdPgZ4NZG"
      },
      "source": [
        "# Mô hình KNN"
      ]
    },
    {
      "cell_type": "code",
      "metadata": {
        "id": "x7hCS1QM4SPW"
      },
      "source": [
        "from sklearn.neighbors import KNeighborsClassifier\n",
        "from sklearn.feature_extraction.text import CountVectorizer\n",
        "from sklearn.model_selection import train_test_split\n",
        "from sklearn.metrics import accuracy_score\n",
        "from sklearn.metrics import f1_score"
      ],
      "execution_count": null,
      "outputs": []
    },
    {
      "cell_type": "code",
      "metadata": {
        "id": "rNHb3AmoUl6L"
      },
      "source": [
        "X_train_KNN = cv.fit_transform(File_Train.Mid_Name,File_Train.Last_Name)\n",
        "y_train_KNN = File_Train.Gender\n",
        "X_test_KNN = cv.transform(File_Test.Full_Names)\n",
        "y_test_KNN = File_Test.Gender"
      ],
      "execution_count": null,
      "outputs": []
    },
    {
      "cell_type": "code",
      "metadata": {
        "colab": {
          "base_uri": "https://localhost:8080/"
        },
        "id": "VMHHm0zAkpRo",
        "outputId": "95317abe-ee18-4dd5-8c4d-2d783f54acfd"
      },
      "source": [
        "# hiển thị một số thông tin về dữ liệu \n",
        "print(\"Dữ liệu training = \", X_train_KNN.shape, y_train_KNN.shape)\n",
        "print(\"Dữ liệu testing = \", X_test_KNN.shape, y_test_KNN.shape)"
      ],
      "execution_count": null,
      "outputs": [
        {
          "output_type": "stream",
          "name": "stdout",
          "text": [
            "Dữ liệu training =  (18795, 523) (18795,)\n",
            "Dữ liệu testing =  (5370, 762) (5370,)\n"
          ]
        }
      ]
    },
    {
      "cell_type": "code",
      "metadata": {
        "colab": {
          "base_uri": "https://localhost:8080/"
        },
        "id": "2K96T1yC6TJP",
        "outputId": "d50d4a80-b224-4579-e259-827c726b7ac5"
      },
      "source": [
        "KNN = KNeighborsClassifier(n_neighbors=3)\n",
        "\n",
        "KNN.fit(X_train_KNN, y_train_KNN)"
      ],
      "execution_count": null,
      "outputs": [
        {
          "output_type": "execute_result",
          "data": {
            "text/plain": [
              "KNeighborsClassifier(n_neighbors=3)"
            ]
          },
          "metadata": {},
          "execution_count": 108
        }
      ]
    },
    {
      "cell_type": "code",
      "metadata": {
        "id": "1N1lvOgCG420",
        "colab": {
          "base_uri": "https://localhost:8080/",
          "height": 311
        },
        "outputId": "f8120e10-e228-4c83-a7c2-09fdd73d4f1b"
      },
      "source": [
        "Pre_KNN= KNN.predict(X_test_KNN)"
      ],
      "execution_count": null,
      "outputs": [
        {
          "output_type": "error",
          "ename": "ValueError",
          "evalue": "ignored",
          "traceback": [
            "\u001b[0;31m---------------------------------------------------------------------------\u001b[0m",
            "\u001b[0;31mValueError\u001b[0m                                Traceback (most recent call last)",
            "\u001b[0;32m<ipython-input-109-795b4cdafb02>\u001b[0m in \u001b[0;36m<module>\u001b[0;34m()\u001b[0m\n\u001b[0;32m----> 1\u001b[0;31m \u001b[0mPre_KNN\u001b[0m\u001b[0;34m=\u001b[0m \u001b[0mKNN\u001b[0m\u001b[0;34m.\u001b[0m\u001b[0mpredict\u001b[0m\u001b[0;34m(\u001b[0m\u001b[0mX_test_KNN\u001b[0m\u001b[0;34m)\u001b[0m\u001b[0;34m\u001b[0m\u001b[0;34m\u001b[0m\u001b[0m\n\u001b[0m",
            "\u001b[0;32m/usr/local/lib/python3.7/dist-packages/sklearn/neighbors/_classification.py\u001b[0m in \u001b[0;36mpredict\u001b[0;34m(self, X)\u001b[0m\n\u001b[1;32m    212\u001b[0m             \u001b[0mClass\u001b[0m \u001b[0mlabels\u001b[0m \u001b[0;32mfor\u001b[0m \u001b[0meach\u001b[0m \u001b[0mdata\u001b[0m \u001b[0msample\u001b[0m\u001b[0;34m.\u001b[0m\u001b[0;34m\u001b[0m\u001b[0;34m\u001b[0m\u001b[0m\n\u001b[1;32m    213\u001b[0m         \"\"\"\n\u001b[0;32m--> 214\u001b[0;31m         \u001b[0mneigh_dist\u001b[0m\u001b[0;34m,\u001b[0m \u001b[0mneigh_ind\u001b[0m \u001b[0;34m=\u001b[0m \u001b[0mself\u001b[0m\u001b[0;34m.\u001b[0m\u001b[0mkneighbors\u001b[0m\u001b[0;34m(\u001b[0m\u001b[0mX\u001b[0m\u001b[0;34m)\u001b[0m\u001b[0;34m\u001b[0m\u001b[0;34m\u001b[0m\u001b[0m\n\u001b[0m\u001b[1;32m    215\u001b[0m         \u001b[0mclasses_\u001b[0m \u001b[0;34m=\u001b[0m \u001b[0mself\u001b[0m\u001b[0;34m.\u001b[0m\u001b[0mclasses_\u001b[0m\u001b[0;34m\u001b[0m\u001b[0;34m\u001b[0m\u001b[0m\n\u001b[1;32m    216\u001b[0m         \u001b[0m_y\u001b[0m \u001b[0;34m=\u001b[0m \u001b[0mself\u001b[0m\u001b[0;34m.\u001b[0m\u001b[0m_y\u001b[0m\u001b[0;34m\u001b[0m\u001b[0;34m\u001b[0m\u001b[0m\n",
            "\u001b[0;32m/usr/local/lib/python3.7/dist-packages/sklearn/neighbors/_base.py\u001b[0m in \u001b[0;36mkneighbors\u001b[0;34m(self, X, n_neighbors, return_distance)\u001b[0m\n\u001b[1;32m    712\u001b[0m                 \u001b[0mX\u001b[0m \u001b[0;34m=\u001b[0m \u001b[0m_check_precomputed\u001b[0m\u001b[0;34m(\u001b[0m\u001b[0mX\u001b[0m\u001b[0;34m)\u001b[0m\u001b[0;34m\u001b[0m\u001b[0;34m\u001b[0m\u001b[0m\n\u001b[1;32m    713\u001b[0m             \u001b[0;32melse\u001b[0m\u001b[0;34m:\u001b[0m\u001b[0;34m\u001b[0m\u001b[0;34m\u001b[0m\u001b[0m\n\u001b[0;32m--> 714\u001b[0;31m                 \u001b[0mX\u001b[0m \u001b[0;34m=\u001b[0m \u001b[0mself\u001b[0m\u001b[0;34m.\u001b[0m\u001b[0m_validate_data\u001b[0m\u001b[0;34m(\u001b[0m\u001b[0mX\u001b[0m\u001b[0;34m,\u001b[0m \u001b[0maccept_sparse\u001b[0m\u001b[0;34m=\u001b[0m\u001b[0;34m\"csr\"\u001b[0m\u001b[0;34m,\u001b[0m \u001b[0mreset\u001b[0m\u001b[0;34m=\u001b[0m\u001b[0;32mFalse\u001b[0m\u001b[0;34m)\u001b[0m\u001b[0;34m\u001b[0m\u001b[0;34m\u001b[0m\u001b[0m\n\u001b[0m\u001b[1;32m    715\u001b[0m         \u001b[0;32melse\u001b[0m\u001b[0;34m:\u001b[0m\u001b[0;34m\u001b[0m\u001b[0;34m\u001b[0m\u001b[0m\n\u001b[1;32m    716\u001b[0m             \u001b[0mquery_is_train\u001b[0m \u001b[0;34m=\u001b[0m \u001b[0;32mTrue\u001b[0m\u001b[0;34m\u001b[0m\u001b[0;34m\u001b[0m\u001b[0m\n",
            "\u001b[0;32m/usr/local/lib/python3.7/dist-packages/sklearn/base.py\u001b[0m in \u001b[0;36m_validate_data\u001b[0;34m(self, X, y, reset, validate_separately, **check_params)\u001b[0m\n\u001b[1;32m    578\u001b[0m \u001b[0;34m\u001b[0m\u001b[0m\n\u001b[1;32m    579\u001b[0m         \u001b[0;32mif\u001b[0m \u001b[0;32mnot\u001b[0m \u001b[0mno_val_X\u001b[0m \u001b[0;32mand\u001b[0m \u001b[0mcheck_params\u001b[0m\u001b[0;34m.\u001b[0m\u001b[0mget\u001b[0m\u001b[0;34m(\u001b[0m\u001b[0;34m\"ensure_2d\"\u001b[0m\u001b[0;34m,\u001b[0m \u001b[0;32mTrue\u001b[0m\u001b[0;34m)\u001b[0m\u001b[0;34m:\u001b[0m\u001b[0;34m\u001b[0m\u001b[0;34m\u001b[0m\u001b[0m\n\u001b[0;32m--> 580\u001b[0;31m             \u001b[0mself\u001b[0m\u001b[0;34m.\u001b[0m\u001b[0m_check_n_features\u001b[0m\u001b[0;34m(\u001b[0m\u001b[0mX\u001b[0m\u001b[0;34m,\u001b[0m \u001b[0mreset\u001b[0m\u001b[0;34m=\u001b[0m\u001b[0mreset\u001b[0m\u001b[0;34m)\u001b[0m\u001b[0;34m\u001b[0m\u001b[0;34m\u001b[0m\u001b[0m\n\u001b[0m\u001b[1;32m    581\u001b[0m \u001b[0;34m\u001b[0m\u001b[0m\n\u001b[1;32m    582\u001b[0m         \u001b[0;32mreturn\u001b[0m \u001b[0mout\u001b[0m\u001b[0;34m\u001b[0m\u001b[0;34m\u001b[0m\u001b[0m\n",
            "\u001b[0;32m/usr/local/lib/python3.7/dist-packages/sklearn/base.py\u001b[0m in \u001b[0;36m_check_n_features\u001b[0;34m(self, X, reset)\u001b[0m\n\u001b[1;32m    394\u001b[0m         \u001b[0;32mif\u001b[0m \u001b[0mn_features\u001b[0m \u001b[0;34m!=\u001b[0m \u001b[0mself\u001b[0m\u001b[0;34m.\u001b[0m\u001b[0mn_features_in_\u001b[0m\u001b[0;34m:\u001b[0m\u001b[0;34m\u001b[0m\u001b[0;34m\u001b[0m\u001b[0m\n\u001b[1;32m    395\u001b[0m             raise ValueError(\n\u001b[0;32m--> 396\u001b[0;31m                 \u001b[0;34mf\"X has {n_features} features, but {self.__class__.__name__} \"\u001b[0m\u001b[0;34m\u001b[0m\u001b[0;34m\u001b[0m\u001b[0m\n\u001b[0m\u001b[1;32m    397\u001b[0m                 \u001b[0;34mf\"is expecting {self.n_features_in_} features as input.\"\u001b[0m\u001b[0;34m\u001b[0m\u001b[0;34m\u001b[0m\u001b[0m\n\u001b[1;32m    398\u001b[0m             )\n",
            "\u001b[0;31mValueError\u001b[0m: X has 762 features, but KNeighborsClassifier is expecting 523 features as input."
          ]
        }
      ]
    },
    {
      "cell_type": "code",
      "metadata": {
        "colab": {
          "base_uri": "https://localhost:8080/"
        },
        "id": "TE6oVpJEomMe",
        "outputId": "36316106-c755-43f6-be6b-f822000240fe"
      },
      "source": [
        "from sklearn.metrics import accuracy_score, precision_score, recall_score, f1_score\n",
        "print(\"Accuracy: \" + str(accuracy_score(y_test_KNN, Pre_KNN)))\n",
        "print(\"Precision: \" + str(precision_score(y_test_KNN, Pre_KNN)))\n",
        "print(\"Recall: \" + str(recall_score(y_test_KNN, Pre_KNN)))\n",
        "print(\"F1-micro: \" + str(f1_score(y_test_KNN, Pre_KNN)))\n",
        "print(\"F1-macro: \" + str(f1_score(y_test_KNN, Pre_KNN, average='macro')))\n",
        "cf = confusion_matrix(y_test_KNN, Pre_KNN)"
      ],
      "execution_count": null,
      "outputs": [
        {
          "output_type": "stream",
          "name": "stdout",
          "text": [
            "Accuracy: 0.862756052141527\n",
            "Precision: 0.8906666666666667\n",
            "Recall: 0.8672508925673482\n",
            "F1-micro: 0.8788028284821575\n",
            "F1-macro: 0.8603071880122743\n"
          ]
        }
      ]
    },
    {
      "cell_type": "code",
      "metadata": {
        "colab": {
          "base_uri": "https://localhost:8080/"
        },
        "id": "8g2wDmeHylEb",
        "outputId": "d9f46ab0-60cc-40dc-8f86-8020ac262b94"
      },
      "source": [
        "from sklearn.metrics import classification_report\n",
        "print(classification_report(y_test_KNN, Pre_KNN)) "
      ],
      "execution_count": null,
      "outputs": [
        {
          "output_type": "stream",
          "name": "stdout",
          "text": [
            "              precision    recall  f1-score   support\n",
            "\n",
            "           0       0.83      0.86      0.84      2289\n",
            "           1       0.89      0.87      0.88      3081\n",
            "\n",
            "    accuracy                           0.86      5370\n",
            "   macro avg       0.86      0.86      0.86      5370\n",
            "weighted avg       0.86      0.86      0.86      5370\n",
            "\n"
          ]
        }
      ]
    },
    {
      "cell_type": "code",
      "metadata": {
        "colab": {
          "base_uri": "https://localhost:8080/",
          "height": 295
        },
        "id": "ps53Bwkmo8_l",
        "outputId": "0d7ae0f8-27d4-4404-8146-2e3af37e8de9"
      },
      "source": [
        "from sklearn.metrics import confusion_matrix\n",
        "import seaborn as sn\n",
        "import matplotlib.pyplot as plt\n",
        "\n",
        "matrix_knn = confusion_matrix(y_test_KNN, Pre_KNN)\n",
        "sn.set(font_scale=1.4) \n",
        "sn.heatmap(matrix_knn, annot=True, annot_kws={\"size\": 16}, fmt='d') \n",
        "\n",
        "plt.xlabel('Predicted')\n",
        "plt.ylabel('True')\n",
        "plt.show()"
      ],
      "execution_count": null,
      "outputs": [
        {
          "output_type": "display_data",
          "data": {
            "image/png": "[encoded data removed]",
            "text/plain": [
              "<Figure size 432x288 with 2 Axes>"
            ]
          },
          "metadata": {}
        }
      ]
    },
    {
      "cell_type": "code",
      "metadata": {
        "id": "DGHgqjrXnNBY",
        "colab": {
          "base_uri": "https://localhost:8080/"
        },
        "outputId": "2eaba355-8daa-4cd4-e6ea-8eb1141746cd"
      },
      "source": [
        "y_pred = KNN.predict(X_test_KNN)\n",
        "f1_knn = f1_score(y_test_KNN, y_pred,average='macro')\n",
        "print(f1_knn)"
      ],
      "execution_count": null,
      "outputs": [
        {
          "output_type": "stream",
          "name": "stdout",
          "text": [
            "0.9134023115631205\n"
          ]
        }
      ]
    },
    {
      "cell_type": "code",
      "metadata": {
        "id": "16M0YK3jVJgU"
      },
      "source": [
        "def gender_trans_knn(name):\n",
        "    Name = [name]\n",
        "    vector = cv.transform(Name).toarray()\n",
        "    if KNN.predict(vector) == 1:\n",
        "        print(\"Giới Tính:Nam\")\n",
        "    else:\n",
        "        print(\"Giới Tính:Nữ\")"
      ],
      "execution_count": null,
      "outputs": []
    },
    {
      "cell_type": "code",
      "metadata": {
        "colab": {
          "base_uri": "https://localhost:8080/"
        },
        "id": "C0tCl7o2VVTj",
        "outputId": "3086f7a9-6228-4675-e95b-57fedcaa56f5"
      },
      "source": [
        "gender_trans_knn(\"Tú Anh\")"
      ],
      "execution_count": null,
      "outputs": [
        {
          "output_type": "stream",
          "name": "stdout",
          "text": [
            "Giới Tính:Nữ\n"
          ]
        }
      ]
    },
    {
      "cell_type": "markdown",
      "metadata": {
        "id": "643UI70hZie6"
      },
      "source": [
        "# Decision Tree"
      ]
    },
    {
      "cell_type": "code",
      "metadata": {
        "id": "B3DtTWI6NJxX"
      },
      "source": [
        "from sklearn.tree import DecisionTreeClassifier"
      ],
      "execution_count": null,
      "outputs": []
    },
    {
      "cell_type": "code",
      "metadata": {
        "colab": {
          "base_uri": "https://localhost:8080/"
        },
        "id": "ygnDHOHuNLI_",
        "outputId": "7afba4e2-93af-4543-cfc2-a35a737c70a0"
      },
      "source": [
        "import time \n",
        "\n",
        "start_time = time.time()\n",
        "\n",
        "dtc = DecisionTreeClassifier(random_state=0,max_depth=65)\n",
        "dtc.fit(X_train_SVM,y_train_SVM)\n",
        "\n",
        "print(\"---- Mất {} để huấn luyện mô hình ----\".format((time.time() - start_time)))"
      ],
      "execution_count": null,
      "outputs": [
        {
          "output_type": "stream",
          "name": "stdout",
          "text": [
            "---- Mất 0.23913073539733887 để huấn luyện mô hình ----\n"
          ]
        }
      ]
    },
    {
      "cell_type": "code",
      "metadata": {
        "colab": {
          "base_uri": "https://localhost:8080/"
        },
        "id": "t2mmppZgOIVQ",
        "outputId": "39d115e7-3835-446b-8a64-cb1b0d6a71ca"
      },
      "source": [
        "predictions_DT = dtc.predict(X_test_SVM)\n",
        "\n",
        "# Use accuracy_score function to get the accuracy\n",
        "print(\"SVM Accuracy Score -> \",accuracy_score(predictions_DT , y_test_SVM)*100)"
      ],
      "execution_count": null,
      "outputs": [
        {
          "output_type": "stream",
          "name": "stdout",
          "text": [
            "SVM Accuracy Score ->  93.7243947858473\n"
          ]
        }
      ]
    }
  ]
}