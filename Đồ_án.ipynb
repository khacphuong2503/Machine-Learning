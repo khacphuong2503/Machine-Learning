{
  "nbformat": 4,
  "nbformat_minor": 0,
  "metadata": {
    "colab": {
      "provenance": [],
      "collapsed_sections": [],
      "toc_visible": true,
      "include_colab_link": true
    },
    "kernelspec": {
      "display_name": "Python 3",
      "name": "python3"
    },
    "language_info": {
      "name": "python"
    }
  },
  "cells": [
    {
      "cell_type": "markdown",
      "metadata": {
        "id": "view-in-github",
        "colab_type": "text"
      },
      "source": [
        "<a href=\"https://colab.research.google.com/github/khacphuong2503/Machine-Learning/blob/main/%C4%90%E1%BB%93_%C3%A1n.ipynb\" target=\"_parent\"><img src=\"https://colab.research.google.com/assets/colab-badge.svg\" alt=\"Open In Colab\"/></a>"
      ]
    },
    {
      "cell_type": "code",
      "metadata": {
        "colab": {
          "base_uri": "https://localhost:8080/"
        },
        "id": "lIe9D1yBdpzL",
        "outputId": "d1888138-6b38-4a16-c776-770c8878ef0e"
      },
      "source": [
        "from google.colab import drive\n",
        "drive.mount('/content/drive')"
      ],
      "execution_count": 1,
      "outputs": [
        {
          "output_type": "stream",
          "name": "stdout",
          "text": [
            "Mounted at /content/drive\n"
          ]
        }
      ]
    },
    {
      "cell_type": "code",
      "metadata": {
        "id": "dopQuMdzPBXY"
      },
      "source": [
        "import numpy as np\n",
        "import pandas as pd\n",
        "DataFile=pd.read_csv(\"/content/drive/MyDrive/DS102/UIT-ViNames/UIT-ViNames - Train.csv\")"
      ],
      "execution_count": 2,
      "outputs": []
    },
    {
      "cell_type": "code",
      "metadata": {
        "colab": {
          "base_uri": "https://localhost:8080/"
        },
        "id": "51zPr5qLPUKo",
        "outputId": "cd33e6d9-0dcf-48a4-faa0-e670c13cdde9"
      },
      "source": [
        "print(DataFile)\n",
        "print('Giới tính nam',DataFile[DataFile.Gender==1].size)\n",
        "print('Giới tính nữ',DataFile[DataFile.Gender==0].size)\n",
        "print('Điểm dữ liệu',len(DataFile))"
      ],
      "execution_count": 3,
      "outputs": [
        {
          "output_type": "stream",
          "name": "stdout",
          "text": [
            "                    Full_Names  Gender\n",
            "0                Ngô Xuân Tùng       1\n",
            "1            Bùi Dương Thảo Vy       0\n",
            "2                  Lưu Thế Huy       1\n",
            "3               Nguyễn Thị Vân       0\n",
            "4              Dương Minh Long       1\n",
            "...                        ...     ...\n",
            "18790     Trần Nguyễn Tường Vy       0\n",
            "18791              Phan Hải Âu       1\n",
            "18792  Phạm Trương Trúc Phương       0\n",
            "18793         Nguyễn Diệu Hiền       0\n",
            "18794     Nguyễn Đoàn Thảo Nhi       0\n",
            "\n",
            "[18795 rows x 2 columns]\n",
            "Giới tính nam 21648\n",
            "Giới tính nữ 15942\n",
            "Điểm dữ liệu 18795\n"
          ]
        }
      ]
    },
    {
      "cell_type": "code",
      "metadata": {
        "colab": {
          "base_uri": "https://localhost:8080/",
          "height": 300
        },
        "id": "2sENeMrGq4Jv",
        "outputId": "f499a71c-c3a9-4b57-f5f7-b856edb279ba"
      },
      "source": [
        "DataFile.describe()"
      ],
      "execution_count": 4,
      "outputs": [
        {
          "output_type": "execute_result",
          "data": {
            "text/plain": [
              "             Gender\n",
              "count  18795.000000\n",
              "mean       0.575898\n",
              "std        0.494219\n",
              "min        0.000000\n",
              "25%        0.000000\n",
              "50%        1.000000\n",
              "75%        1.000000\n",
              "max        1.000000"
            ],
            "text/html": [
              "\n",
              "  <div id=\"df-dbb73a41-7623-4fdd-a0b8-12753089798d\">\n",
              "    <div class=\"colab-df-container\">\n",
              "      <div>\n",
              "<style scoped>\n",
              "    .dataframe tbody tr th:only-of-type {\n",
              "        vertical-align: middle;\n",
              "    }\n",
              "\n",
              "    .dataframe tbody tr th {\n",
              "        vertical-align: top;\n",
              "    }\n",
              "\n",
              "    .dataframe thead th {\n",
              "        text-align: right;\n",
              "    }\n",
              "</style>\n",
              "<table border=\"1\" class=\"dataframe\">\n",
              "  <thead>\n",
              "    <tr style=\"text-align: right;\">\n",
              "      <th></th>\n",
              "      <th>Gender</th>\n",
              "    </tr>\n",
              "  </thead>\n",
              "  <tbody>\n",
              "    <tr>\n",
              "      <th>count</th>\n",
              "      <td>18795.000000</td>\n",
              "    </tr>\n",
              "    <tr>\n",
              "      <th>mean</th>\n",
              "      <td>0.575898</td>\n",
              "    </tr>\n",
              "    <tr>\n",
              "      <th>std</th>\n",
              "      <td>0.494219</td>\n",
              "    </tr>\n",
              "    <tr>\n",
              "      <th>min</th>\n",
              "      <td>0.000000</td>\n",
              "    </tr>\n",
              "    <tr>\n",
              "      <th>25%</th>\n",
              "      <td>0.000000</td>\n",
              "    </tr>\n",
              "    <tr>\n",
              "      <th>50%</th>\n",
              "      <td>1.000000</td>\n",
              "    </tr>\n",
              "    <tr>\n",
              "      <th>75%</th>\n",
              "      <td>1.000000</td>\n",
              "    </tr>\n",
              "    <tr>\n",
              "      <th>max</th>\n",
              "      <td>1.000000</td>\n",
              "    </tr>\n",
              "  </tbody>\n",
              "</table>\n",
              "</div>\n",
              "      <button class=\"colab-df-convert\" onclick=\"convertToInteractive('df-dbb73a41-7623-4fdd-a0b8-12753089798d')\"\n",
              "              title=\"Convert this dataframe to an interactive table.\"\n",
              "              style=\"display:none;\">\n",
              "        \n",
              "  <svg xmlns=\"http://www.w3.org/2000/svg\" height=\"24px\"viewBox=\"0 0 24 24\"\n",
              "       width=\"24px\">\n",
              "    <path d=\"M0 0h24v24H0V0z\" fill=\"none\"/>\n",
              "    <path d=\"M18.56 5.44l.94 2.06.94-2.06 2.06-.94-2.06-.94-.94-2.06-.94 2.06-2.06.94zm-11 1L8.5 8.5l.94-2.06 2.06-.94-2.06-.94L8.5 2.5l-.94 2.06-2.06.94zm10 10l.94 2.06.94-2.06 2.06-.94-2.06-.94-.94-2.06-.94 2.06-2.06.94z\"/><path d=\"M17.41 7.96l-1.37-1.37c-.4-.4-.92-.59-1.43-.59-.52 0-1.04.2-1.43.59L10.3 9.45l-7.72 7.72c-.78.78-.78 2.05 0 2.83L4 21.41c.39.39.9.59 1.41.59.51 0 1.02-.2 1.41-.59l7.78-7.78 2.81-2.81c.8-.78.8-2.07 0-2.86zM5.41 20L4 18.59l7.72-7.72 1.47 1.35L5.41 20z\"/>\n",
              "  </svg>\n",
              "      </button>\n",
              "      \n",
              "  <style>\n",
              "    .colab-df-container {\n",
              "      display:flex;\n",
              "      flex-wrap:wrap;\n",
              "      gap: 12px;\n",
              "    }\n",
              "\n",
              "    .colab-df-convert {\n",
              "      background-color: #E8F0FE;\n",
              "      border: none;\n",
              "      border-radius: 50%;\n",
              "      cursor: pointer;\n",
              "      display: none;\n",
              "      fill: #1967D2;\n",
              "      height: 32px;\n",
              "      padding: 0 0 0 0;\n",
              "      width: 32px;\n",
              "    }\n",
              "\n",
              "    .colab-df-convert:hover {\n",
              "      background-color: #E2EBFA;\n",
              "      box-shadow: 0px 1px 2px rgba(60, 64, 67, 0.3), 0px 1px 3px 1px rgba(60, 64, 67, 0.15);\n",
              "      fill: #174EA6;\n",
              "    }\n",
              "\n",
              "    [theme=dark] .colab-df-convert {\n",
              "      background-color: #3B4455;\n",
              "      fill: #D2E3FC;\n",
              "    }\n",
              "\n",
              "    [theme=dark] .colab-df-convert:hover {\n",
              "      background-color: #434B5C;\n",
              "      box-shadow: 0px 1px 3px 1px rgba(0, 0, 0, 0.15);\n",
              "      filter: drop-shadow(0px 1px 2px rgba(0, 0, 0, 0.3));\n",
              "      fill: #FFFFFF;\n",
              "    }\n",
              "  </style>\n",
              "\n",
              "      <script>\n",
              "        const buttonEl =\n",
              "          document.querySelector('#df-dbb73a41-7623-4fdd-a0b8-12753089798d button.colab-df-convert');\n",
              "        buttonEl.style.display =\n",
              "          google.colab.kernel.accessAllowed ? 'block' : 'none';\n",
              "\n",
              "        async function convertToInteractive(key) {\n",
              "          const element = document.querySelector('#df-dbb73a41-7623-4fdd-a0b8-12753089798d');\n",
              "          const dataTable =\n",
              "            await google.colab.kernel.invokeFunction('convertToInteractive',\n",
              "                                                     [key], {});\n",
              "          if (!dataTable) return;\n",
              "\n",
              "          const docLinkHtml = 'Like what you see? Visit the ' +\n",
              "            '<a target=\"_blank\" href=https://colab.research.google.com/notebooks/data_table.ipynb>data table notebook</a>'\n",
              "            + ' to learn more about interactive tables.';\n",
              "          element.innerHTML = '';\n",
              "          dataTable['output_type'] = 'display_data';\n",
              "          await google.colab.output.renderOutput(dataTable, element);\n",
              "          const docLink = document.createElement('div');\n",
              "          docLink.innerHTML = docLinkHtml;\n",
              "          element.appendChild(docLink);\n",
              "        }\n",
              "      </script>\n",
              "    </div>\n",
              "  </div>\n",
              "  "
            ]
          },
          "metadata": {},
          "execution_count": 4
        }
      ]
    },
    {
      "cell_type": "code",
      "metadata": {
        "id": "8vfziq3UQ_8I"
      },
      "source": [
        "File_Train=pd.read_csv(\"/content/drive/MyDrive/DS102/UIT-ViNames/UIT-ViNames - Train.csv\")\n",
        "File_Test=pd.read_csv(\"/content/drive/MyDrive/DS102/UIT-ViNames/UIT-ViNames-Test.csv\")"
      ],
      "execution_count": 5,
      "outputs": []
    },
    {
      "cell_type": "markdown",
      "metadata": {
        "id": "QkEZoZAJnGWR"
      },
      "source": [
        "# Phân chia dữ liệu"
      ]
    },
    {
      "cell_type": "code",
      "metadata": {
        "id": "Tl08AAFLwl1f"
      },
      "source": [
        "def Split_File(file):\n",
        "  i =0\n",
        "  file[\"First_Name\"]=file[\"Mid_Name\"]=file[\"Last_Name\"]=file.Full_Names\n",
        "  for FULL_NAME in file.Full_Names:\n",
        "    Name=FULL_NAME\n",
        "    Name_Split= Name.split()\n",
        "    file.First_Name[i]=Name_Split[0]\n",
        "    file.Mid_Name[i]=str(Name_Split[1:-1])\n",
        "    file.Last_Name[i]=Name_Split[-1]\n",
        "    i=i+1\n"
      ],
      "execution_count": 6,
      "outputs": []
    },
    {
      "cell_type": "code",
      "metadata": {
        "colab": {
          "base_uri": "https://localhost:8080/"
        },
        "id": "4WcUUwd5TKLr",
        "outputId": "07acecc8-880f-4703-a435-1952f12e5f7a"
      },
      "source": [
        "Split_File(File_Train)"
      ],
      "execution_count": 7,
      "outputs": [
        {
          "output_type": "stream",
          "name": "stderr",
          "text": [
            "/usr/local/lib/python3.7/dist-packages/ipykernel_launcher.py:7: SettingWithCopyWarning: \n",
            "A value is trying to be set on a copy of a slice from a DataFrame\n",
            "\n",
            "See the caveats in the documentation: https://pandas.pydata.org/pandas-docs/stable/user_guide/indexing.html#returning-a-view-versus-a-copy\n",
            "  import sys\n",
            "/usr/local/lib/python3.7/dist-packages/ipykernel_launcher.py:8: SettingWithCopyWarning: \n",
            "A value is trying to be set on a copy of a slice from a DataFrame\n",
            "\n",
            "See the caveats in the documentation: https://pandas.pydata.org/pandas-docs/stable/user_guide/indexing.html#returning-a-view-versus-a-copy\n",
            "  \n",
            "/usr/local/lib/python3.7/dist-packages/ipykernel_launcher.py:9: SettingWithCopyWarning: \n",
            "A value is trying to be set on a copy of a slice from a DataFrame\n",
            "\n",
            "See the caveats in the documentation: https://pandas.pydata.org/pandas-docs/stable/user_guide/indexing.html#returning-a-view-versus-a-copy\n",
            "  if __name__ == '__main__':\n"
          ]
        }
      ]
    },
    {
      "cell_type": "code",
      "metadata": {
        "id": "NIi0tDhiwlKn",
        "colab": {
          "base_uri": "https://localhost:8080/",
          "height": 424
        },
        "outputId": "0a8d28a9-3409-4c17-c33e-34af31bb997e"
      },
      "source": [
        "File_Train"
      ],
      "execution_count": 8,
      "outputs": [
        {
          "output_type": "execute_result",
          "data": {
            "text/plain": [
              "                    Full_Names  Gender First_Name             Mid_Name  \\\n",
              "0                Ngô Xuân Tùng       1        Ngô             ['Xuân']   \n",
              "1            Bùi Dương Thảo Vy       0        Bùi    ['Dương', 'Thảo']   \n",
              "2                  Lưu Thế Huy       1        Lưu              ['Thế']   \n",
              "3               Nguyễn Thị Vân       0     Nguyễn              ['Thị']   \n",
              "4              Dương Minh Long       1      Dương             ['Minh']   \n",
              "...                        ...     ...        ...                  ...   \n",
              "18790     Trần Nguyễn Tường Vy       0       Trần  ['Nguyễn', 'Tường']   \n",
              "18791              Phan Hải Âu       1       Phan              ['Hải']   \n",
              "18792  Phạm Trương Trúc Phương       0       Phạm   ['Trương', 'Trúc']   \n",
              "18793         Nguyễn Diệu Hiền       0     Nguyễn             ['Diệu']   \n",
              "18794     Nguyễn Đoàn Thảo Nhi       0     Nguyễn     ['Đoàn', 'Thảo']   \n",
              "\n",
              "      Last_Name  \n",
              "0          Tùng  \n",
              "1            Vy  \n",
              "2           Huy  \n",
              "3           Vân  \n",
              "4          Long  \n",
              "...         ...  \n",
              "18790        Vy  \n",
              "18791        Âu  \n",
              "18792    Phương  \n",
              "18793      Hiền  \n",
              "18794       Nhi  \n",
              "\n",
              "[18795 rows x 5 columns]"
            ],
            "text/html": [
              "\n",
              "  <div id=\"df-c213342e-40c0-48f6-a3ef-8ba7c24ecc8c\">\n",
              "    <div class=\"colab-df-container\">\n",
              "      <div>\n",
              "<style scoped>\n",
              "    .dataframe tbody tr th:only-of-type {\n",
              "        vertical-align: middle;\n",
              "    }\n",
              "\n",
              "    .dataframe tbody tr th {\n",
              "        vertical-align: top;\n",
              "    }\n",
              "\n",
              "    .dataframe thead th {\n",
              "        text-align: right;\n",
              "    }\n",
              "</style>\n",
              "<table border=\"1\" class=\"dataframe\">\n",
              "  <thead>\n",
              "    <tr style=\"text-align: right;\">\n",
              "      <th></th>\n",
              "      <th>Full_Names</th>\n",
              "      <th>Gender</th>\n",
              "      <th>First_Name</th>\n",
              "      <th>Mid_Name</th>\n",
              "      <th>Last_Name</th>\n",
              "    </tr>\n",
              "  </thead>\n",
              "  <tbody>\n",
              "    <tr>\n",
              "      <th>0</th>\n",
              "      <td>Ngô Xuân Tùng</td>\n",
              "      <td>1</td>\n",
              "      <td>Ngô</td>\n",
              "      <td>['Xuân']</td>\n",
              "      <td>Tùng</td>\n",
              "    </tr>\n",
              "    <tr>\n",
              "      <th>1</th>\n",
              "      <td>Bùi Dương Thảo Vy</td>\n",
              "      <td>0</td>\n",
              "      <td>Bùi</td>\n",
              "      <td>['Dương', 'Thảo']</td>\n",
              "      <td>Vy</td>\n",
              "    </tr>\n",
              "    <tr>\n",
              "      <th>2</th>\n",
              "      <td>Lưu Thế Huy</td>\n",
              "      <td>1</td>\n",
              "      <td>Lưu</td>\n",
              "      <td>['Thế']</td>\n",
              "      <td>Huy</td>\n",
              "    </tr>\n",
              "    <tr>\n",
              "      <th>3</th>\n",
              "      <td>Nguyễn Thị Vân</td>\n",
              "      <td>0</td>\n",
              "      <td>Nguyễn</td>\n",
              "      <td>['Thị']</td>\n",
              "      <td>Vân</td>\n",
              "    </tr>\n",
              "    <tr>\n",
              "      <th>4</th>\n",
              "      <td>Dương Minh Long</td>\n",
              "      <td>1</td>\n",
              "      <td>Dương</td>\n",
              "      <td>['Minh']</td>\n",
              "      <td>Long</td>\n",
              "    </tr>\n",
              "    <tr>\n",
              "      <th>...</th>\n",
              "      <td>...</td>\n",
              "      <td>...</td>\n",
              "      <td>...</td>\n",
              "      <td>...</td>\n",
              "      <td>...</td>\n",
              "    </tr>\n",
              "    <tr>\n",
              "      <th>18790</th>\n",
              "      <td>Trần Nguyễn Tường Vy</td>\n",
              "      <td>0</td>\n",
              "      <td>Trần</td>\n",
              "      <td>['Nguyễn', 'Tường']</td>\n",
              "      <td>Vy</td>\n",
              "    </tr>\n",
              "    <tr>\n",
              "      <th>18791</th>\n",
              "      <td>Phan Hải Âu</td>\n",
              "      <td>1</td>\n",
              "      <td>Phan</td>\n",
              "      <td>['Hải']</td>\n",
              "      <td>Âu</td>\n",
              "    </tr>\n",
              "    <tr>\n",
              "      <th>18792</th>\n",
              "      <td>Phạm Trương Trúc Phương</td>\n",
              "      <td>0</td>\n",
              "      <td>Phạm</td>\n",
              "      <td>['Trương', 'Trúc']</td>\n",
              "      <td>Phương</td>\n",
              "    </tr>\n",
              "    <tr>\n",
              "      <th>18793</th>\n",
              "      <td>Nguyễn Diệu Hiền</td>\n",
              "      <td>0</td>\n",
              "      <td>Nguyễn</td>\n",
              "      <td>['Diệu']</td>\n",
              "      <td>Hiền</td>\n",
              "    </tr>\n",
              "    <tr>\n",
              "      <th>18794</th>\n",
              "      <td>Nguyễn Đoàn Thảo Nhi</td>\n",
              "      <td>0</td>\n",
              "      <td>Nguyễn</td>\n",
              "      <td>['Đoàn', 'Thảo']</td>\n",
              "      <td>Nhi</td>\n",
              "    </tr>\n",
              "  </tbody>\n",
              "</table>\n",
              "<p>18795 rows × 5 columns</p>\n",
              "</div>\n",
              "      <button class=\"colab-df-convert\" onclick=\"convertToInteractive('df-c213342e-40c0-48f6-a3ef-8ba7c24ecc8c')\"\n",
              "              title=\"Convert this dataframe to an interactive table.\"\n",
              "              style=\"display:none;\">\n",
              "        \n",
              "  <svg xmlns=\"http://www.w3.org/2000/svg\" height=\"24px\"viewBox=\"0 0 24 24\"\n",
              "       width=\"24px\">\n",
              "    <path d=\"M0 0h24v24H0V0z\" fill=\"none\"/>\n",
              "    <path d=\"M18.56 5.44l.94 2.06.94-2.06 2.06-.94-2.06-.94-.94-2.06-.94 2.06-2.06.94zm-11 1L8.5 8.5l.94-2.06 2.06-.94-2.06-.94L8.5 2.5l-.94 2.06-2.06.94zm10 10l.94 2.06.94-2.06 2.06-.94-2.06-.94-.94-2.06-.94 2.06-2.06.94z\"/><path d=\"M17.41 7.96l-1.37-1.37c-.4-.4-.92-.59-1.43-.59-.52 0-1.04.2-1.43.59L10.3 9.45l-7.72 7.72c-.78.78-.78 2.05 0 2.83L4 21.41c.39.39.9.59 1.41.59.51 0 1.02-.2 1.41-.59l7.78-7.78 2.81-2.81c.8-.78.8-2.07 0-2.86zM5.41 20L4 18.59l7.72-7.72 1.47 1.35L5.41 20z\"/>\n",
              "  </svg>\n",
              "      </button>\n",
              "      \n",
              "  <style>\n",
              "    .colab-df-container {\n",
              "      display:flex;\n",
              "      flex-wrap:wrap;\n",
              "      gap: 12px;\n",
              "    }\n",
              "\n",
              "    .colab-df-convert {\n",
              "      background-color: #E8F0FE;\n",
              "      border: none;\n",
              "      border-radius: 50%;\n",
              "      cursor: pointer;\n",
              "      display: none;\n",
              "      fill: #1967D2;\n",
              "      height: 32px;\n",
              "      padding: 0 0 0 0;\n",
              "      width: 32px;\n",
              "    }\n",
              "\n",
              "    .colab-df-convert:hover {\n",
              "      background-color: #E2EBFA;\n",
              "      box-shadow: 0px 1px 2px rgba(60, 64, 67, 0.3), 0px 1px 3px 1px rgba(60, 64, 67, 0.15);\n",
              "      fill: #174EA6;\n",
              "    }\n",
              "\n",
              "    [theme=dark] .colab-df-convert {\n",
              "      background-color: #3B4455;\n",
              "      fill: #D2E3FC;\n",
              "    }\n",
              "\n",
              "    [theme=dark] .colab-df-convert:hover {\n",
              "      background-color: #434B5C;\n",
              "      box-shadow: 0px 1px 3px 1px rgba(0, 0, 0, 0.15);\n",
              "      filter: drop-shadow(0px 1px 2px rgba(0, 0, 0, 0.3));\n",
              "      fill: #FFFFFF;\n",
              "    }\n",
              "  </style>\n",
              "\n",
              "      <script>\n",
              "        const buttonEl =\n",
              "          document.querySelector('#df-c213342e-40c0-48f6-a3ef-8ba7c24ecc8c button.colab-df-convert');\n",
              "        buttonEl.style.display =\n",
              "          google.colab.kernel.accessAllowed ? 'block' : 'none';\n",
              "\n",
              "        async function convertToInteractive(key) {\n",
              "          const element = document.querySelector('#df-c213342e-40c0-48f6-a3ef-8ba7c24ecc8c');\n",
              "          const dataTable =\n",
              "            await google.colab.kernel.invokeFunction('convertToInteractive',\n",
              "                                                     [key], {});\n",
              "          if (!dataTable) return;\n",
              "\n",
              "          const docLinkHtml = 'Like what you see? Visit the ' +\n",
              "            '<a target=\"_blank\" href=https://colab.research.google.com/notebooks/data_table.ipynb>data table notebook</a>'\n",
              "            + ' to learn more about interactive tables.';\n",
              "          element.innerHTML = '';\n",
              "          dataTable['output_type'] = 'display_data';\n",
              "          await google.colab.output.renderOutput(dataTable, element);\n",
              "          const docLink = document.createElement('div');\n",
              "          docLink.innerHTML = docLinkHtml;\n",
              "          element.appendChild(docLink);\n",
              "        }\n",
              "      </script>\n",
              "    </div>\n",
              "  </div>\n",
              "  "
            ]
          },
          "metadata": {},
          "execution_count": 8
        }
      ]
    },
    {
      "cell_type": "markdown",
      "metadata": {
        "id": "bCE2XDPXXIlr"
      },
      "source": [
        "#Mô hình NB"
      ]
    },
    {
      "cell_type": "code",
      "metadata": {
        "id": "I4gK6fS7kcBf"
      },
      "source": [
        "from sklearn.model_selection import train_test_split\n",
        "from sklearn.feature_extraction.text import CountVectorizer\n",
        "from sklearn.naive_bayes import MultinomialNB"
      ],
      "execution_count": 9,
      "outputs": []
    },
    {
      "cell_type": "code",
      "metadata": {
        "id": "VCzgOpcWnDPK"
      },
      "source": [
        "cv = CountVectorizer()\n",
        "X_train = cv.fit_transform(File_Train.Full_Names)\n",
        "y_train = File_Train.Gender\n",
        "X_test = cv.transform(File_Test.Full_Names)\n",
        "y_test = File_Test.Gender"
      ],
      "execution_count": 10,
      "outputs": []
    },
    {
      "cell_type": "code",
      "metadata": {
        "colab": {
          "base_uri": "https://localhost:8080/"
        },
        "id": "1YlFU_yDyiBc",
        "outputId": "86c3a9b6-d62a-46bc-f05c-f204e4f7428c"
      },
      "source": [
        "# hiển thị một số thông tin về dữ liệu \n",
        "print(\"Dữ liệu training = \", X_train.shape, y_train.shape)\n",
        "print(\"Dữ liệu testing = \", X_test.shape, y_test.shape)"
      ],
      "execution_count": 11,
      "outputs": [
        {
          "output_type": "stream",
          "name": "stdout",
          "text": [
            "Dữ liệu training =  (18795, 1292) (18795,)\n",
            "Dữ liệu testing =  (5370, 1292) (5370,)\n"
          ]
        }
      ]
    },
    {
      "cell_type": "code",
      "metadata": {
        "colab": {
          "base_uri": "https://localhost:8080/"
        },
        "id": "4TUrglYLSAlg",
        "outputId": "fe6ef230-fa09-41eb-a2b3-61b9ec7ca79e"
      },
      "source": [
        "print(\"- Training ...\")\n",
        "clf = MultinomialNB()\n",
        "clf.fit(X_train,y_train)\n",
        "print(\"- model - train complete\")"
      ],
      "execution_count": 12,
      "outputs": [
        {
          "output_type": "stream",
          "name": "stdout",
          "text": [
            "- Training ...\n",
            "- model - train complete\n"
          ]
        }
      ]
    },
    {
      "cell_type": "code",
      "metadata": {
        "colab": {
          "base_uri": "https://localhost:8080/"
        },
        "id": "7-MIzqIOzUw8",
        "outputId": "007cc652-9f26-4be1-ae6d-a80991bd8bc1"
      },
      "source": [
        "print(\"- Test ...\")\n",
        "clf.score(X_test,y_test)\n",
        "Pre_clf=clf.predict(X_test)"
      ],
      "execution_count": 13,
      "outputs": [
        {
          "output_type": "stream",
          "name": "stdout",
          "text": [
            "- Test ...\n"
          ]
        }
      ]
    },
    {
      "cell_type": "code",
      "metadata": {
        "colab": {
          "base_uri": "https://localhost:8080/",
          "height": 520
        },
        "id": "7e5xtYdN3Ai8",
        "outputId": "5c12dcec-2e3f-4f62-bd01-569ba412168d"
      },
      "source": [
        "File_Test[:15]"
      ],
      "execution_count": 14,
      "outputs": [
        {
          "output_type": "execute_result",
          "data": {
            "text/plain": [
              "              Full_Names  Gender\n",
              "0        Nguyễn Văn Tiến       1\n",
              "1           Vũ Minh Nhật       1\n",
              "2      Nguyễn Ngọc Thành       1\n",
              "3            Lê Văn Tuấn       1\n",
              "4       Nguyễn Duy Khánh       1\n",
              "5              Trần Hiếu       0\n",
              "6   Nguyễn Thị Thu Huyền       0\n",
              "7       Trương Thanh Sơn       1\n",
              "8             Lê Văn Bảo       1\n",
              "9           Thủy Ngọc Hà       1\n",
              "10     Trần Thị Linh Nhi       0\n",
              "11       Nguyễn Thị Linh       0\n",
              "12   Phạm Thị Thanh Thúy       0\n",
              "13        Lương Quốc Huy       1\n",
              "14         Khưu Ngọc Anh       0"
            ],
            "text/html": [
              "\n",
              "  <div id=\"df-8fc55f7f-3156-478d-a237-6c5f93526b94\">\n",
              "    <div class=\"colab-df-container\">\n",
              "      <div>\n",
              "<style scoped>\n",
              "    .dataframe tbody tr th:only-of-type {\n",
              "        vertical-align: middle;\n",
              "    }\n",
              "\n",
              "    .dataframe tbody tr th {\n",
              "        vertical-align: top;\n",
              "    }\n",
              "\n",
              "    .dataframe thead th {\n",
              "        text-align: right;\n",
              "    }\n",
              "</style>\n",
              "<table border=\"1\" class=\"dataframe\">\n",
              "  <thead>\n",
              "    <tr style=\"text-align: right;\">\n",
              "      <th></th>\n",
              "      <th>Full_Names</th>\n",
              "      <th>Gender</th>\n",
              "    </tr>\n",
              "  </thead>\n",
              "  <tbody>\n",
              "    <tr>\n",
              "      <th>0</th>\n",
              "      <td>Nguyễn Văn Tiến</td>\n",
              "      <td>1</td>\n",
              "    </tr>\n",
              "    <tr>\n",
              "      <th>1</th>\n",
              "      <td>Vũ Minh Nhật</td>\n",
              "      <td>1</td>\n",
              "    </tr>\n",
              "    <tr>\n",
              "      <th>2</th>\n",
              "      <td>Nguyễn Ngọc Thành</td>\n",
              "      <td>1</td>\n",
              "    </tr>\n",
              "    <tr>\n",
              "      <th>3</th>\n",
              "      <td>Lê Văn Tuấn</td>\n",
              "      <td>1</td>\n",
              "    </tr>\n",
              "    <tr>\n",
              "      <th>4</th>\n",
              "      <td>Nguyễn Duy Khánh</td>\n",
              "      <td>1</td>\n",
              "    </tr>\n",
              "    <tr>\n",
              "      <th>5</th>\n",
              "      <td>Trần Hiếu</td>\n",
              "      <td>0</td>\n",
              "    </tr>\n",
              "    <tr>\n",
              "      <th>6</th>\n",
              "      <td>Nguyễn Thị Thu Huyền</td>\n",
              "      <td>0</td>\n",
              "    </tr>\n",
              "    <tr>\n",
              "      <th>7</th>\n",
              "      <td>Trương Thanh Sơn</td>\n",
              "      <td>1</td>\n",
              "    </tr>\n",
              "    <tr>\n",
              "      <th>8</th>\n",
              "      <td>Lê Văn Bảo</td>\n",
              "      <td>1</td>\n",
              "    </tr>\n",
              "    <tr>\n",
              "      <th>9</th>\n",
              "      <td>Thủy Ngọc Hà</td>\n",
              "      <td>1</td>\n",
              "    </tr>\n",
              "    <tr>\n",
              "      <th>10</th>\n",
              "      <td>Trần Thị Linh Nhi</td>\n",
              "      <td>0</td>\n",
              "    </tr>\n",
              "    <tr>\n",
              "      <th>11</th>\n",
              "      <td>Nguyễn Thị Linh</td>\n",
              "      <td>0</td>\n",
              "    </tr>\n",
              "    <tr>\n",
              "      <th>12</th>\n",
              "      <td>Phạm Thị Thanh Thúy</td>\n",
              "      <td>0</td>\n",
              "    </tr>\n",
              "    <tr>\n",
              "      <th>13</th>\n",
              "      <td>Lương Quốc Huy</td>\n",
              "      <td>1</td>\n",
              "    </tr>\n",
              "    <tr>\n",
              "      <th>14</th>\n",
              "      <td>Khưu Ngọc Anh</td>\n",
              "      <td>0</td>\n",
              "    </tr>\n",
              "  </tbody>\n",
              "</table>\n",
              "</div>\n",
              "      <button class=\"colab-df-convert\" onclick=\"convertToInteractive('df-8fc55f7f-3156-478d-a237-6c5f93526b94')\"\n",
              "              title=\"Convert this dataframe to an interactive table.\"\n",
              "              style=\"display:none;\">\n",
              "        \n",
              "  <svg xmlns=\"http://www.w3.org/2000/svg\" height=\"24px\"viewBox=\"0 0 24 24\"\n",
              "       width=\"24px\">\n",
              "    <path d=\"M0 0h24v24H0V0z\" fill=\"none\"/>\n",
              "    <path d=\"M18.56 5.44l.94 2.06.94-2.06 2.06-.94-2.06-.94-.94-2.06-.94 2.06-2.06.94zm-11 1L8.5 8.5l.94-2.06 2.06-.94-2.06-.94L8.5 2.5l-.94 2.06-2.06.94zm10 10l.94 2.06.94-2.06 2.06-.94-2.06-.94-.94-2.06-.94 2.06-2.06.94z\"/><path d=\"M17.41 7.96l-1.37-1.37c-.4-.4-.92-.59-1.43-.59-.52 0-1.04.2-1.43.59L10.3 9.45l-7.72 7.72c-.78.78-.78 2.05 0 2.83L4 21.41c.39.39.9.59 1.41.59.51 0 1.02-.2 1.41-.59l7.78-7.78 2.81-2.81c.8-.78.8-2.07 0-2.86zM5.41 20L4 18.59l7.72-7.72 1.47 1.35L5.41 20z\"/>\n",
              "  </svg>\n",
              "      </button>\n",
              "      \n",
              "  <style>\n",
              "    .colab-df-container {\n",
              "      display:flex;\n",
              "      flex-wrap:wrap;\n",
              "      gap: 12px;\n",
              "    }\n",
              "\n",
              "    .colab-df-convert {\n",
              "      background-color: #E8F0FE;\n",
              "      border: none;\n",
              "      border-radius: 50%;\n",
              "      cursor: pointer;\n",
              "      display: none;\n",
              "      fill: #1967D2;\n",
              "      height: 32px;\n",
              "      padding: 0 0 0 0;\n",
              "      width: 32px;\n",
              "    }\n",
              "\n",
              "    .colab-df-convert:hover {\n",
              "      background-color: #E2EBFA;\n",
              "      box-shadow: 0px 1px 2px rgba(60, 64, 67, 0.3), 0px 1px 3px 1px rgba(60, 64, 67, 0.15);\n",
              "      fill: #174EA6;\n",
              "    }\n",
              "\n",
              "    [theme=dark] .colab-df-convert {\n",
              "      background-color: #3B4455;\n",
              "      fill: #D2E3FC;\n",
              "    }\n",
              "\n",
              "    [theme=dark] .colab-df-convert:hover {\n",
              "      background-color: #434B5C;\n",
              "      box-shadow: 0px 1px 3px 1px rgba(0, 0, 0, 0.15);\n",
              "      filter: drop-shadow(0px 1px 2px rgba(0, 0, 0, 0.3));\n",
              "      fill: #FFFFFF;\n",
              "    }\n",
              "  </style>\n",
              "\n",
              "      <script>\n",
              "        const buttonEl =\n",
              "          document.querySelector('#df-8fc55f7f-3156-478d-a237-6c5f93526b94 button.colab-df-convert');\n",
              "        buttonEl.style.display =\n",
              "          google.colab.kernel.accessAllowed ? 'block' : 'none';\n",
              "\n",
              "        async function convertToInteractive(key) {\n",
              "          const element = document.querySelector('#df-8fc55f7f-3156-478d-a237-6c5f93526b94');\n",
              "          const dataTable =\n",
              "            await google.colab.kernel.invokeFunction('convertToInteractive',\n",
              "                                                     [key], {});\n",
              "          if (!dataTable) return;\n",
              "\n",
              "          const docLinkHtml = 'Like what you see? Visit the ' +\n",
              "            '<a target=\"_blank\" href=https://colab.research.google.com/notebooks/data_table.ipynb>data table notebook</a>'\n",
              "            + ' to learn more about interactive tables.';\n",
              "          element.innerHTML = '';\n",
              "          dataTable['output_type'] = 'display_data';\n",
              "          await google.colab.output.renderOutput(dataTable, element);\n",
              "          const docLink = document.createElement('div');\n",
              "          docLink.innerHTML = docLinkHtml;\n",
              "          element.appendChild(docLink);\n",
              "        }\n",
              "      </script>\n",
              "    </div>\n",
              "  </div>\n",
              "  "
            ]
          },
          "metadata": {},
          "execution_count": 14
        }
      ]
    },
    {
      "cell_type": "code",
      "metadata": {
        "colab": {
          "base_uri": "https://localhost:8080/"
        },
        "id": "BjkmLykH6FR2",
        "outputId": "b2407818-149c-4bee-e190-6e933af92181"
      },
      "source": [
        "Pre_clf[:15]"
      ],
      "execution_count": 15,
      "outputs": [
        {
          "output_type": "execute_result",
          "data": {
            "text/plain": [
              "array([1, 1, 1, 1, 1, 1, 0, 1, 1, 0, 0, 0, 0, 1, 0])"
            ]
          },
          "metadata": {},
          "execution_count": 15
        }
      ]
    },
    {
      "cell_type": "code",
      "metadata": {
        "id": "ndZmMJUxs434"
      },
      "source": [
        "import csv\n",
        "writer = csv.writer(open(\"/content/drive/MyDrive/DS102/out_true.csv\", 'w'))\n",
        "writer.writerow([\"Full_Names\",\"Gender_Predicted\",\"Gender_True\"])\n",
        "i=0\n",
        "for x in Pre_clf[:15]:\n",
        "  if (x == File_Test.Gender[i]):\n",
        "    writer.writerow([File_Test.Full_Names[i],x,File_Test.Gender[i]])\n",
        "    #arr_true.append([File_Test.Full_Names[i],x,File_Test.Gender[i]])\n",
        "  i+=1"
      ],
      "execution_count": 16,
      "outputs": []
    },
    {
      "cell_type": "code",
      "metadata": {
        "id": "EsjIN-ZX61J1"
      },
      "source": [
        "def Out_CSV(Module,File_CSV): # mô hình,file csv cần xuất: Hàm xuất đúng  chỉ cần đổi tên file trong đg dẫn và phép so sánh => file CSV sai\n",
        "  writer = csv.writer(open(\"/content/drive/MyDrive/DS102/out_3.csv\", 'w'))\n",
        "  writer.writerow([\"Full_Names\",\"Gender_Predicted\",\"Gender_True\"])\n",
        "  i=0\n",
        "  for x in Module:\n",
        "    if (x != File_CSV.Gender[i]):\n",
        "      writer.writerow([File_CSV.Full_Names[i],x,File_CSV.Gender[i]])\n",
        "      #arr_true.append([File_Test.Attr[i],x,File_CSV.Gender[i]])\n",
        "    i+=1"
      ],
      "execution_count": 17,
      "outputs": []
    },
    {
      "cell_type": "code",
      "metadata": {
        "id": "rN5WRazh_8Ds"
      },
      "source": [
        "Out_CSV(Pre_clf,File_Test)"
      ],
      "execution_count": 18,
      "outputs": []
    },
    {
      "cell_type": "code",
      "metadata": {
        "colab": {
          "base_uri": "https://localhost:8080/",
          "height": 165
        },
        "id": "TfbCISlV2B7d",
        "outputId": "8bfd241c-1ebb-47e4-a10c-a9a9a878057a"
      },
      "source": [
        "arr_true"
      ],
      "execution_count": 19,
      "outputs": [
        {
          "output_type": "error",
          "ename": "NameError",
          "evalue": "ignored",
          "traceback": [
            "\u001b[0;31m---------------------------------------------------------------------------\u001b[0m",
            "\u001b[0;31mNameError\u001b[0m                                 Traceback (most recent call last)",
            "\u001b[0;32m<ipython-input-19-a70c8dfd028a>\u001b[0m in \u001b[0;36m<module>\u001b[0;34m\u001b[0m\n\u001b[0;32m----> 1\u001b[0;31m \u001b[0marr_true\u001b[0m\u001b[0;34m\u001b[0m\u001b[0;34m\u001b[0m\u001b[0m\n\u001b[0m",
            "\u001b[0;31mNameError\u001b[0m: name 'arr_true' is not defined"
          ]
        }
      ]
    },
    {
      "cell_type": "code",
      "metadata": {
        "colab": {
          "base_uri": "https://localhost:8080/"
        },
        "id": "qlNbnqeLXTKL",
        "outputId": "c5242b2b-8e91-4ed8-a46a-0cfc82c26025"
      },
      "source": [
        "from sklearn.metrics import accuracy_score, precision_score, recall_score, f1_score, confusion_matrix\n",
        "print(\"Accuracy: \" + str(accuracy_score(y_test, Pre_clf)))\n",
        "print(\"Precision: \" + str(precision_score(y_test, Pre_clf)))\n",
        "print(\"Recall: \" + str(recall_score(y_test, Pre_clf)))\n",
        "print(\"F1-micro: \" + str(f1_score(y_test, Pre_clf)))\n",
        "print(\"F1-macro: \" + str(f1_score(y_test, Pre_clf, average='macro')))\n",
        "cf = confusion_matrix(y_test, Pre_clf)\n"
      ],
      "execution_count": 20,
      "outputs": [
        {
          "output_type": "stream",
          "name": "stdout",
          "text": [
            "Accuracy: 0.9493482309124768\n",
            "Precision: 0.9558584875040571\n",
            "Recall: 0.9558584875040571\n",
            "F1-micro: 0.9558584875040571\n",
            "F1-macro: 0.948221947989687\n"
          ]
        }
      ]
    },
    {
      "cell_type": "code",
      "metadata": {
        "colab": {
          "base_uri": "https://localhost:8080/"
        },
        "id": "IGGn4iXRx--M",
        "outputId": "f71162bb-b3a0-405e-e79e-160c177b7ba5"
      },
      "source": [
        "from sklearn.metrics import classification_report\n",
        "print(classification_report(y_test, Pre_clf)) "
      ],
      "execution_count": 21,
      "outputs": [
        {
          "output_type": "stream",
          "name": "stdout",
          "text": [
            "              precision    recall  f1-score   support\n",
            "\n",
            "           0       0.94      0.94      0.94      2289\n",
            "           1       0.96      0.96      0.96      3081\n",
            "\n",
            "    accuracy                           0.95      5370\n",
            "   macro avg       0.95      0.95      0.95      5370\n",
            "weighted avg       0.95      0.95      0.95      5370\n",
            "\n"
          ]
        }
      ]
    },
    {
      "cell_type": "code",
      "metadata": {
        "id": "Fb_XW6NOn7XP"
      },
      "source": [
        "from sklearn.metrics import confusion_matrix\n",
        "\n",
        "matrix_clf = confusion_matrix(y_test, Pre_clf)"
      ],
      "execution_count": 22,
      "outputs": []
    },
    {
      "cell_type": "code",
      "metadata": {
        "colab": {
          "base_uri": "https://localhost:8080/",
          "height": 295
        },
        "id": "uIWoxJE2l_Hv",
        "outputId": "a6c2c4a7-0833-4cb8-ff6e-b917d0c86c21"
      },
      "source": [
        "import seaborn as sn\n",
        "import matplotlib.pyplot as plt\n",
        "\n",
        "sn.set(font_scale=1.4) \n",
        "sn.heatmap(matrix_clf, annot=True, annot_kws={\"size\": 16}, fmt='d') \n",
        "\n",
        "plt.xlabel('Predicted')\n",
        "plt.ylabel('True')\n",
        "plt.show()"
      ],
      "execution_count": 23,
      "outputs": [
        {
          "output_type": "display_data",
          "data": {
            "text/plain": [
              "<Figure size 432x288 with 2 Axes>"
            ],
            "image/png": "[encoded data removed]"
          },
          "metadata": {}
        }
      ]
    },
    {
      "cell_type": "code",
      "metadata": {
        "id": "250gGLWvU48P"
      },
      "source": [
        "def gender_trans_clf(name):\n",
        "    Name = [name]\n",
        "    vector = cv.transform(Name).toarray()\n",
        "    if clf.predict(vector) == 1:\n",
        "        print(\"Giới Tính: Nam\")\n",
        "    else:\n",
        "        print(\"Giới Tính: Nữ\")"
      ],
      "execution_count": 24,
      "outputs": []
    },
    {
      "cell_type": "code",
      "metadata": {
        "colab": {
          "base_uri": "https://localhost:8080/"
        },
        "id": "r3E_yGtlU8GG",
        "outputId": "813d0bd6-0e59-4a76-9c0c-255e4dd51e0c"
      },
      "source": [
        "gender_trans_clf(\"Ngọc Anh\")"
      ],
      "execution_count": 25,
      "outputs": [
        {
          "output_type": "stream",
          "name": "stdout",
          "text": [
            "Giới Tính: Nữ\n"
          ]
        }
      ]
    },
    {
      "cell_type": "markdown",
      "metadata": {
        "id": "n1reg7VrtF5l"
      },
      "source": [
        "# Mô hình SVM và GridSearchCV\n"
      ]
    },
    {
      "cell_type": "code",
      "metadata": {
        "id": "I6Ox4xD7tI5E"
      },
      "source": [
        "from sklearn import svm\n",
        "from sklearn.feature_extraction.text import CountVectorizer\n",
        "from sklearn.model_selection import train_test_split\n",
        "from sklearn.metrics import accuracy_score\n"
      ],
      "execution_count": 26,
      "outputs": []
    },
    {
      "cell_type": "code",
      "metadata": {
        "id": "pXktOJyctTVM"
      },
      "source": [
        "X_train_SVM = cv.fit_transform(File_Train.Full_Names)\n",
        "y_train_SVM = File_Train.Gender\n",
        "X_test_SVM = cv.transform(File_Test.Full_Names)\n",
        "y_test_SVM = File_Test.Gender"
      ],
      "execution_count": 27,
      "outputs": []
    },
    {
      "cell_type": "code",
      "metadata": {
        "colab": {
          "base_uri": "https://localhost:8080/"
        },
        "id": "P9ufo_b4t8ik",
        "outputId": "8974cc17-fce5-4f77-bbd0-f820b1f6b2bc"
      },
      "source": [
        "# hiển thị một số thông tin về dữ liệu \n",
        "print(\"Dữ liệu training = \", X_train_SVM.shape, y_train_SVM.shape)\n",
        "print(\"Dữ liệu testing = \", X_test_SVM.shape, y_test_SVM.shape)"
      ],
      "execution_count": 28,
      "outputs": [
        {
          "output_type": "stream",
          "name": "stdout",
          "text": [
            "Dữ liệu training =  (18795, 1292) (18795,)\n",
            "Dữ liệu testing =  (5370, 1292) (5370,)\n"
          ]
        }
      ]
    },
    {
      "cell_type": "code",
      "metadata": {
        "colab": {
          "base_uri": "https://localhost:8080/"
        },
        "id": "PuU_txSjuRVr",
        "outputId": "7b195694-1274-47ef-e434-2fbe5c5d218a"
      },
      "source": [
        "print(\"- Training ...\")\n",
        "# X_train.shape\n",
        "print(\"- Train size = {}\".format(X_train_SVM.shape))\n",
        "model = svm.SVC()\n",
        "model.fit(X_train_SVM, y_train_SVM)\n",
        "print(\"- model - train complete\")"
      ],
      "execution_count": 29,
      "outputs": [
        {
          "output_type": "stream",
          "name": "stdout",
          "text": [
            "- Training ...\n",
            "- Train size = (18795, 1292)\n",
            "- model - train complete\n"
          ]
        }
      ]
    },
    {
      "cell_type": "code",
      "metadata": {
        "id": "TP_GBVL9uddc"
      },
      "source": [
        "y_pred = model.predict(X_test_SVM)\n",
        "Pre_svm=model.predict(X_test_SVM)"
      ],
      "execution_count": 30,
      "outputs": []
    },
    {
      "cell_type": "code",
      "metadata": {
        "colab": {
          "base_uri": "https://localhost:8080/"
        },
        "id": "a1Zw1bk7inJf",
        "outputId": "682f6888-3781-4f72-9b97-b57026db7895"
      },
      "source": [
        "from sklearn.metrics import accuracy_score, precision_score, recall_score, f1_score\n",
        "print(\"Accuracy: \" + str(accuracy_score(y_test_SVM, Pre_clf)))\n",
        "print(\"Precision: \" + str(precision_score(y_test_SVM, Pre_clf)))\n",
        "print(\"Recall: \" + str(recall_score(y_test_SVM, Pre_clf)))\n",
        "print(\"F1-micro: \" + str(f1_score(y_test_SVM, Pre_clf)))\n",
        "print(\"F1-macro: \" + str(f1_score(y_test_SVM, Pre_clf, average='macro')))\n",
        "cf = confusion_matrix(y_test_SVM, Pre_clf)"
      ],
      "execution_count": 31,
      "outputs": [
        {
          "output_type": "stream",
          "name": "stdout",
          "text": [
            "Accuracy: 0.9493482309124768\n",
            "Precision: 0.9558584875040571\n",
            "Recall: 0.9558584875040571\n",
            "F1-micro: 0.9558584875040571\n",
            "F1-macro: 0.948221947989687\n"
          ]
        }
      ]
    },
    {
      "cell_type": "code",
      "metadata": {
        "colab": {
          "base_uri": "https://localhost:8080/"
        },
        "id": "Rp_Qnz2Oyfyk",
        "outputId": "31dde1f7-249c-42f2-f8cd-a8747e0ad1d2"
      },
      "source": [
        "from sklearn.metrics import classification_report\n",
        "print(classification_report(y_test_SVM, Pre_svm)) "
      ],
      "execution_count": 32,
      "outputs": [
        {
          "output_type": "stream",
          "name": "stdout",
          "text": [
            "              precision    recall  f1-score   support\n",
            "\n",
            "           0       0.96      0.93      0.94      2289\n",
            "           1       0.95      0.97      0.96      3081\n",
            "\n",
            "    accuracy                           0.95      5370\n",
            "   macro avg       0.95      0.95      0.95      5370\n",
            "weighted avg       0.95      0.95      0.95      5370\n",
            "\n"
          ]
        }
      ]
    },
    {
      "cell_type": "code",
      "metadata": {
        "id": "e5TZmnOloRcF"
      },
      "source": [
        "from sklearn.metrics import confusion_matrix\n",
        "\n",
        "matrix_svm = confusion_matrix(y_test_SVM, Pre_svm)"
      ],
      "execution_count": 33,
      "outputs": []
    },
    {
      "cell_type": "code",
      "metadata": {
        "colab": {
          "base_uri": "https://localhost:8080/",
          "height": 295
        },
        "id": "DhnlVpKsmzKG",
        "outputId": "e78cc9b6-b931-4249-c243-a27e8ec929cf"
      },
      "source": [
        "import seaborn as sn\n",
        "import matplotlib.pyplot as plt\n",
        "\n",
        "sn.set(font_scale=1.4) \n",
        "sn.heatmap(matrix_svm, annot=True, annot_kws={\"size\": 16}, fmt='d') \n",
        "\n",
        "plt.xlabel('Predicted')\n",
        "plt.ylabel('True')\n",
        "plt.show()"
      ],
      "execution_count": 34,
      "outputs": [
        {
          "output_type": "display_data",
          "data": {
            "text/plain": [
              "<Figure size 432x288 with 2 Axes>"
            ],
            "image/png": "[encoded data removed]"
          },
          "metadata": {}
        }
      ]
    },
    {
      "cell_type": "code",
      "metadata": {
        "colab": {
          "base_uri": "https://localhost:8080/"
        },
        "id": "0rnoY8R4y8NE",
        "outputId": "0bf4a12f-687c-4112-b0b1-83b7b4844ce7"
      },
      "source": [
        "from sklearn.model_selection import GridSearchCV # link tham khảo:https://cafedev.vn/tu-hoc-ml-dieu-chinh-sieu-tham-so-svm-bang-gridsearchcv-ml/\n",
        "  \n",
        "# defining parameter range \n",
        "param_grid = {'C': [0.1, 1, 10],  \n",
        "              'gamma': [1, 0.1, 0.01], \n",
        "              'kernel': ['linear']}  \n",
        "  \n",
        "grid = GridSearchCV(svm.SVC(), param_grid, refit = True, verbose = 3) \n",
        "  \n",
        "# fitting the model for grid search \n",
        "grid.fit(X_train_SVM, y_train_SVM) "
      ],
      "execution_count": 35,
      "outputs": [
        {
          "output_type": "stream",
          "name": "stdout",
          "text": [
            "Fitting 5 folds for each of 9 candidates, totalling 45 fits\n",
            "[CV 1/5] END .....C=0.1, gamma=1, kernel=linear;, score=0.943 total time=   2.8s\n",
            "[CV 2/5] END .....C=0.1, gamma=1, kernel=linear;, score=0.943 total time=   3.2s\n",
            "[CV 3/5] END .....C=0.1, gamma=1, kernel=linear;, score=0.944 total time=   3.5s\n",
            "[CV 4/5] END .....C=0.1, gamma=1, kernel=linear;, score=0.940 total time=   2.8s\n",
            "[CV 5/5] END .....C=0.1, gamma=1, kernel=linear;, score=0.942 total time=   2.8s\n",
            "[CV 1/5] END ...C=0.1, gamma=0.1, kernel=linear;, score=0.943 total time=   2.8s\n",
            "[CV 2/5] END ...C=0.1, gamma=0.1, kernel=linear;, score=0.943 total time=   2.9s\n",
            "[CV 3/5] END ...C=0.1, gamma=0.1, kernel=linear;, score=0.944 total time=   2.9s\n",
            "[CV 4/5] END ...C=0.1, gamma=0.1, kernel=linear;, score=0.940 total time=   2.9s\n",
            "[CV 5/5] END ...C=0.1, gamma=0.1, kernel=linear;, score=0.942 total time=   2.9s\n",
            "[CV 1/5] END ..C=0.1, gamma=0.01, kernel=linear;, score=0.943 total time=   2.9s\n",
            "[CV 2/5] END ..C=0.1, gamma=0.01, kernel=linear;, score=0.943 total time=   2.9s\n",
            "[CV 3/5] END ..C=0.1, gamma=0.01, kernel=linear;, score=0.944 total time=   3.1s\n",
            "[CV 4/5] END ..C=0.1, gamma=0.01, kernel=linear;, score=0.940 total time=   3.6s\n",
            "[CV 5/5] END ..C=0.1, gamma=0.01, kernel=linear;, score=0.942 total time=   2.9s\n",
            "[CV 1/5] END .......C=1, gamma=1, kernel=linear;, score=0.950 total time=   2.9s\n",
            "[CV 2/5] END .......C=1, gamma=1, kernel=linear;, score=0.950 total time=   5.0s\n",
            "[CV 3/5] END .......C=1, gamma=1, kernel=linear;, score=0.952 total time=   2.8s\n",
            "[CV 4/5] END .......C=1, gamma=1, kernel=linear;, score=0.944 total time=   2.8s\n",
            "[CV 5/5] END .......C=1, gamma=1, kernel=linear;, score=0.946 total time=   2.8s\n",
            "[CV 1/5] END .....C=1, gamma=0.1, kernel=linear;, score=0.950 total time=   3.0s\n",
            "[CV 2/5] END .....C=1, gamma=0.1, kernel=linear;, score=0.950 total time=   3.1s\n",
            "[CV 3/5] END .....C=1, gamma=0.1, kernel=linear;, score=0.952 total time=   2.8s\n",
            "[CV 4/5] END .....C=1, gamma=0.1, kernel=linear;, score=0.944 total time=   2.9s\n",
            "[CV 5/5] END .....C=1, gamma=0.1, kernel=linear;, score=0.946 total time=   2.9s\n",
            "[CV 1/5] END ....C=1, gamma=0.01, kernel=linear;, score=0.950 total time=   3.0s\n",
            "[CV 2/5] END ....C=1, gamma=0.01, kernel=linear;, score=0.950 total time=   3.1s\n",
            "[CV 3/5] END ....C=1, gamma=0.01, kernel=linear;, score=0.952 total time=   2.9s\n",
            "[CV 4/5] END ....C=1, gamma=0.01, kernel=linear;, score=0.944 total time=   2.8s\n",
            "[CV 5/5] END ....C=1, gamma=0.01, kernel=linear;, score=0.946 total time=   2.9s\n",
            "[CV 1/5] END ......C=10, gamma=1, kernel=linear;, score=0.951 total time=   6.4s\n",
            "[CV 2/5] END ......C=10, gamma=1, kernel=linear;, score=0.951 total time=   6.3s\n",
            "[CV 3/5] END ......C=10, gamma=1, kernel=linear;, score=0.954 total time=   5.6s\n",
            "[CV 4/5] END ......C=10, gamma=1, kernel=linear;, score=0.948 total time=   5.8s\n",
            "[CV 5/5] END ......C=10, gamma=1, kernel=linear;, score=0.945 total time=   6.5s\n",
            "[CV 1/5] END ....C=10, gamma=0.1, kernel=linear;, score=0.951 total time=   6.4s\n",
            "[CV 2/5] END ....C=10, gamma=0.1, kernel=linear;, score=0.951 total time=   6.2s\n",
            "[CV 3/5] END ....C=10, gamma=0.1, kernel=linear;, score=0.954 total time=   5.7s\n",
            "[CV 4/5] END ....C=10, gamma=0.1, kernel=linear;, score=0.948 total time=   5.7s\n",
            "[CV 5/5] END ....C=10, gamma=0.1, kernel=linear;, score=0.945 total time=   6.4s\n",
            "[CV 1/5] END ...C=10, gamma=0.01, kernel=linear;, score=0.951 total time=   6.2s\n",
            "[CV 2/5] END ...C=10, gamma=0.01, kernel=linear;, score=0.951 total time=   6.2s\n",
            "[CV 3/5] END ...C=10, gamma=0.01, kernel=linear;, score=0.954 total time=   5.6s\n",
            "[CV 4/5] END ...C=10, gamma=0.01, kernel=linear;, score=0.948 total time=   5.7s\n",
            "[CV 5/5] END ...C=10, gamma=0.01, kernel=linear;, score=0.945 total time=   6.5s\n"
          ]
        },
        {
          "output_type": "execute_result",
          "data": {
            "text/plain": [
              "GridSearchCV(estimator=SVC(),\n",
              "             param_grid={'C': [0.1, 1, 10], 'gamma': [1, 0.1, 0.01],\n",
              "                         'kernel': ['linear']},\n",
              "             verbose=3)"
            ]
          },
          "metadata": {},
          "execution_count": 35
        }
      ]
    },
    {
      "cell_type": "code",
      "metadata": {
        "id": "PGH981CHaDlb",
        "colab": {
          "base_uri": "https://localhost:8080/"
        },
        "outputId": "94c18804-4041-4f1a-f56a-31d15f63b0b9"
      },
      "source": [
        "predictions = grid.predict(X_test_SVM) \n",
        "print(classification_report(y_test_SVM, predictions))"
      ],
      "execution_count": 36,
      "outputs": [
        {
          "output_type": "stream",
          "name": "stdout",
          "text": [
            "              precision    recall  f1-score   support\n",
            "\n",
            "           0       0.96      0.93      0.94      2289\n",
            "           1       0.95      0.97      0.96      3081\n",
            "\n",
            "    accuracy                           0.95      5370\n",
            "   macro avg       0.95      0.95      0.95      5370\n",
            "weighted avg       0.95      0.95      0.95      5370\n",
            "\n"
          ]
        }
      ]
    },
    {
      "cell_type": "code",
      "metadata": {
        "id": "loZt-RFIi6TB",
        "colab": {
          "base_uri": "https://localhost:8080/"
        },
        "outputId": "54533f38-8ae8-4fa3-ae9c-dde13f6f7714"
      },
      "source": [
        "print(\"Thông số tốt nhất:\",grid.best_params_) \n",
        "print(\"Công cụ ướng tính tốt nhất:\",grid.best_estimator_) "
      ],
      "execution_count": 37,
      "outputs": [
        {
          "output_type": "stream",
          "name": "stdout",
          "text": [
            "Thông số tốt nhất: {'C': 10, 'gamma': 1, 'kernel': 'linear'}\n",
            "Công cụ ướng tính tốt nhất: SVC(C=10, gamma=1, kernel='linear')\n"
          ]
        }
      ]
    },
    {
      "cell_type": "code",
      "metadata": {
        "id": "85v93HV1vTDE"
      },
      "source": [
        "def gender_trans_svm(name):\n",
        "    Name = [name]\n",
        "    vector = cv.transform(Name).toarray()\n",
        "    if model.predict(vector) == 1:\n",
        "        print(\"Giới Tính:Nam\")\n",
        "    else:\n",
        "        print(\"Giới Tính:Nữ\")"
      ],
      "execution_count": 38,
      "outputs": []
    },
    {
      "cell_type": "code",
      "metadata": {
        "id": "DWWfhuTSxGat",
        "colab": {
          "base_uri": "https://localhost:8080/"
        },
        "outputId": "447499af-3f25-4aed-8d8a-e744825f51a7"
      },
      "source": [
        "gender_trans_svm(\"Nguyễn Ngọc Thủy\")"
      ],
      "execution_count": null,
      "outputs": [
        {
          "output_type": "stream",
          "name": "stdout",
          "text": [
            "Giới Tính:Nữ\n"
          ]
        }
      ]
    },
    {
      "cell_type": "markdown",
      "metadata": {
        "id": "4w__6y4N4KOW"
      },
      "source": [
        "# Mô hình Logistic regression"
      ]
    },
    {
      "cell_type": "code",
      "metadata": {
        "id": "CMV1EOTS4Mw-"
      },
      "source": [
        "from sklearn.linear_model import LogisticRegression\n",
        "from sklearn.feature_extraction.text import CountVectorizer\n",
        "from sklearn.model_selection import train_test_split\n",
        "from sklearn.metrics import accuracy_score"
      ],
      "execution_count": 39,
      "outputs": []
    },
    {
      "cell_type": "code",
      "metadata": {
        "colab": {
          "base_uri": "https://localhost:8080/"
        },
        "id": "lAVRPFUY8M9d",
        "outputId": "3f9cd5d8-202f-46ac-b307-7bf2982cb38c"
      },
      "source": [
        "print(File_Train.columns)"
      ],
      "execution_count": null,
      "outputs": [
        {
          "output_type": "stream",
          "name": "stdout",
          "text": [
            "Index(['Full_Names', 'Gender', 'First_Name', 'Mid_Name', 'Last_Name'], dtype='object')\n"
          ]
        }
      ]
    },
    {
      "cell_type": "code",
      "metadata": {
        "colab": {
          "base_uri": "https://localhost:8080/",
          "height": 206
        },
        "id": "eFaoKLFQ8V9O",
        "outputId": "4ee7b813-a0e0-4bfa-9d93-903845a64bc8"
      },
      "source": [
        "File_Train.sample(5)"
      ],
      "execution_count": 40,
      "outputs": [
        {
          "output_type": "execute_result",
          "data": {
            "text/plain": [
              "                 Full_Names  Gender First_Name         Mid_Name Last_Name\n",
              "11514  Nguyễn Thị Lan Hương       0     Nguyễn   ['Thị', 'Lan']     Hương\n",
              "3297           Hà Minh Thảo       1         Hà         ['Minh']      Thảo\n",
              "1569       Nguyễn Quốc Phúc       1     Nguyễn         ['Quốc']      Phúc\n",
              "12715   Nguyễn Thị Ngọc Ánh       0     Nguyễn  ['Thị', 'Ngọc']       Ánh\n",
              "8424         Lê Trung Nghĩa       1         Lê        ['Trung']     Nghĩa"
            ],
            "text/html": [
              "\n",
              "  <div id=\"df-74f71f96-f4a2-4499-b124-63b37dea5f1f\">\n",
              "    <div class=\"colab-df-container\">\n",
              "      <div>\n",
              "<style scoped>\n",
              "    .dataframe tbody tr th:only-of-type {\n",
              "        vertical-align: middle;\n",
              "    }\n",
              "\n",
              "    .dataframe tbody tr th {\n",
              "        vertical-align: top;\n",
              "    }\n",
              "\n",
              "    .dataframe thead th {\n",
              "        text-align: right;\n",
              "    }\n",
              "</style>\n",
              "<table border=\"1\" class=\"dataframe\">\n",
              "  <thead>\n",
              "    <tr style=\"text-align: right;\">\n",
              "      <th></th>\n",
              "      <th>Full_Names</th>\n",
              "      <th>Gender</th>\n",
              "      <th>First_Name</th>\n",
              "      <th>Mid_Name</th>\n",
              "      <th>Last_Name</th>\n",
              "    </tr>\n",
              "  </thead>\n",
              "  <tbody>\n",
              "    <tr>\n",
              "      <th>11514</th>\n",
              "      <td>Nguyễn Thị Lan Hương</td>\n",
              "      <td>0</td>\n",
              "      <td>Nguyễn</td>\n",
              "      <td>['Thị', 'Lan']</td>\n",
              "      <td>Hương</td>\n",
              "    </tr>\n",
              "    <tr>\n",
              "      <th>3297</th>\n",
              "      <td>Hà Minh Thảo</td>\n",
              "      <td>1</td>\n",
              "      <td>Hà</td>\n",
              "      <td>['Minh']</td>\n",
              "      <td>Thảo</td>\n",
              "    </tr>\n",
              "    <tr>\n",
              "      <th>1569</th>\n",
              "      <td>Nguyễn Quốc Phúc</td>\n",
              "      <td>1</td>\n",
              "      <td>Nguyễn</td>\n",
              "      <td>['Quốc']</td>\n",
              "      <td>Phúc</td>\n",
              "    </tr>\n",
              "    <tr>\n",
              "      <th>12715</th>\n",
              "      <td>Nguyễn Thị Ngọc Ánh</td>\n",
              "      <td>0</td>\n",
              "      <td>Nguyễn</td>\n",
              "      <td>['Thị', 'Ngọc']</td>\n",
              "      <td>Ánh</td>\n",
              "    </tr>\n",
              "    <tr>\n",
              "      <th>8424</th>\n",
              "      <td>Lê Trung Nghĩa</td>\n",
              "      <td>1</td>\n",
              "      <td>Lê</td>\n",
              "      <td>['Trung']</td>\n",
              "      <td>Nghĩa</td>\n",
              "    </tr>\n",
              "  </tbody>\n",
              "</table>\n",
              "</div>\n",
              "      <button class=\"colab-df-convert\" onclick=\"convertToInteractive('df-74f71f96-f4a2-4499-b124-63b37dea5f1f')\"\n",
              "              title=\"Convert this dataframe to an interactive table.\"\n",
              "              style=\"display:none;\">\n",
              "        \n",
              "  <svg xmlns=\"http://www.w3.org/2000/svg\" height=\"24px\"viewBox=\"0 0 24 24\"\n",
              "       width=\"24px\">\n",
              "    <path d=\"M0 0h24v24H0V0z\" fill=\"none\"/>\n",
              "    <path d=\"M18.56 5.44l.94 2.06.94-2.06 2.06-.94-2.06-.94-.94-2.06-.94 2.06-2.06.94zm-11 1L8.5 8.5l.94-2.06 2.06-.94-2.06-.94L8.5 2.5l-.94 2.06-2.06.94zm10 10l.94 2.06.94-2.06 2.06-.94-2.06-.94-.94-2.06-.94 2.06-2.06.94z\"/><path d=\"M17.41 7.96l-1.37-1.37c-.4-.4-.92-.59-1.43-.59-.52 0-1.04.2-1.43.59L10.3 9.45l-7.72 7.72c-.78.78-.78 2.05 0 2.83L4 21.41c.39.39.9.59 1.41.59.51 0 1.02-.2 1.41-.59l7.78-7.78 2.81-2.81c.8-.78.8-2.07 0-2.86zM5.41 20L4 18.59l7.72-7.72 1.47 1.35L5.41 20z\"/>\n",
              "  </svg>\n",
              "      </button>\n",
              "      \n",
              "  <style>\n",
              "    .colab-df-container {\n",
              "      display:flex;\n",
              "      flex-wrap:wrap;\n",
              "      gap: 12px;\n",
              "    }\n",
              "\n",
              "    .colab-df-convert {\n",
              "      background-color: #E8F0FE;\n",
              "      border: none;\n",
              "      border-radius: 50%;\n",
              "      cursor: pointer;\n",
              "      display: none;\n",
              "      fill: #1967D2;\n",
              "      height: 32px;\n",
              "      padding: 0 0 0 0;\n",
              "      width: 32px;\n",
              "    }\n",
              "\n",
              "    .colab-df-convert:hover {\n",
              "      background-color: #E2EBFA;\n",
              "      box-shadow: 0px 1px 2px rgba(60, 64, 67, 0.3), 0px 1px 3px 1px rgba(60, 64, 67, 0.15);\n",
              "      fill: #174EA6;\n",
              "    }\n",
              "\n",
              "    [theme=dark] .colab-df-convert {\n",
              "      background-color: #3B4455;\n",
              "      fill: #D2E3FC;\n",
              "    }\n",
              "\n",
              "    [theme=dark] .colab-df-convert:hover {\n",
              "      background-color: #434B5C;\n",
              "      box-shadow: 0px 1px 3px 1px rgba(0, 0, 0, 0.15);\n",
              "      filter: drop-shadow(0px 1px 2px rgba(0, 0, 0, 0.3));\n",
              "      fill: #FFFFFF;\n",
              "    }\n",
              "  </style>\n",
              "\n",
              "      <script>\n",
              "        const buttonEl =\n",
              "          document.querySelector('#df-74f71f96-f4a2-4499-b124-63b37dea5f1f button.colab-df-convert');\n",
              "        buttonEl.style.display =\n",
              "          google.colab.kernel.accessAllowed ? 'block' : 'none';\n",
              "\n",
              "        async function convertToInteractive(key) {\n",
              "          const element = document.querySelector('#df-74f71f96-f4a2-4499-b124-63b37dea5f1f');\n",
              "          const dataTable =\n",
              "            await google.colab.kernel.invokeFunction('convertToInteractive',\n",
              "                                                     [key], {});\n",
              "          if (!dataTable) return;\n",
              "\n",
              "          const docLinkHtml = 'Like what you see? Visit the ' +\n",
              "            '<a target=\"_blank\" href=https://colab.research.google.com/notebooks/data_table.ipynb>data table notebook</a>'\n",
              "            + ' to learn more about interactive tables.';\n",
              "          element.innerHTML = '';\n",
              "          dataTable['output_type'] = 'display_data';\n",
              "          await google.colab.output.renderOutput(dataTable, element);\n",
              "          const docLink = document.createElement('div');\n",
              "          docLink.innerHTML = docLinkHtml;\n",
              "          element.appendChild(docLink);\n",
              "        }\n",
              "      </script>\n",
              "    </div>\n",
              "  </div>\n",
              "  "
            ]
          },
          "metadata": {},
          "execution_count": 40
        }
      ]
    },
    {
      "cell_type": "code",
      "metadata": {
        "id": "TmIZKbjW230W"
      },
      "source": [
        "cv = CountVectorizer()\n",
        "X_train_lg = cv.fit_transform(File_Train.Full_Names)\n",
        "y_train_lg = File_Train.Gender\n",
        "X_test_lg = cv.transform(File_Test.Full_Names)\n",
        "y_test_lg = File_Test.Gender"
      ],
      "execution_count": 41,
      "outputs": []
    },
    {
      "cell_type": "code",
      "metadata": {
        "colab": {
          "base_uri": "https://localhost:8080/"
        },
        "id": "oXr386Gc9ZS-",
        "outputId": "192e5c8f-dc25-418f-d9fd-136e22a4ec0d"
      },
      "source": [
        "print(\"Dữ liệu training = \", X_train_lg.shape, y_train_lg.shape)\n",
        "print(\"Dữ liệu testing = \", X_test_lg.shape, y_test_lg.shape)"
      ],
      "execution_count": 42,
      "outputs": [
        {
          "output_type": "stream",
          "name": "stdout",
          "text": [
            "Dữ liệu training =  (18795, 1292) (18795,)\n",
            "Dữ liệu testing =  (5370, 1292) (5370,)\n"
          ]
        }
      ]
    },
    {
      "cell_type": "code",
      "metadata": {
        "colab": {
          "base_uri": "https://localhost:8080/"
        },
        "id": "SQWZH3jUBv8V",
        "outputId": "c18fce36-4852-43a5-f825-0ce6488d7573"
      },
      "source": [
        "model1 = LogisticRegression()\n",
        "model1.fit(X_train_lg, y_train_lg)"
      ],
      "execution_count": 43,
      "outputs": [
        {
          "output_type": "execute_result",
          "data": {
            "text/plain": [
              "LogisticRegression()"
            ]
          },
          "metadata": {},
          "execution_count": 43
        }
      ]
    },
    {
      "cell_type": "code",
      "metadata": {
        "id": "zODEhiNKB1L1"
      },
      "source": [
        "y_pred1 = model1.predict(X_test_lg)"
      ],
      "execution_count": 44,
      "outputs": []
    },
    {
      "cell_type": "code",
      "metadata": {
        "colab": {
          "base_uri": "https://localhost:8080/"
        },
        "id": "Spx3xjHnCJ_K",
        "outputId": "1988de85-e6ac-440c-8839-618403fdcbdb"
      },
      "source": [
        "from sklearn.metrics import accuracy_score, precision_score, recall_score, f1_score\n",
        "print(\"Accuracy: \" + str(accuracy_score(y_test_lg, y_pred1)))\n",
        "print(\"Precision: \" + str(precision_score(y_test_lg,y_pred1)))\n",
        "print(\"Recall: \" + str(recall_score(y_test_lg, y_pred1)))\n",
        "print(\"F1-micro: \" + str(f1_score(y_test_lg, y_pred1)))\n",
        "print(\"F1-macro: \" + str(f1_score(y_test_lg, y_pred1, average='macro')))\n",
        "cf = confusion_matrix(y_test_lg, y_pred1)"
      ],
      "execution_count": 45,
      "outputs": [
        {
          "output_type": "stream",
          "name": "stdout",
          "text": [
            "Accuracy: 0.9547486033519553\n",
            "Precision: 0.9504761904761905\n",
            "Recall: 0.9717624148003895\n",
            "F1-micro: 0.9610014443909485\n",
            "F1-macro: 0.9535546144110431\n"
          ]
        }
      ]
    },
    {
      "cell_type": "code",
      "metadata": {
        "colab": {
          "base_uri": "https://localhost:8080/"
        },
        "id": "naNM6jdyp4Aj",
        "outputId": "6cbefcb4-6917-464a-a4bd-1f3310d3c2e9"
      },
      "source": [
        "from sklearn.metrics import classification_report\n",
        "print(classification_report(y_test_lg, y_pred1)) "
      ],
      "execution_count": 46,
      "outputs": [
        {
          "output_type": "stream",
          "name": "stdout",
          "text": [
            "              precision    recall  f1-score   support\n",
            "\n",
            "           0       0.96      0.93      0.95      2289\n",
            "           1       0.95      0.97      0.96      3081\n",
            "\n",
            "    accuracy                           0.95      5370\n",
            "   macro avg       0.96      0.95      0.95      5370\n",
            "weighted avg       0.95      0.95      0.95      5370\n",
            "\n"
          ]
        }
      ]
    },
    {
      "cell_type": "code",
      "metadata": {
        "colab": {
          "base_uri": "https://localhost:8080/",
          "height": 295
        },
        "id": "V7F-4IxiD_CG",
        "outputId": "4cb1da2e-4378-4217-9002-ae158a6c8bb8"
      },
      "source": [
        "import seaborn as sn\n",
        "import matplotlib.pyplot as plt\n",
        "matrix_lg = confusion_matrix(y_test_lg, y_pred1)\n",
        "sn.set(font_scale=1.4) \n",
        "sn.heatmap(matrix_lg, annot=True, annot_kws={\"size\": 16}, fmt='d') \n",
        "\n",
        "plt.xlabel('Predicted')\n",
        "plt.ylabel('True')  \n",
        "plt.show()"
      ],
      "execution_count": 47,
      "outputs": [
        {
          "output_type": "display_data",
          "data": {
            "text/plain": [
              "<Figure size 432x288 with 2 Axes>"
            ],
            "image/png": "[encoded data removed]"
          },
          "metadata": {}
        }
      ]
    },
    {
      "cell_type": "code",
      "metadata": {
        "id": "Qy9TsrHzIIbt"
      },
      "source": [
        "f1_model1 = f1_score(y_test_lg, y_pred1,average='macro')\n"
      ],
      "execution_count": 48,
      "outputs": []
    },
    {
      "cell_type": "code",
      "metadata": {
        "id": "nopcbmUFJL5l"
      },
      "source": [
        "def gender_trans_model1(name):\n",
        "    Name = [name]\n",
        "    vector = cv.transform(Name).toarray()\n",
        "    if model1.predict(vector) == 1:\n",
        "        print(\"Giới Tính: Nam\")\n",
        "    else:\n",
        "        print(\"Giới Tính: Nữ\")"
      ],
      "execution_count": 49,
      "outputs": []
    },
    {
      "cell_type": "code",
      "metadata": {
        "colab": {
          "base_uri": "https://localhost:8080/"
        },
        "id": "CKIgvA6MJVUs",
        "outputId": "e4b9b6fd-bc1a-45b6-d083-357e78e21e7b"
      },
      "source": [
        "gender_trans_model1(\"Thanh Thảo\")"
      ],
      "execution_count": 51,
      "outputs": [
        {
          "output_type": "stream",
          "name": "stdout",
          "text": [
            "Giới Tính: Nữ\n"
          ]
        }
      ]
    },
    {
      "cell_type": "markdown",
      "metadata": {
        "id": "boWSdPgZ4NZG"
      },
      "source": [
        "# Mô hình KNN"
      ]
    },
    {
      "cell_type": "code",
      "metadata": {
        "id": "x7hCS1QM4SPW"
      },
      "source": [
        "from sklearn.neighbors import KNeighborsClassifier\n",
        "from sklearn.feature_extraction.text import CountVectorizer\n",
        "from sklearn.model_selection import train_test_split\n",
        "from sklearn.metrics import accuracy_score\n",
        "from sklearn.metrics import f1_score"
      ],
      "execution_count": 50,
      "outputs": []
    },
    {
      "cell_type": "code",
      "metadata": {
        "id": "rNHb3AmoUl6L"
      },
      "source": [
        "X_train_KNN = cv.fit_transform(File_Train.Full_Names)\n",
        "y_train_KNN = File_Train.Gender\n",
        "X_test_KNN = cv.transform(File_Test.Full_Names)\n",
        "y_test_KNN = File_Test.Gender"
      ],
      "execution_count": 52,
      "outputs": []
    },
    {
      "cell_type": "code",
      "metadata": {
        "colab": {
          "base_uri": "https://localhost:8080/"
        },
        "id": "VMHHm0zAkpRo",
        "outputId": "cd0133f4-f3b4-47ea-fd21-15701fb5e8c1"
      },
      "source": [
        "# hiển thị một số thông tin về dữ liệu \n",
        "print(\"Dữ liệu training = \", X_train_KNN.shape, y_train_KNN.shape)\n",
        "print(\"Dữ liệu testing = \", X_test_KNN.shape, y_test_KNN.shape)"
      ],
      "execution_count": 53,
      "outputs": [
        {
          "output_type": "stream",
          "name": "stdout",
          "text": [
            "Dữ liệu training =  (18795, 1292) (18795,)\n",
            "Dữ liệu testing =  (5370, 1292) (5370,)\n"
          ]
        }
      ]
    },
    {
      "cell_type": "code",
      "metadata": {
        "colab": {
          "base_uri": "https://localhost:8080/"
        },
        "id": "2K96T1yC6TJP",
        "outputId": "745843b2-ef6a-47d6-d8ee-e7e500ce0a3e"
      },
      "source": [
        "KNN = KNeighborsClassifier(n_neighbors=3)\n",
        "\n",
        "KNN.fit(X_train_KNN, y_train_KNN)"
      ],
      "execution_count": 54,
      "outputs": [
        {
          "output_type": "execute_result",
          "data": {
            "text/plain": [
              "KNeighborsClassifier(n_neighbors=3)"
            ]
          },
          "metadata": {},
          "execution_count": 54
        }
      ]
    },
    {
      "cell_type": "code",
      "metadata": {
        "id": "1N1lvOgCG420"
      },
      "source": [
        "Pre_KNN= KNN.predict(X_test_KNN)"
      ],
      "execution_count": 55,
      "outputs": []
    },
    {
      "cell_type": "code",
      "metadata": {
        "colab": {
          "base_uri": "https://localhost:8080/"
        },
        "id": "TE6oVpJEomMe",
        "outputId": "19317d02-a646-4111-ffa5-594864bb1784"
      },
      "source": [
        "from sklearn.metrics import accuracy_score, precision_score, recall_score, f1_score\n",
        "print(\"Accuracy: \" + str(accuracy_score(y_test_KNN, Pre_KNN)))\n",
        "print(\"Precision: \" + str(precision_score(y_test_KNN, Pre_KNN)))\n",
        "print(\"Recall: \" + str(recall_score(y_test_KNN, Pre_KNN)))\n",
        "print(\"F1-micro: \" + str(f1_score(y_test_KNN, Pre_KNN)))\n",
        "print(\"F1-macro: \" + str(f1_score(y_test_KNN, Pre_KNN, average='macro')))\n",
        "cf = confusion_matrix(y_test_KNN, Pre_KNN)"
      ],
      "execution_count": 56,
      "outputs": [
        {
          "output_type": "stream",
          "name": "stdout",
          "text": [
            "Accuracy: 0.9163873370577281\n",
            "Precision: 0.9004869141813755\n",
            "Recall: 0.9604024667315807\n",
            "F1-micro: 0.9294801319302655\n",
            "F1-macro: 0.9134023115631205\n"
          ]
        }
      ]
    },
    {
      "cell_type": "code",
      "metadata": {
        "colab": {
          "base_uri": "https://localhost:8080/"
        },
        "id": "8g2wDmeHylEb",
        "outputId": "30094f48-ab51-43e0-b9f5-25f8e6234278"
      },
      "source": [
        "from sklearn.metrics import classification_report\n",
        "print(classification_report(y_test_SVM, Pre_svm)) "
      ],
      "execution_count": 57,
      "outputs": [
        {
          "output_type": "stream",
          "name": "stdout",
          "text": [
            "              precision    recall  f1-score   support\n",
            "\n",
            "           0       0.96      0.93      0.94      2289\n",
            "           1       0.95      0.97      0.96      3081\n",
            "\n",
            "    accuracy                           0.95      5370\n",
            "   macro avg       0.95      0.95      0.95      5370\n",
            "weighted avg       0.95      0.95      0.95      5370\n",
            "\n"
          ]
        }
      ]
    },
    {
      "cell_type": "code",
      "metadata": {
        "colab": {
          "base_uri": "https://localhost:8080/",
          "height": 295
        },
        "id": "ps53Bwkmo8_l",
        "outputId": "33ed8f94-9ef0-4021-fe33-0c6efa3431d0"
      },
      "source": [
        "from sklearn.metrics import confusion_matrix\n",
        "import seaborn as sn\n",
        "import matplotlib.pyplot as plt\n",
        "\n",
        "matrix_knn = confusion_matrix(y_test_KNN, Pre_KNN)\n",
        "sn.set(font_scale=1.4) \n",
        "sn.heatmap(matrix_knn, annot=True, annot_kws={\"size\": 16}, fmt='d') \n",
        "\n",
        "plt.xlabel('Predicted')\n",
        "plt.ylabel('True')\n",
        "plt.show()"
      ],
      "execution_count": 58,
      "outputs": [
        {
          "output_type": "display_data",
          "data": {
            "text/plain": [
              "<Figure size 432x288 with 2 Axes>"
            ],
            "image/png": "[encoded data removed]"
          },
          "metadata": {}
        }
      ]
    },
    {
      "cell_type": "code",
      "metadata": {
        "id": "DGHgqjrXnNBY",
        "colab": {
          "base_uri": "https://localhost:8080/"
        },
        "outputId": "09eed8d1-ca69-443a-d3ae-339f107b7006"
      },
      "source": [
        "y_pred = KNN.predict(X_test_KNN)\n",
        "f1_knn = f1_score(y_test_KNN, y_pred,average='macro')\n",
        "print(f1_knn)"
      ],
      "execution_count": 59,
      "outputs": [
        {
          "output_type": "stream",
          "name": "stdout",
          "text": [
            "0.9134023115631205\n"
          ]
        }
      ]
    },
    {
      "cell_type": "code",
      "metadata": {
        "id": "16M0YK3jVJgU"
      },
      "source": [
        "def gender_trans_knn(name):\n",
        "    Name = [name]\n",
        "    vector = cv.transform(Name).toarray()\n",
        "    if KNN.predict(vector) == 1:\n",
        "        print(\"Giới Tính:Nam\")\n",
        "    else:\n",
        "        print(\"Giới Tính:Nữ\")"
      ],
      "execution_count": 60,
      "outputs": []
    },
    {
      "cell_type": "code",
      "metadata": {
        "colab": {
          "base_uri": "https://localhost:8080/"
        },
        "id": "C0tCl7o2VVTj",
        "outputId": "34db8d73-0cfc-426d-c7e0-40d8436a3885"
      },
      "source": [
        "gender_trans_knn(\"Tố Phương\")"
      ],
      "execution_count": 68,
      "outputs": [
        {
          "output_type": "stream",
          "name": "stdout",
          "text": [
            "Giới Tính:Nam\n"
          ]
        }
      ]
    },
    {
      "cell_type": "markdown",
      "metadata": {
        "id": "643UI70hZie6"
      },
      "source": [
        "# Decision Tree"
      ]
    },
    {
      "cell_type": "code",
      "metadata": {
        "id": "B3DtTWI6NJxX"
      },
      "source": [
        "from sklearn.tree import DecisionTreeClassifier"
      ],
      "execution_count": 62,
      "outputs": []
    },
    {
      "cell_type": "code",
      "metadata": {
        "colab": {
          "base_uri": "https://localhost:8080/"
        },
        "id": "ygnDHOHuNLI_",
        "outputId": "fb157d18-0241-4888-d1db-0cc6ef3b8e4f"
      },
      "source": [
        "import time \n",
        "\n",
        "start_time = time.time()\n",
        "\n",
        "dtc = DecisionTreeClassifier(random_state=0,max_depth=65)\n",
        "dtc.fit(X_train_SVM,y_train_SVM)\n",
        "\n",
        "print(\"---- Mất {} để huấn luyện mô hình ----\".format((time.time() - start_time)))"
      ],
      "execution_count": 63,
      "outputs": [
        {
          "output_type": "stream",
          "name": "stdout",
          "text": [
            "---- Mất 0.1894214153289795 để huấn luyện mô hình ----\n"
          ]
        }
      ]
    },
    {
      "cell_type": "code",
      "metadata": {
        "colab": {
          "base_uri": "https://localhost:8080/"
        },
        "id": "t2mmppZgOIVQ",
        "outputId": "eda4a189-e826-4df3-a8bb-ba3a260e8140"
      },
      "source": [
        "predictions_DT = dtc.predict(X_test_SVM)\n",
        "\n",
        "# Use accuracy_score function to get the accuracy\n",
        "print(\"SVM Accuracy Score -> \",accuracy_score(predictions_DT , y_test_SVM)*100)"
      ],
      "execution_count": 64,
      "outputs": [
        {
          "output_type": "stream",
          "name": "stdout",
          "text": [
            "SVM Accuracy Score ->  93.7243947858473\n"
          ]
        }
      ]
    }
  ]
}