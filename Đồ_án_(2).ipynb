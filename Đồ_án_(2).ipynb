{
  "nbformat": 4,
  "nbformat_minor": 0,
  "metadata": {
    "colab": {
      "provenance": [],
      "collapsed_sections": [],
      "toc_visible": true,
      "include_colab_link": true
    },
    "kernelspec": {
      "display_name": "Python 3",
      "name": "python3"
    },
    "language_info": {
      "name": "python"
    }
  },
  "cells": [
    {
      "cell_type": "markdown",
      "metadata": {
        "id": "view-in-github",
        "colab_type": "text"
      },
      "source": [
        "<a href=\"https://colab.research.google.com/github/khacphuong2503/Machine-Learning/blob/main/%C4%90%E1%BB%93_%C3%A1n_(2).ipynb\" target=\"_parent\"><img src=\"https://colab.research.google.com/assets/colab-badge.svg\" alt=\"Open In Colab\"/></a>"
      ]
    },
    {
      "cell_type": "code",
      "metadata": {
        "colab": {
          "base_uri": "https://localhost:8080/"
        },
        "id": "lIe9D1yBdpzL",
        "outputId": "1242b45b-3044-4301-b991-82776d4e4bb9"
      },
      "source": [
        "from google.colab import drive\n",
        "drive.mount('/content/drive')"
      ],
      "execution_count": null,
      "outputs": [
        {
          "output_type": "stream",
          "name": "stdout",
          "text": [
            "Mounted at /content/drive\n"
          ]
        }
      ]
    },
    {
      "cell_type": "code",
      "metadata": {
        "id": "dopQuMdzPBXY"
      },
      "source": [
        "import numpy as np\n",
        "import pandas as pd\n",
        "DataFile=pd.read_csv(\"/content/drive/MyDrive/DS102/UIT-ViNames/UIT-ViNames - Train.csv\")"
      ],
      "execution_count": null,
      "outputs": []
    },
    {
      "cell_type": "code",
      "metadata": {
        "colab": {
          "base_uri": "https://localhost:8080/"
        },
        "id": "51zPr5qLPUKo",
        "outputId": "f82d938d-9046-4e51-f28c-85babb855e16"
      },
      "source": [
        "print(DataFile)\n",
        "print('Giới tính nam',DataFile[DataFile.Gender==1].size)\n",
        "print('Giới tính nữ',DataFile[DataFile.Gender==0].size)\n",
        "print('Điểm dữ liệu',len(DataFile))"
      ],
      "execution_count": null,
      "outputs": [
        {
          "output_type": "stream",
          "name": "stdout",
          "text": [
            "                    Full_Names  Gender\n",
            "0                Ngô Xuân Tùng       1\n",
            "1            Bùi Dương Thảo Vy       0\n",
            "2                  Lưu Thế Huy       1\n",
            "3               Nguyễn Thị Vân       0\n",
            "4              Dương Minh Long       1\n",
            "...                        ...     ...\n",
            "18790     Trần Nguyễn Tường Vy       0\n",
            "18791              Phan Hải Âu       1\n",
            "18792  Phạm Trương Trúc Phương       0\n",
            "18793         Nguyễn Diệu Hiền       0\n",
            "18794     Nguyễn Đoàn Thảo Nhi       0\n",
            "\n",
            "[18795 rows x 2 columns]\n",
            "Giới tính nam 21648\n",
            "Giới tính nữ 15942\n",
            "Điểm dữ liệu 18795\n"
          ]
        }
      ]
    },
    {
      "cell_type": "code",
      "metadata": {
        "colab": {
          "base_uri": "https://localhost:8080/",
          "height": 300
        },
        "id": "2sENeMrGq4Jv",
        "outputId": "64e0eed5-620b-4ea1-a882-c74c0e5ab110"
      },
      "source": [
        "DataFile.describe()"
      ],
      "execution_count": null,
      "outputs": [
        {
          "output_type": "execute_result",
          "data": {
            "text/html": [
              "<div>\n",
              "<style scoped>\n",
              "    .dataframe tbody tr th:only-of-type {\n",
              "        vertical-align: middle;\n",
              "    }\n",
              "\n",
              "    .dataframe tbody tr th {\n",
              "        vertical-align: top;\n",
              "    }\n",
              "\n",
              "    .dataframe thead th {\n",
              "        text-align: right;\n",
              "    }\n",
              "</style>\n",
              "<table border=\"1\" class=\"dataframe\">\n",
              "  <thead>\n",
              "    <tr style=\"text-align: right;\">\n",
              "      <th></th>\n",
              "      <th>Gender</th>\n",
              "    </tr>\n",
              "  </thead>\n",
              "  <tbody>\n",
              "    <tr>\n",
              "      <th>count</th>\n",
              "      <td>18795.000000</td>\n",
              "    </tr>\n",
              "    <tr>\n",
              "      <th>mean</th>\n",
              "      <td>0.575898</td>\n",
              "    </tr>\n",
              "    <tr>\n",
              "      <th>std</th>\n",
              "      <td>0.494219</td>\n",
              "    </tr>\n",
              "    <tr>\n",
              "      <th>min</th>\n",
              "      <td>0.000000</td>\n",
              "    </tr>\n",
              "    <tr>\n",
              "      <th>25%</th>\n",
              "      <td>0.000000</td>\n",
              "    </tr>\n",
              "    <tr>\n",
              "      <th>50%</th>\n",
              "      <td>1.000000</td>\n",
              "    </tr>\n",
              "    <tr>\n",
              "      <th>75%</th>\n",
              "      <td>1.000000</td>\n",
              "    </tr>\n",
              "    <tr>\n",
              "      <th>max</th>\n",
              "      <td>1.000000</td>\n",
              "    </tr>\n",
              "  </tbody>\n",
              "</table>\n",
              "</div>"
            ],
            "text/plain": [
              "             Gender\n",
              "count  18795.000000\n",
              "mean       0.575898\n",
              "std        0.494219\n",
              "min        0.000000\n",
              "25%        0.000000\n",
              "50%        1.000000\n",
              "75%        1.000000\n",
              "max        1.000000"
            ]
          },
          "metadata": {},
          "execution_count": 4
        }
      ]
    },
    {
      "cell_type": "code",
      "metadata": {
        "id": "8vfziq3UQ_8I"
      },
      "source": [
        "File_Train=pd.read_csv(\"/content/drive/MyDrive/DS102/UIT-ViNames/UIT-ViNames - Train.csv\")\n",
        "File_Test=pd.read_csv(\"/content/drive/MyDrive/DS102/UIT-ViNames/UIT-ViNames-Test.csv\")"
      ],
      "execution_count": null,
      "outputs": []
    },
    {
      "cell_type": "markdown",
      "metadata": {
        "id": "QkEZoZAJnGWR"
      },
      "source": [
        "# Phân chia dữ liệu"
      ]
    },
    {
      "cell_type": "code",
      "metadata": {
        "id": "Tl08AAFLwl1f"
      },
      "source": [
        "def Split_File(file):\n",
        "  i =0\n",
        "  file[\"First_Name\"]=file[\"Mid_Name\"]=file[\"Last_Name\"]=file.Full_Names\n",
        "  for FULL_NAME in file.Full_Names:\n",
        "    Name=FULL_NAME\n",
        "    Name_Split= Name.split()\n",
        "    file.First_Name[i]=Name_Split[0]\n",
        "    file.Mid_Name[i]=str(Name_Split[1:-1])\n",
        "    file.Last_Name[i]=Name_Split[-1]\n",
        "    i=i+1\n"
      ],
      "execution_count": null,
      "outputs": []
    },
    {
      "cell_type": "code",
      "metadata": {
        "colab": {
          "base_uri": "https://localhost:8080/"
        },
        "id": "4WcUUwd5TKLr",
        "outputId": "4241865e-c868-4c2d-afdd-e043d9bda446"
      },
      "source": [
        "Split_File(File_Train)"
      ],
      "execution_count": null,
      "outputs": [
        {
          "output_type": "stream",
          "name": "stderr",
          "text": [
            "/usr/local/lib/python3.7/dist-packages/ipykernel_launcher.py:7: SettingWithCopyWarning: \n",
            "A value is trying to be set on a copy of a slice from a DataFrame\n",
            "\n",
            "See the caveats in the documentation: https://pandas.pydata.org/pandas-docs/stable/user_guide/indexing.html#returning-a-view-versus-a-copy\n",
            "  import sys\n",
            "/usr/local/lib/python3.7/dist-packages/ipykernel_launcher.py:8: SettingWithCopyWarning: \n",
            "A value is trying to be set on a copy of a slice from a DataFrame\n",
            "\n",
            "See the caveats in the documentation: https://pandas.pydata.org/pandas-docs/stable/user_guide/indexing.html#returning-a-view-versus-a-copy\n",
            "  \n",
            "/usr/local/lib/python3.7/dist-packages/ipykernel_launcher.py:9: SettingWithCopyWarning: \n",
            "A value is trying to be set on a copy of a slice from a DataFrame\n",
            "\n",
            "See the caveats in the documentation: https://pandas.pydata.org/pandas-docs/stable/user_guide/indexing.html#returning-a-view-versus-a-copy\n",
            "  if __name__ == '__main__':\n"
          ]
        }
      ]
    },
    {
      "cell_type": "code",
      "metadata": {
        "id": "NIi0tDhiwlKn",
        "colab": {
          "base_uri": "https://localhost:8080/",
          "height": 423
        },
        "outputId": "18c57ea6-d6f3-4f45-f404-67f126aa347b"
      },
      "source": [
        "File_Train"
      ],
      "execution_count": null,
      "outputs": [
        {
          "output_type": "execute_result",
          "data": {
            "text/html": [
              "<div>\n",
              "<style scoped>\n",
              "    .dataframe tbody tr th:only-of-type {\n",
              "        vertical-align: middle;\n",
              "    }\n",
              "\n",
              "    .dataframe tbody tr th {\n",
              "        vertical-align: top;\n",
              "    }\n",
              "\n",
              "    .dataframe thead th {\n",
              "        text-align: right;\n",
              "    }\n",
              "</style>\n",
              "<table border=\"1\" class=\"dataframe\">\n",
              "  <thead>\n",
              "    <tr style=\"text-align: right;\">\n",
              "      <th></th>\n",
              "      <th>Full_Names</th>\n",
              "      <th>Gender</th>\n",
              "      <th>First_Name</th>\n",
              "      <th>Mid_Name</th>\n",
              "      <th>Last_Name</th>\n",
              "    </tr>\n",
              "  </thead>\n",
              "  <tbody>\n",
              "    <tr>\n",
              "      <th>0</th>\n",
              "      <td>Ngô Xuân Tùng</td>\n",
              "      <td>1</td>\n",
              "      <td>Ngô</td>\n",
              "      <td>['Xuân']</td>\n",
              "      <td>Tùng</td>\n",
              "    </tr>\n",
              "    <tr>\n",
              "      <th>1</th>\n",
              "      <td>Bùi Dương Thảo Vy</td>\n",
              "      <td>0</td>\n",
              "      <td>Bùi</td>\n",
              "      <td>['Dương', 'Thảo']</td>\n",
              "      <td>Vy</td>\n",
              "    </tr>\n",
              "    <tr>\n",
              "      <th>2</th>\n",
              "      <td>Lưu Thế Huy</td>\n",
              "      <td>1</td>\n",
              "      <td>Lưu</td>\n",
              "      <td>['Thế']</td>\n",
              "      <td>Huy</td>\n",
              "    </tr>\n",
              "    <tr>\n",
              "      <th>3</th>\n",
              "      <td>Nguyễn Thị Vân</td>\n",
              "      <td>0</td>\n",
              "      <td>Nguyễn</td>\n",
              "      <td>['Thị']</td>\n",
              "      <td>Vân</td>\n",
              "    </tr>\n",
              "    <tr>\n",
              "      <th>4</th>\n",
              "      <td>Dương Minh Long</td>\n",
              "      <td>1</td>\n",
              "      <td>Dương</td>\n",
              "      <td>['Minh']</td>\n",
              "      <td>Long</td>\n",
              "    </tr>\n",
              "    <tr>\n",
              "      <th>...</th>\n",
              "      <td>...</td>\n",
              "      <td>...</td>\n",
              "      <td>...</td>\n",
              "      <td>...</td>\n",
              "      <td>...</td>\n",
              "    </tr>\n",
              "    <tr>\n",
              "      <th>18790</th>\n",
              "      <td>Trần Nguyễn Tường Vy</td>\n",
              "      <td>0</td>\n",
              "      <td>Trần</td>\n",
              "      <td>['Nguyễn', 'Tường']</td>\n",
              "      <td>Vy</td>\n",
              "    </tr>\n",
              "    <tr>\n",
              "      <th>18791</th>\n",
              "      <td>Phan Hải Âu</td>\n",
              "      <td>1</td>\n",
              "      <td>Phan</td>\n",
              "      <td>['Hải']</td>\n",
              "      <td>Âu</td>\n",
              "    </tr>\n",
              "    <tr>\n",
              "      <th>18792</th>\n",
              "      <td>Phạm Trương Trúc Phương</td>\n",
              "      <td>0</td>\n",
              "      <td>Phạm</td>\n",
              "      <td>['Trương', 'Trúc']</td>\n",
              "      <td>Phương</td>\n",
              "    </tr>\n",
              "    <tr>\n",
              "      <th>18793</th>\n",
              "      <td>Nguyễn Diệu Hiền</td>\n",
              "      <td>0</td>\n",
              "      <td>Nguyễn</td>\n",
              "      <td>['Diệu']</td>\n",
              "      <td>Hiền</td>\n",
              "    </tr>\n",
              "    <tr>\n",
              "      <th>18794</th>\n",
              "      <td>Nguyễn Đoàn Thảo Nhi</td>\n",
              "      <td>0</td>\n",
              "      <td>Nguyễn</td>\n",
              "      <td>['Đoàn', 'Thảo']</td>\n",
              "      <td>Nhi</td>\n",
              "    </tr>\n",
              "  </tbody>\n",
              "</table>\n",
              "<p>18795 rows × 5 columns</p>\n",
              "</div>"
            ],
            "text/plain": [
              "                    Full_Names  Gender  ...             Mid_Name Last_Name\n",
              "0                Ngô Xuân Tùng       1  ...             ['Xuân']      Tùng\n",
              "1            Bùi Dương Thảo Vy       0  ...    ['Dương', 'Thảo']        Vy\n",
              "2                  Lưu Thế Huy       1  ...              ['Thế']       Huy\n",
              "3               Nguyễn Thị Vân       0  ...              ['Thị']       Vân\n",
              "4              Dương Minh Long       1  ...             ['Minh']      Long\n",
              "...                        ...     ...  ...                  ...       ...\n",
              "18790     Trần Nguyễn Tường Vy       0  ...  ['Nguyễn', 'Tường']        Vy\n",
              "18791              Phan Hải Âu       1  ...              ['Hải']        Âu\n",
              "18792  Phạm Trương Trúc Phương       0  ...   ['Trương', 'Trúc']    Phương\n",
              "18793         Nguyễn Diệu Hiền       0  ...             ['Diệu']      Hiền\n",
              "18794     Nguyễn Đoàn Thảo Nhi       0  ...     ['Đoàn', 'Thảo']       Nhi\n",
              "\n",
              "[18795 rows x 5 columns]"
            ]
          },
          "metadata": {},
          "execution_count": 8
        }
      ]
    },
    {
      "cell_type": "markdown",
      "metadata": {
        "id": "bCE2XDPXXIlr"
      },
      "source": [
        "#Mô hình NB"
      ]
    },
    {
      "cell_type": "code",
      "metadata": {
        "id": "I4gK6fS7kcBf"
      },
      "source": [
        "from sklearn.model_selection import train_test_split\n",
        "from sklearn.feature_extraction.text import CountVectorizer\n",
        "from sklearn.naive_bayes import MultinomialNB"
      ],
      "execution_count": null,
      "outputs": []
    },
    {
      "cell_type": "code",
      "metadata": {
        "id": "VCzgOpcWnDPK"
      },
      "source": [
        "cv = CountVectorizer()\n",
        "X_train = cv.fit_transform(File_Train.Full_Names)\n",
        "y_train = File_Train.Gender\n",
        "X_test = cv.transform(File_Test.Full_Names)\n",
        "y_test = File_Test.Gender"
      ],
      "execution_count": null,
      "outputs": []
    },
    {
      "cell_type": "code",
      "metadata": {
        "colab": {
          "base_uri": "https://localhost:8080/"
        },
        "id": "1YlFU_yDyiBc",
        "outputId": "a77d56b0-450b-46fa-f066-7ed09333494b"
      },
      "source": [
        "# hiển thị một số thông tin về dữ liệu \n",
        "print(\"Dữ liệu training = \", X_train.shape, y_train.shape)\n",
        "print(\"Dữ liệu testing = \", X_test.shape, y_test.shape)"
      ],
      "execution_count": null,
      "outputs": [
        {
          "output_type": "stream",
          "name": "stdout",
          "text": [
            "Dữ liệu training =  (18795, 1292) (18795,)\n",
            "Dữ liệu testing =  (5370, 1292) (5370,)\n"
          ]
        }
      ]
    },
    {
      "cell_type": "code",
      "metadata": {
        "colab": {
          "base_uri": "https://localhost:8080/"
        },
        "id": "4TUrglYLSAlg",
        "outputId": "8e9654a4-1d12-41f8-b506-e3b749fe0c29"
      },
      "source": [
        "print(\"- Training ...\")\n",
        "clf = MultinomialNB()\n",
        "clf.fit(X_train,y_train)\n",
        "print(\"- model - train complete\")"
      ],
      "execution_count": null,
      "outputs": [
        {
          "output_type": "stream",
          "name": "stdout",
          "text": [
            "- Training ...\n",
            "- model - train complete\n"
          ]
        }
      ]
    },
    {
      "cell_type": "code",
      "metadata": {
        "colab": {
          "base_uri": "https://localhost:8080/"
        },
        "id": "7-MIzqIOzUw8",
        "outputId": "4c8fc28e-0c6a-4e10-d112-e065bbea302f"
      },
      "source": [
        "print(\"- Test ...\")\n",
        "clf.score(X_test,y_test)\n",
        "Pre_clf=clf.predict(X_test)"
      ],
      "execution_count": null,
      "outputs": [
        {
          "output_type": "stream",
          "name": "stdout",
          "text": [
            "- Test ...\n"
          ]
        }
      ]
    },
    {
      "cell_type": "code",
      "metadata": {
        "colab": {
          "base_uri": "https://localhost:8080/",
          "height": 520
        },
        "id": "7e5xtYdN3Ai8",
        "outputId": "31a43619-1b76-49df-837a-ad91a946c331"
      },
      "source": [
        "File_Test[:15]"
      ],
      "execution_count": null,
      "outputs": [
        {
          "output_type": "execute_result",
          "data": {
            "text/html": [
              "<div>\n",
              "<style scoped>\n",
              "    .dataframe tbody tr th:only-of-type {\n",
              "        vertical-align: middle;\n",
              "    }\n",
              "\n",
              "    .dataframe tbody tr th {\n",
              "        vertical-align: top;\n",
              "    }\n",
              "\n",
              "    .dataframe thead th {\n",
              "        text-align: right;\n",
              "    }\n",
              "</style>\n",
              "<table border=\"1\" class=\"dataframe\">\n",
              "  <thead>\n",
              "    <tr style=\"text-align: right;\">\n",
              "      <th></th>\n",
              "      <th>Full_Names</th>\n",
              "      <th>Gender</th>\n",
              "    </tr>\n",
              "  </thead>\n",
              "  <tbody>\n",
              "    <tr>\n",
              "      <th>0</th>\n",
              "      <td>Nguyễn Văn Tiến</td>\n",
              "      <td>1</td>\n",
              "    </tr>\n",
              "    <tr>\n",
              "      <th>1</th>\n",
              "      <td>Vũ Minh Nhật</td>\n",
              "      <td>1</td>\n",
              "    </tr>\n",
              "    <tr>\n",
              "      <th>2</th>\n",
              "      <td>Nguyễn Ngọc Thành</td>\n",
              "      <td>1</td>\n",
              "    </tr>\n",
              "    <tr>\n",
              "      <th>3</th>\n",
              "      <td>Lê Văn Tuấn</td>\n",
              "      <td>1</td>\n",
              "    </tr>\n",
              "    <tr>\n",
              "      <th>4</th>\n",
              "      <td>Nguyễn Duy Khánh</td>\n",
              "      <td>1</td>\n",
              "    </tr>\n",
              "    <tr>\n",
              "      <th>5</th>\n",
              "      <td>Trần Hiếu</td>\n",
              "      <td>0</td>\n",
              "    </tr>\n",
              "    <tr>\n",
              "      <th>6</th>\n",
              "      <td>Nguyễn Thị Thu Huyền</td>\n",
              "      <td>0</td>\n",
              "    </tr>\n",
              "    <tr>\n",
              "      <th>7</th>\n",
              "      <td>Trương Thanh Sơn</td>\n",
              "      <td>1</td>\n",
              "    </tr>\n",
              "    <tr>\n",
              "      <th>8</th>\n",
              "      <td>Lê Văn Bảo</td>\n",
              "      <td>1</td>\n",
              "    </tr>\n",
              "    <tr>\n",
              "      <th>9</th>\n",
              "      <td>Thủy Ngọc Hà</td>\n",
              "      <td>1</td>\n",
              "    </tr>\n",
              "    <tr>\n",
              "      <th>10</th>\n",
              "      <td>Trần Thị Linh Nhi</td>\n",
              "      <td>0</td>\n",
              "    </tr>\n",
              "    <tr>\n",
              "      <th>11</th>\n",
              "      <td>Nguyễn Thị Linh</td>\n",
              "      <td>0</td>\n",
              "    </tr>\n",
              "    <tr>\n",
              "      <th>12</th>\n",
              "      <td>Phạm Thị Thanh Thúy</td>\n",
              "      <td>0</td>\n",
              "    </tr>\n",
              "    <tr>\n",
              "      <th>13</th>\n",
              "      <td>Lương Quốc Huy</td>\n",
              "      <td>1</td>\n",
              "    </tr>\n",
              "    <tr>\n",
              "      <th>14</th>\n",
              "      <td>Khưu Ngọc Anh</td>\n",
              "      <td>0</td>\n",
              "    </tr>\n",
              "  </tbody>\n",
              "</table>\n",
              "</div>"
            ],
            "text/plain": [
              "              Full_Names  Gender\n",
              "0        Nguyễn Văn Tiến       1\n",
              "1           Vũ Minh Nhật       1\n",
              "2      Nguyễn Ngọc Thành       1\n",
              "3            Lê Văn Tuấn       1\n",
              "4       Nguyễn Duy Khánh       1\n",
              "5              Trần Hiếu       0\n",
              "6   Nguyễn Thị Thu Huyền       0\n",
              "7       Trương Thanh Sơn       1\n",
              "8             Lê Văn Bảo       1\n",
              "9           Thủy Ngọc Hà       1\n",
              "10     Trần Thị Linh Nhi       0\n",
              "11       Nguyễn Thị Linh       0\n",
              "12   Phạm Thị Thanh Thúy       0\n",
              "13        Lương Quốc Huy       1\n",
              "14         Khưu Ngọc Anh       0"
            ]
          },
          "metadata": {},
          "execution_count": 14
        }
      ]
    },
    {
      "cell_type": "code",
      "metadata": {
        "colab": {
          "base_uri": "https://localhost:8080/"
        },
        "id": "BjkmLykH6FR2",
        "outputId": "ba549892-048c-40b9-aa58-9bcaa4c2f6a9"
      },
      "source": [
        "Pre_clf[:15]"
      ],
      "execution_count": null,
      "outputs": [
        {
          "output_type": "execute_result",
          "data": {
            "text/plain": [
              "array([1, 1, 1, 1, 1, 1, 0, 1, 1, 0, 0, 0, 0, 1, 0])"
            ]
          },
          "metadata": {},
          "execution_count": 15
        }
      ]
    },
    {
      "cell_type": "code",
      "metadata": {
        "id": "ndZmMJUxs434"
      },
      "source": [
        "import csv\n",
        "writer = csv.writer(open(\"/content/drive/MyDrive/DS102/out_true.csv\", 'w'))\n",
        "writer.writerow([\"Full_Names\",\"Gender_Predicted\",\"Gender_True\"])\n",
        "i=0\n",
        "for x in Pre_clf[:15]:\n",
        "  if (x == File_Test.Gender[i]):\n",
        "    writer.writerow([File_Test.Full_Names[i],x,File_Test.Gender[i]])\n",
        "    #arr_true.append([File_Test.Full_Names[i],x,File_Test.Gender[i]])\n",
        "  i+=1"
      ],
      "execution_count": null,
      "outputs": []
    },
    {
      "cell_type": "code",
      "metadata": {
        "id": "EsjIN-ZX61J1"
      },
      "source": [
        "def Out_CSV(Module,File_CSV): # mô hình,file csv cần xuất: Hàm xuất đúng  chỉ cần đổi tên file trong đg dẫn và phép so sánh => file CSV sai\n",
        "  writer = csv.writer(open(\"/content/drive/MyDrive/DS102/out_3.csv\", 'w'))\n",
        "  writer.writerow([\"Full_Names\",\"Gender_Predicted\",\"Gender_True\"])\n",
        "  i=0\n",
        "  for x in Module:\n",
        "    if (x != File_CSV.Gender[i]):\n",
        "      writer.writerow([File_CSV.Full_Names[i],x,File_CSV.Gender[i]])\n",
        "      #arr_true.append([File_Test.Attr[i],x,File_CSV.Gender[i]])\n",
        "    i+=1"
      ],
      "execution_count": null,
      "outputs": []
    },
    {
      "cell_type": "code",
      "metadata": {
        "id": "rN5WRazh_8Ds"
      },
      "source": [
        "Out_CSV(Pre_clf,File_Test)"
      ],
      "execution_count": null,
      "outputs": []
    },
    {
      "cell_type": "code",
      "metadata": {
        "colab": {
          "base_uri": "https://localhost:8080/",
          "height": 165
        },
        "id": "TfbCISlV2B7d",
        "outputId": "6e54c6ef-f720-4f0f-b326-412b2539c13f"
      },
      "source": [
        "arr_true"
      ],
      "execution_count": null,
      "outputs": [
        {
          "output_type": "error",
          "ename": "NameError",
          "evalue": "ignored",
          "traceback": [
            "\u001b[0;31m---------------------------------------------------------------------------\u001b[0m",
            "\u001b[0;31mNameError\u001b[0m                                 Traceback (most recent call last)",
            "\u001b[0;32m<ipython-input-26-a70c8dfd028a>\u001b[0m in \u001b[0;36m<module>\u001b[0;34m()\u001b[0m\n\u001b[0;32m----> 1\u001b[0;31m \u001b[0marr_true\u001b[0m\u001b[0;34m\u001b[0m\u001b[0;34m\u001b[0m\u001b[0m\n\u001b[0m",
            "\u001b[0;31mNameError\u001b[0m: name 'arr_true' is not defined"
          ]
        }
      ]
    },
    {
      "cell_type": "code",
      "metadata": {
        "colab": {
          "base_uri": "https://localhost:8080/"
        },
        "id": "qlNbnqeLXTKL",
        "outputId": "4336969f-9ed6-4464-f525-da4865ca72f7"
      },
      "source": [
        "from sklearn.metrics import accuracy_score, precision_score, recall_score, f1_score, confusion_matrix\n",
        "print(\"Accuracy: \" + str(accuracy_score(y_test, Pre_clf)))\n",
        "print(\"Precision: \" + str(precision_score(y_test, Pre_clf)))\n",
        "print(\"Recall: \" + str(recall_score(y_test, Pre_clf)))\n",
        "print(\"F1-micro: \" + str(f1_score(y_test, Pre_clf)))\n",
        "print(\"F1-macro: \" + str(f1_score(y_test, Pre_clf, average='macro')))\n",
        "cf = confusion_matrix(y_test, Pre_clf)\n"
      ],
      "execution_count": null,
      "outputs": [
        {
          "output_type": "stream",
          "name": "stdout",
          "text": [
            "Accuracy: 0.9493482309124768\n",
            "Precision: 0.9558584875040571\n",
            "Recall: 0.9558584875040571\n",
            "F1-micro: 0.9558584875040571\n",
            "F1-macro: 0.948221947989687\n"
          ]
        }
      ]
    },
    {
      "cell_type": "code",
      "metadata": {
        "colab": {
          "base_uri": "https://localhost:8080/"
        },
        "id": "IGGn4iXRx--M",
        "outputId": "94290cc7-3837-4a5c-dfe5-16defcd57aea"
      },
      "source": [
        "from sklearn.metrics import classification_report\n",
        "print(classification_report(y_test, Pre_clf)) "
      ],
      "execution_count": null,
      "outputs": [
        {
          "output_type": "stream",
          "name": "stdout",
          "text": [
            "              precision    recall  f1-score   support\n",
            "\n",
            "           0       0.95      0.89      0.92      2289\n",
            "           1       0.92      0.96      0.94      3081\n",
            "\n",
            "    accuracy                           0.93      5370\n",
            "   macro avg       0.93      0.93      0.93      5370\n",
            "weighted avg       0.93      0.93      0.93      5370\n",
            "\n"
          ]
        }
      ]
    },
    {
      "cell_type": "code",
      "metadata": {
        "id": "Fb_XW6NOn7XP"
      },
      "source": [
        "from sklearn.metrics import confusion_matrix\n",
        "\n",
        "matrix_clf = confusion_matrix(y_test, Pre_clf)"
      ],
      "execution_count": null,
      "outputs": []
    },
    {
      "cell_type": "code",
      "metadata": {
        "colab": {
          "base_uri": "https://localhost:8080/",
          "height": 295
        },
        "id": "uIWoxJE2l_Hv",
        "outputId": "f50fe557-92de-40c4-dee0-bc6f787aba58"
      },
      "source": [
        "import seaborn as sn\n",
        "import matplotlib.pyplot as plt\n",
        "\n",
        "sn.set(font_scale=1.4) \n",
        "sn.heatmap(matrix_clf, annot=True, annot_kws={\"size\": 16}, fmt='d') \n",
        "\n",
        "plt.xlabel('Predicted')\n",
        "plt.ylabel('True')\n",
        "plt.show()"
      ],
      "execution_count": null,
      "outputs": [
        {
          "output_type": "display_data",
          "data": {
            "image/png": "[encoded data removed]",
            "text/plain": [
              "<Figure size 432x288 with 2 Axes>"
            ]
          },
          "metadata": {}
        }
      ]
    },
    {
      "cell_type": "code",
      "metadata": {
        "id": "250gGLWvU48P"
      },
      "source": [
        "def gender_trans_clf(name):\n",
        "    Name = [name]\n",
        "    vector = cv.transform(Name).toarray()\n",
        "    if clf.predict(vector) == 1:\n",
        "        print(\"Giới Tính: Nam\")\n",
        "    else:\n",
        "        print(\"Giới Tính: Nữ\")"
      ],
      "execution_count": null,
      "outputs": []
    },
    {
      "cell_type": "code",
      "metadata": {
        "colab": {
          "base_uri": "https://localhost:8080/"
        },
        "id": "r3E_yGtlU8GG",
        "outputId": "04f952d5-63b1-4334-eeff-eedc6d64950e"
      },
      "source": [
        "gender_trans_clf(\"Ngọc Anh\")"
      ],
      "execution_count": null,
      "outputs": [
        {
          "output_type": "stream",
          "name": "stdout",
          "text": [
            "Giới Tính: Nam\n"
          ]
        }
      ]
    },
    {
      "cell_type": "markdown",
      "metadata": {
        "id": "n1reg7VrtF5l"
      },
      "source": [
        "# Mô hình SVM và GridSearchCV\n"
      ]
    },
    {
      "cell_type": "code",
      "metadata": {
        "id": "I6Ox4xD7tI5E"
      },
      "source": [
        "from sklearn import svm\n",
        "from sklearn.feature_extraction.text import CountVectorizer\n",
        "from sklearn.model_selection import train_test_split\n",
        "from sklearn.metrics import accuracy_score\n"
      ],
      "execution_count": null,
      "outputs": []
    },
    {
      "cell_type": "code",
      "metadata": {
        "id": "pXktOJyctTVM"
      },
      "source": [
        "X_train_SVM = cv.fit_transform(File_Train.Full_Names)\n",
        "y_train_SVM = File_Train.Gender\n",
        "X_test_SVM = cv.transform(File_Test.Full_Names)\n",
        "y_test_SVM = File_Test.Gender"
      ],
      "execution_count": null,
      "outputs": []
    },
    {
      "cell_type": "code",
      "metadata": {
        "colab": {
          "base_uri": "https://localhost:8080/"
        },
        "id": "P9ufo_b4t8ik",
        "outputId": "419fe5e8-7cd1-4061-cd7c-c8e126dc5f9c"
      },
      "source": [
        "# hiển thị một số thông tin về dữ liệu \n",
        "print(\"Dữ liệu training = \", X_train_SVM.shape, y_train_SVM.shape)\n",
        "print(\"Dữ liệu testing = \", X_test_SVM.shape, y_test_SVM.shape)"
      ],
      "execution_count": null,
      "outputs": [
        {
          "output_type": "stream",
          "name": "stdout",
          "text": [
            "Dữ liệu training =  (18795, 1292) (18795,)\n",
            "Dữ liệu testing =  (5370, 1292) (5370,)\n"
          ]
        }
      ]
    },
    {
      "cell_type": "code",
      "metadata": {
        "colab": {
          "base_uri": "https://localhost:8080/"
        },
        "id": "PuU_txSjuRVr",
        "outputId": "c14bb8ab-59a8-467d-96ac-e2407a46880a"
      },
      "source": [
        "print(\"- Training ...\")\n",
        "# X_train.shape\n",
        "print(\"- Train size = {}\".format(X_train_SVM.shape))\n",
        "model = svm.SVC()\n",
        "model.fit(X_train_SVM, y_train_SVM)\n",
        "print(\"- model - train complete\")"
      ],
      "execution_count": null,
      "outputs": [
        {
          "output_type": "stream",
          "name": "stdout",
          "text": [
            "- Training ...\n",
            "- Train size = (18795, 1292)\n",
            "- model - train complete\n"
          ]
        }
      ]
    },
    {
      "cell_type": "code",
      "metadata": {
        "id": "TP_GBVL9uddc"
      },
      "source": [
        "y_pred = model.predict(X_test_SVM)\n",
        "Pre_svm=model.predict(X_test_SVM)"
      ],
      "execution_count": null,
      "outputs": []
    },
    {
      "cell_type": "code",
      "metadata": {
        "colab": {
          "base_uri": "https://localhost:8080/"
        },
        "id": "a1Zw1bk7inJf",
        "outputId": "22c013db-4a66-410f-8e64-57eee63670d1"
      },
      "source": [
        "from sklearn.metrics import accuracy_score, precision_score, recall_score, f1_score\n",
        "print(\"Accuracy: \" + str(accuracy_score(y_test_SVM, Pre_clf)))\n",
        "print(\"Precision: \" + str(precision_score(y_test_SVM, Pre_clf)))\n",
        "print(\"Recall: \" + str(recall_score(y_test_SVM, Pre_clf)))\n",
        "print(\"F1-micro: \" + str(f1_score(y_test_SVM, Pre_clf)))\n",
        "print(\"F1-macro: \" + str(f1_score(y_test_SVM, Pre_clf, average='macro')))\n",
        "cf = confusion_matrix(y_test_SVM, Pre_clf)"
      ],
      "execution_count": null,
      "outputs": [
        {
          "output_type": "stream",
          "name": "stdout",
          "text": [
            "Accuracy: 0.9320297951582868\n",
            "Precision: 0.9230529595015576\n",
            "Recall: 0.9617007465108731\n",
            "F1-micro: 0.9419806072166589\n",
            "F1-macro: 0.929969849573715\n"
          ]
        }
      ]
    },
    {
      "cell_type": "code",
      "metadata": {
        "colab": {
          "base_uri": "https://localhost:8080/"
        },
        "id": "Rp_Qnz2Oyfyk",
        "outputId": "7068c97a-6c59-4d0a-b659-99ff5cba0ec4"
      },
      "source": [
        "from sklearn.metrics import classification_report\n",
        "print(classification_report(y_test_SVM, Pre_svm)) "
      ],
      "execution_count": null,
      "outputs": [
        {
          "output_type": "stream",
          "name": "stdout",
          "text": [
            "              precision    recall  f1-score   support\n",
            "\n",
            "           0       0.96      0.93      0.94      2289\n",
            "           1       0.95      0.97      0.96      3081\n",
            "\n",
            "    accuracy                           0.95      5370\n",
            "   macro avg       0.95      0.95      0.95      5370\n",
            "weighted avg       0.95      0.95      0.95      5370\n",
            "\n"
          ]
        }
      ]
    },
    {
      "cell_type": "code",
      "metadata": {
        "id": "e5TZmnOloRcF"
      },
      "source": [
        "from sklearn.metrics import confusion_matrix\n",
        "\n",
        "matrix_svm = confusion_matrix(y_test_SVM, Pre_svm)"
      ],
      "execution_count": null,
      "outputs": []
    },
    {
      "cell_type": "code",
      "metadata": {
        "colab": {
          "base_uri": "https://localhost:8080/",
          "height": 295
        },
        "id": "DhnlVpKsmzKG",
        "outputId": "7a013074-073f-4f69-a5f8-cf6d6ff7a7f3"
      },
      "source": [
        "import seaborn as sn\n",
        "import matplotlib.pyplot as plt\n",
        "\n",
        "sn.set(font_scale=1.4) \n",
        "sn.heatmap(matrix_svm, annot=True, annot_kws={\"size\": 16}, fmt='d') \n",
        "\n",
        "plt.xlabel('Predicted')\n",
        "plt.ylabel('True')\n",
        "plt.show()"
      ],
      "execution_count": null,
      "outputs": [
        {
          "output_type": "display_data",
          "data": {
            "image/png": "[encoded data removed]",
            "text/plain": [
              "<Figure size 432x288 with 2 Axes>"
            ]
          },
          "metadata": {}
        }
      ]
    },
    {
      "cell_type": "code",
      "metadata": {
        "colab": {
          "base_uri": "https://localhost:8080/"
        },
        "id": "0rnoY8R4y8NE",
        "outputId": "b0522a64-352d-4cef-f2f4-4995251d6510"
      },
      "source": [
        "from sklearn.model_selection import GridSearchCV # link tham khảo:https://cafedev.vn/tu-hoc-ml-dieu-chinh-sieu-tham-so-svm-bang-gridsearchcv-ml/\n",
        "  \n",
        "# defining parameter range \n",
        "param_grid = {'C': [0.1, 1, 10],  \n",
        "              'gamma': [1, 0.1, 0.01], \n",
        "              'kernel': ['linear']}  \n",
        "  \n",
        "grid = GridSearchCV(svm.SVC(), param_grid, refit = True, verbose = 3) \n",
        "  \n",
        "# fitting the model for grid search \n",
        "grid.fit(X_train_SVM, y_train_SVM) "
      ],
      "execution_count": null,
      "outputs": [
        {
          "output_type": "stream",
          "name": "stdout",
          "text": [
            "Fitting 5 folds for each of 9 candidates, totalling 45 fits\n",
            "[CV 1/5] END .....C=0.1, gamma=1, kernel=linear;, score=0.943 total time=   3.0s\n",
            "[CV 2/5] END .....C=0.1, gamma=1, kernel=linear;, score=0.943 total time=   3.1s\n",
            "[CV 3/5] END .....C=0.1, gamma=1, kernel=linear;, score=0.944 total time=   3.1s\n",
            "[CV 4/5] END .....C=0.1, gamma=1, kernel=linear;, score=0.940 total time=   3.1s\n",
            "[CV 5/5] END .....C=0.1, gamma=1, kernel=linear;, score=0.942 total time=   3.1s\n",
            "[CV 1/5] END ...C=0.1, gamma=0.1, kernel=linear;, score=0.943 total time=   3.1s\n",
            "[CV 2/5] END ...C=0.1, gamma=0.1, kernel=linear;, score=0.943 total time=   3.1s\n",
            "[CV 3/5] END ...C=0.1, gamma=0.1, kernel=linear;, score=0.944 total time=   3.1s\n",
            "[CV 4/5] END ...C=0.1, gamma=0.1, kernel=linear;, score=0.940 total time=   3.1s\n",
            "[CV 5/5] END ...C=0.1, gamma=0.1, kernel=linear;, score=0.942 total time=   3.1s\n",
            "[CV 1/5] END ..C=0.1, gamma=0.01, kernel=linear;, score=0.943 total time=   3.0s\n",
            "[CV 2/5] END ..C=0.1, gamma=0.01, kernel=linear;, score=0.943 total time=   3.1s\n",
            "[CV 3/5] END ..C=0.1, gamma=0.01, kernel=linear;, score=0.944 total time=   3.1s\n",
            "[CV 4/5] END ..C=0.1, gamma=0.01, kernel=linear;, score=0.940 total time=   3.1s\n",
            "[CV 5/5] END ..C=0.1, gamma=0.01, kernel=linear;, score=0.942 total time=   3.1s\n",
            "[CV 1/5] END .......C=1, gamma=1, kernel=linear;, score=0.950 total time=   3.2s\n",
            "[CV 2/5] END .......C=1, gamma=1, kernel=linear;, score=0.950 total time=   3.3s\n",
            "[CV 3/5] END .......C=1, gamma=1, kernel=linear;, score=0.952 total time=   3.2s\n",
            "[CV 4/5] END .......C=1, gamma=1, kernel=linear;, score=0.944 total time=   3.2s\n",
            "[CV 5/5] END .......C=1, gamma=1, kernel=linear;, score=0.946 total time=   3.1s\n",
            "[CV 1/5] END .....C=1, gamma=0.1, kernel=linear;, score=0.950 total time=   3.2s\n",
            "[CV 2/5] END .....C=1, gamma=0.1, kernel=linear;, score=0.950 total time=   3.4s\n",
            "[CV 3/5] END .....C=1, gamma=0.1, kernel=linear;, score=0.952 total time=   3.1s\n",
            "[CV 4/5] END .....C=1, gamma=0.1, kernel=linear;, score=0.944 total time=   3.0s\n",
            "[CV 5/5] END .....C=1, gamma=0.1, kernel=linear;, score=0.946 total time=   3.1s\n",
            "[CV 1/5] END ....C=1, gamma=0.01, kernel=linear;, score=0.950 total time=   3.2s\n",
            "[CV 2/5] END ....C=1, gamma=0.01, kernel=linear;, score=0.950 total time=   3.4s\n",
            "[CV 3/5] END ....C=1, gamma=0.01, kernel=linear;, score=0.952 total time=   3.1s\n",
            "[CV 4/5] END ....C=1, gamma=0.01, kernel=linear;, score=0.944 total time=   3.1s\n",
            "[CV 5/5] END ....C=1, gamma=0.01, kernel=linear;, score=0.946 total time=   3.0s\n",
            "[CV 1/5] END ......C=10, gamma=1, kernel=linear;, score=0.951 total time=   6.5s\n",
            "[CV 2/5] END ......C=10, gamma=1, kernel=linear;, score=0.951 total time=   6.5s\n",
            "[CV 3/5] END ......C=10, gamma=1, kernel=linear;, score=0.954 total time=   5.7s\n",
            "[CV 4/5] END ......C=10, gamma=1, kernel=linear;, score=0.948 total time=   5.7s\n",
            "[CV 5/5] END ......C=10, gamma=1, kernel=linear;, score=0.945 total time=   6.4s\n",
            "[CV 1/5] END ....C=10, gamma=0.1, kernel=linear;, score=0.951 total time=   6.3s\n",
            "[CV 2/5] END ....C=10, gamma=0.1, kernel=linear;, score=0.951 total time=   6.3s\n",
            "[CV 3/5] END ....C=10, gamma=0.1, kernel=linear;, score=0.954 total time=   6.1s\n",
            "[CV 4/5] END ....C=10, gamma=0.1, kernel=linear;, score=0.948 total time=   6.7s\n",
            "[CV 5/5] END ....C=10, gamma=0.1, kernel=linear;, score=0.945 total time=   6.9s\n",
            "[CV 1/5] END ...C=10, gamma=0.01, kernel=linear;, score=0.951 total time=   6.5s\n",
            "[CV 2/5] END ...C=10, gamma=0.01, kernel=linear;, score=0.951 total time=   6.2s\n",
            "[CV 3/5] END ...C=10, gamma=0.01, kernel=linear;, score=0.954 total time=   5.9s\n",
            "[CV 4/5] END ...C=10, gamma=0.01, kernel=linear;, score=0.948 total time=   5.9s\n",
            "[CV 5/5] END ...C=10, gamma=0.01, kernel=linear;, score=0.945 total time=   6.5s\n"
          ]
        },
        {
          "output_type": "execute_result",
          "data": {
            "text/plain": [
              "GridSearchCV(estimator=SVC(),\n",
              "             param_grid={'C': [0.1, 1, 10], 'gamma': [1, 0.1, 0.01],\n",
              "                         'kernel': ['linear']},\n",
              "             verbose=3)"
            ]
          },
          "metadata": {},
          "execution_count": 31
        }
      ]
    },
    {
      "cell_type": "code",
      "metadata": {
        "id": "PGH981CHaDlb",
        "colab": {
          "base_uri": "https://localhost:8080/"
        },
        "outputId": "6d4fb0be-1c5f-4727-f690-a09d54056fd3"
      },
      "source": [
        "predictions = grid.predict(X_test_SVM) \n",
        "print(classification_report(y_test_SVM, predictions))"
      ],
      "execution_count": null,
      "outputs": [
        {
          "output_type": "stream",
          "name": "stdout",
          "text": [
            "              precision    recall  f1-score   support\n",
            "\n",
            "           0       0.96      0.93      0.94      2289\n",
            "           1       0.95      0.97      0.96      3081\n",
            "\n",
            "    accuracy                           0.95      5370\n",
            "   macro avg       0.95      0.95      0.95      5370\n",
            "weighted avg       0.95      0.95      0.95      5370\n",
            "\n"
          ]
        }
      ]
    },
    {
      "cell_type": "code",
      "metadata": {
        "id": "loZt-RFIi6TB",
        "colab": {
          "base_uri": "https://localhost:8080/"
        },
        "outputId": "d8b8cd17-ebe3-439f-8a44-084538921171"
      },
      "source": [
        "print(\"Thông số tốt nhất:\",grid.best_params_) \n",
        "print(\"Công cụ ướng tính tốt nhất:\",grid.best_estimator_) "
      ],
      "execution_count": null,
      "outputs": [
        {
          "output_type": "stream",
          "name": "stdout",
          "text": [
            "Thông số tốt nhất: {'C': 10, 'gamma': 1, 'kernel': 'linear'}\n",
            "Công cụ ướng tính tốt nhất: SVC(C=10, gamma=1, kernel='linear')\n"
          ]
        }
      ]
    },
    {
      "cell_type": "code",
      "metadata": {
        "id": "85v93HV1vTDE"
      },
      "source": [
        "def gender_trans_svm(name):\n",
        "    Name = [name]\n",
        "    vector = cv.transform(Name).toarray()\n",
        "    if model.predict(vector) == 1:\n",
        "        print(\"Giới Tính:Nam\")\n",
        "    else:\n",
        "        print(\"Giới Tính:Nữ\")"
      ],
      "execution_count": null,
      "outputs": []
    },
    {
      "cell_type": "code",
      "metadata": {
        "id": "DWWfhuTSxGat",
        "colab": {
          "base_uri": "https://localhost:8080/"
        },
        "outputId": "447499af-3f25-4aed-8d8a-e744825f51a7"
      },
      "source": [
        "gender_trans_svm(\"Nguyễn Ngọc Thủy\")"
      ],
      "execution_count": null,
      "outputs": [
        {
          "output_type": "stream",
          "name": "stdout",
          "text": [
            "Giới Tính:Nữ\n"
          ]
        }
      ]
    },
    {
      "cell_type": "markdown",
      "metadata": {
        "id": "4w__6y4N4KOW"
      },
      "source": [
        "# Mô hình Logistic regression"
      ]
    },
    {
      "cell_type": "code",
      "metadata": {
        "id": "CMV1EOTS4Mw-"
      },
      "source": [
        "from sklearn.linear_model import LogisticRegression\n",
        "from sklearn.feature_extraction.text import CountVectorizer\n",
        "from sklearn.model_selection import train_test_split\n",
        "from sklearn.metrics import accuracy_score"
      ],
      "execution_count": null,
      "outputs": []
    },
    {
      "cell_type": "code",
      "metadata": {
        "colab": {
          "base_uri": "https://localhost:8080/"
        },
        "id": "lAVRPFUY8M9d",
        "outputId": "3f9cd5d8-202f-46ac-b307-7bf2982cb38c"
      },
      "source": [
        "print(File_Train.columns)"
      ],
      "execution_count": null,
      "outputs": [
        {
          "output_type": "stream",
          "name": "stdout",
          "text": [
            "Index(['Full_Names', 'Gender', 'First_Name', 'Mid_Name', 'Last_Name'], dtype='object')\n"
          ]
        }
      ]
    },
    {
      "cell_type": "code",
      "metadata": {
        "colab": {
          "base_uri": "https://localhost:8080/",
          "height": 206
        },
        "id": "eFaoKLFQ8V9O",
        "outputId": "c3c8a76d-b9a0-41d5-95f0-4caae2d0c1fb"
      },
      "source": [
        "File_Train.sample(5)"
      ],
      "execution_count": null,
      "outputs": [
        {
          "output_type": "execute_result",
          "data": {
            "text/html": [
              "<div>\n",
              "<style scoped>\n",
              "    .dataframe tbody tr th:only-of-type {\n",
              "        vertical-align: middle;\n",
              "    }\n",
              "\n",
              "    .dataframe tbody tr th {\n",
              "        vertical-align: top;\n",
              "    }\n",
              "\n",
              "    .dataframe thead th {\n",
              "        text-align: right;\n",
              "    }\n",
              "</style>\n",
              "<table border=\"1\" class=\"dataframe\">\n",
              "  <thead>\n",
              "    <tr style=\"text-align: right;\">\n",
              "      <th></th>\n",
              "      <th>Full_Names</th>\n",
              "      <th>Gender</th>\n",
              "      <th>First_Name</th>\n",
              "      <th>Mid_Name</th>\n",
              "      <th>Last_Name</th>\n",
              "    </tr>\n",
              "  </thead>\n",
              "  <tbody>\n",
              "    <tr>\n",
              "      <th>11700</th>\n",
              "      <td>Nguyễn Thanh Huy</td>\n",
              "      <td>1</td>\n",
              "      <td>Nguyễn</td>\n",
              "      <td>['Thanh']</td>\n",
              "      <td>Huy</td>\n",
              "    </tr>\n",
              "    <tr>\n",
              "      <th>4267</th>\n",
              "      <td>Vũ Hoàng Thiên</td>\n",
              "      <td>1</td>\n",
              "      <td>Vũ</td>\n",
              "      <td>['Hoàng']</td>\n",
              "      <td>Thiên</td>\n",
              "    </tr>\n",
              "    <tr>\n",
              "      <th>8190</th>\n",
              "      <td>Nguyễn Văn Thế</td>\n",
              "      <td>1</td>\n",
              "      <td>Nguyễn</td>\n",
              "      <td>['Văn']</td>\n",
              "      <td>Thế</td>\n",
              "    </tr>\n",
              "    <tr>\n",
              "      <th>18185</th>\n",
              "      <td>Huỳnh Đặng Công Khánh</td>\n",
              "      <td>1</td>\n",
              "      <td>Huỳnh</td>\n",
              "      <td>['Đặng', 'Công']</td>\n",
              "      <td>Khánh</td>\n",
              "    </tr>\n",
              "    <tr>\n",
              "      <th>16122</th>\n",
              "      <td>Trần Đức Hậu</td>\n",
              "      <td>1</td>\n",
              "      <td>Trần</td>\n",
              "      <td>['Đức']</td>\n",
              "      <td>Hậu</td>\n",
              "    </tr>\n",
              "  </tbody>\n",
              "</table>\n",
              "</div>"
            ],
            "text/plain": [
              "                  Full_Names  Gender First_Name          Mid_Name Last_Name\n",
              "11700       Nguyễn Thanh Huy       1     Nguyễn         ['Thanh']       Huy\n",
              "4267          Vũ Hoàng Thiên       1         Vũ         ['Hoàng']     Thiên\n",
              "8190          Nguyễn Văn Thế       1     Nguyễn           ['Văn']       Thế\n",
              "18185  Huỳnh Đặng Công Khánh       1      Huỳnh  ['Đặng', 'Công']     Khánh\n",
              "16122           Trần Đức Hậu       1       Trần           ['Đức']       Hậu"
            ]
          },
          "metadata": {},
          "execution_count": 41
        }
      ]
    },
    {
      "cell_type": "code",
      "metadata": {
        "id": "TmIZKbjW230W"
      },
      "source": [
        "cv = CountVectorizer()\n",
        "X_train_lg = cv.fit_transform(File_Train.Full_Names)\n",
        "y_train_lg = File_Train.Gender\n",
        "X_test_lg = cv.transform(File_Test.Full_Names)\n",
        "y_test_lg = File_Test.Gender"
      ],
      "execution_count": null,
      "outputs": []
    },
    {
      "cell_type": "code",
      "metadata": {
        "colab": {
          "base_uri": "https://localhost:8080/"
        },
        "id": "oXr386Gc9ZS-",
        "outputId": "89263747-fa23-4100-8f91-37b1c96a5e4c"
      },
      "source": [
        "print(\"Dữ liệu training = \", X_train_lg.shape, y_train_lg.shape)\n",
        "print(\"Dữ liệu testing = \", X_test_lg.shape, y_test_lg.shape)"
      ],
      "execution_count": null,
      "outputs": [
        {
          "output_type": "stream",
          "name": "stdout",
          "text": [
            "Dữ liệu training =  (18795, 1292) (18795,)\n",
            "Dữ liệu testing =  (5370, 1292) (5370,)\n"
          ]
        }
      ]
    },
    {
      "cell_type": "code",
      "metadata": {
        "colab": {
          "base_uri": "https://localhost:8080/"
        },
        "id": "SQWZH3jUBv8V",
        "outputId": "84b8ff8f-e6a9-4009-9aea-331b24304cb8"
      },
      "source": [
        "model1 = LogisticRegression()\n",
        "model1.fit(X_train_lg, y_train_lg)"
      ],
      "execution_count": null,
      "outputs": [
        {
          "output_type": "execute_result",
          "data": {
            "text/plain": [
              "LogisticRegression()"
            ]
          },
          "metadata": {},
          "execution_count": 44
        }
      ]
    },
    {
      "cell_type": "code",
      "metadata": {
        "id": "zODEhiNKB1L1"
      },
      "source": [
        "y_pred1 = model1.predict(X_test_lg)"
      ],
      "execution_count": null,
      "outputs": []
    },
    {
      "cell_type": "code",
      "metadata": {
        "colab": {
          "base_uri": "https://localhost:8080/"
        },
        "id": "Spx3xjHnCJ_K",
        "outputId": "4f415609-8924-4053-c761-99b5b1838b71"
      },
      "source": [
        "from sklearn.metrics import accuracy_score, precision_score, recall_score, f1_score\n",
        "print(\"Accuracy: \" + str(accuracy_score(y_test_lg, y_pred1)))\n",
        "print(\"Precision: \" + str(precision_score(y_test_lg,y_pred1)))\n",
        "print(\"Recall: \" + str(recall_score(y_test_lg, y_pred1)))\n",
        "print(\"F1-micro: \" + str(f1_score(y_test_lg, y_pred1)))\n",
        "print(\"F1-macro: \" + str(f1_score(y_test_lg, y_pred1, average='macro')))\n",
        "cf = confusion_matrix(y_test_lg, y_pred1)"
      ],
      "execution_count": null,
      "outputs": [
        {
          "output_type": "stream",
          "name": "stdout",
          "text": [
            "Accuracy: 0.9547486033519553\n",
            "Precision: 0.9504761904761905\n",
            "Recall: 0.9717624148003895\n",
            "F1-micro: 0.9610014443909485\n",
            "F1-macro: 0.9535546144110431\n"
          ]
        }
      ]
    },
    {
      "cell_type": "code",
      "metadata": {
        "colab": {
          "base_uri": "https://localhost:8080/"
        },
        "id": "naNM6jdyp4Aj",
        "outputId": "a791551c-f78c-4d50-fa8d-8d1f4638bfbe"
      },
      "source": [
        "from sklearn.metrics import classification_report\n",
        "print(classification_report(y_test_lg, y_pred1)) "
      ],
      "execution_count": null,
      "outputs": [
        {
          "output_type": "stream",
          "name": "stdout",
          "text": [
            "              precision    recall  f1-score   support\n",
            "\n",
            "           0       0.96      0.93      0.95      2289\n",
            "           1       0.95      0.97      0.96      3081\n",
            "\n",
            "    accuracy                           0.95      5370\n",
            "   macro avg       0.96      0.95      0.95      5370\n",
            "weighted avg       0.95      0.95      0.95      5370\n",
            "\n"
          ]
        }
      ]
    },
    {
      "cell_type": "code",
      "metadata": {
        "colab": {
          "base_uri": "https://localhost:8080/",
          "height": 295
        },
        "id": "V7F-4IxiD_CG",
        "outputId": "f8d849c2-89ea-49e2-c492-8a47c79f3196"
      },
      "source": [
        "import seaborn as sn\n",
        "import matplotlib.pyplot as plt\n",
        "matrix_lg = confusion_matrix(y_test_lg, y_pred1)\n",
        "sn.set(font_scale=1.4) \n",
        "sn.heatmap(matrix_lg, annot=True, annot_kws={\"size\": 16}, fmt='d') \n",
        "\n",
        "plt.xlabel('Predicted')\n",
        "plt.ylabel('True')  \n",
        "plt.show()"
      ],
      "execution_count": null,
      "outputs": [
        {
          "output_type": "display_data",
          "data": {
            "image/png": "[encoded data removed]",
            "text/plain": [
              "<Figure size 432x288 with 2 Axes>"
            ]
          },
          "metadata": {}
        }
      ]
    },
    {
      "cell_type": "code",
      "metadata": {
        "id": "Qy9TsrHzIIbt"
      },
      "source": [
        "f1_model1 = f1_score(y_test_lg, y_pred1,average='macro')\n"
      ],
      "execution_count": null,
      "outputs": []
    },
    {
      "cell_type": "code",
      "metadata": {
        "id": "nopcbmUFJL5l"
      },
      "source": [
        "def gender_trans_model1(name):\n",
        "    Name = [name]\n",
        "    vector = cv.transform(Name).toarray()\n",
        "    if model1.predict(vector) == 1:\n",
        "        print(\"Giới Tính: Nam\")\n",
        "    else:\n",
        "        print(\"Giới Tính: Nữ\")"
      ],
      "execution_count": null,
      "outputs": []
    },
    {
      "cell_type": "code",
      "metadata": {
        "colab": {
          "base_uri": "https://localhost:8080/"
        },
        "id": "CKIgvA6MJVUs",
        "outputId": "290d40c8-8101-4be9-fa98-444afca39a01"
      },
      "source": [
        "gender_trans_model1(\"Thanh Thảo\")"
      ],
      "execution_count": null,
      "outputs": [
        {
          "output_type": "stream",
          "name": "stdout",
          "text": [
            "Giới Tính: Nữ\n"
          ]
        }
      ]
    },
    {
      "cell_type": "markdown",
      "metadata": {
        "id": "boWSdPgZ4NZG"
      },
      "source": [
        "# Mô hình KNN"
      ]
    },
    {
      "cell_type": "code",
      "metadata": {
        "id": "x7hCS1QM4SPW"
      },
      "source": [
        "from sklearn.neighbors import KNeighborsClassifier\n",
        "from sklearn.feature_extraction.text import CountVectorizer\n",
        "from sklearn.model_selection import train_test_split\n",
        "from sklearn.metrics import accuracy_score\n",
        "from sklearn.metrics import f1_score"
      ],
      "execution_count": null,
      "outputs": []
    },
    {
      "cell_type": "code",
      "metadata": {
        "id": "rNHb3AmoUl6L"
      },
      "source": [
        "X_train_KNN = cv.fit_transform(File_Train.Full_Names)\n",
        "y_train_KNN = File_Train.Gender\n",
        "X_test_KNN = cv.transform(File_Test.Full_Names)\n",
        "y_test_KNN = File_Test.Gender"
      ],
      "execution_count": null,
      "outputs": []
    },
    {
      "cell_type": "code",
      "metadata": {
        "colab": {
          "base_uri": "https://localhost:8080/"
        },
        "id": "VMHHm0zAkpRo",
        "outputId": "5aee7d00-ac9f-4e49-e5d6-ff6856886bbb"
      },
      "source": [
        "# hiển thị một số thông tin về dữ liệu \n",
        "print(\"Dữ liệu training = \", X_train_KNN.shape, y_train_KNN.shape)\n",
        "print(\"Dữ liệu testing = \", X_test_KNN.shape, y_test_KNN.shape)"
      ],
      "execution_count": null,
      "outputs": [
        {
          "output_type": "stream",
          "name": "stdout",
          "text": [
            "Dữ liệu training =  (18795, 1292) (18795,)\n",
            "Dữ liệu testing =  (5370, 1292) (5370,)\n"
          ]
        }
      ]
    },
    {
      "cell_type": "code",
      "metadata": {
        "colab": {
          "base_uri": "https://localhost:8080/"
        },
        "id": "2K96T1yC6TJP",
        "outputId": "bfb367a3-b262-4762-987a-3968010229dc"
      },
      "source": [
        "KNN = KNeighborsClassifier(n_neighbors=3)\n",
        "\n",
        "KNN.fit(X_train_KNN, y_train_KNN)"
      ],
      "execution_count": null,
      "outputs": [
        {
          "output_type": "execute_result",
          "data": {
            "text/plain": [
              "KNeighborsClassifier(n_neighbors=3)"
            ]
          },
          "metadata": {},
          "execution_count": 55
        }
      ]
    },
    {
      "cell_type": "code",
      "metadata": {
        "id": "1N1lvOgCG420"
      },
      "source": [
        "Pre_KNN= KNN.predict(X_test_KNN)"
      ],
      "execution_count": null,
      "outputs": []
    },
    {
      "cell_type": "code",
      "metadata": {
        "colab": {
          "base_uri": "https://localhost:8080/"
        },
        "id": "TE6oVpJEomMe",
        "outputId": "e49880b5-c839-42a4-8353-8a46e73d8657"
      },
      "source": [
        "from sklearn.metrics import accuracy_score, precision_score, recall_score, f1_score\n",
        "print(\"Accuracy: \" + str(accuracy_score(y_test_KNN, Pre_KNN)))\n",
        "print(\"Precision: \" + str(precision_score(y_test_KNN, Pre_KNN)))\n",
        "print(\"Recall: \" + str(recall_score(y_test_KNN, Pre_KNN)))\n",
        "print(\"F1-micro: \" + str(f1_score(y_test_KNN, Pre_KNN)))\n",
        "print(\"F1-macro: \" + str(f1_score(y_test_KNN, Pre_KNN, average='macro')))\n",
        "cf = confusion_matrix(y_test_KNN, Pre_KNN)"
      ],
      "execution_count": null,
      "outputs": [
        {
          "output_type": "stream",
          "name": "stdout",
          "text": [
            "Accuracy: 0.9163873370577281\n",
            "Precision: 0.9004869141813755\n",
            "Recall: 0.9604024667315807\n",
            "F1-micro: 0.9294801319302655\n",
            "F1-macro: 0.9134023115631205\n"
          ]
        }
      ]
    },
    {
      "cell_type": "code",
      "metadata": {
        "colab": {
          "base_uri": "https://localhost:8080/"
        },
        "id": "8g2wDmeHylEb",
        "outputId": "89c696ec-f59f-45e5-a692-4ef44d02a07c"
      },
      "source": [
        "from sklearn.metrics import classification_report\n",
        "print(classification_report(y_test_SVM, Pre_svm)) "
      ],
      "execution_count": null,
      "outputs": [
        {
          "output_type": "stream",
          "name": "stdout",
          "text": [
            "              precision    recall  f1-score   support\n",
            "\n",
            "           0       0.96      0.93      0.94      2289\n",
            "           1       0.95      0.97      0.96      3081\n",
            "\n",
            "    accuracy                           0.95      5370\n",
            "   macro avg       0.95      0.95      0.95      5370\n",
            "weighted avg       0.95      0.95      0.95      5370\n",
            "\n"
          ]
        }
      ]
    },
    {
      "cell_type": "code",
      "metadata": {
        "colab": {
          "base_uri": "https://localhost:8080/",
          "height": 295
        },
        "id": "ps53Bwkmo8_l",
        "outputId": "161f473f-0f76-41cc-f2bb-33c3bca7cba3"
      },
      "source": [
        "from sklearn.metrics import confusion_matrix\n",
        "import seaborn as sn\n",
        "import matplotlib.pyplot as plt\n",
        "\n",
        "matrix_knn = confusion_matrix(y_test_KNN, Pre_KNN)\n",
        "sn.set(font_scale=1.4) \n",
        "sn.heatmap(matrix_knn, annot=True, annot_kws={\"size\": 16}, fmt='d') \n",
        "\n",
        "plt.xlabel('Predicted')\n",
        "plt.ylabel('True')\n",
        "plt.show()"
      ],
      "execution_count": null,
      "outputs": [
        {
          "output_type": "display_data",
          "data": {
            "image/png": "[encoded data removed]",
            "text/plain": [
              "<Figure size 432x288 with 2 Axes>"
            ]
          },
          "metadata": {}
        }
      ]
    },
    {
      "cell_type": "code",
      "metadata": {
        "id": "DGHgqjrXnNBY",
        "colab": {
          "base_uri": "https://localhost:8080/"
        },
        "outputId": "25e40c2c-c1dc-467e-84f0-f2fb4fab4f34"
      },
      "source": [
        "y_pred = KNN.predict(X_test_KNN)\n",
        "f1_knn = f1_score(y_test_KNN, y_pred,average='macro')\n",
        "print(f1_knn)"
      ],
      "execution_count": null,
      "outputs": [
        {
          "output_type": "stream",
          "name": "stdout",
          "text": [
            "0.9134023115631205\n"
          ]
        }
      ]
    },
    {
      "cell_type": "code",
      "metadata": {
        "id": "16M0YK3jVJgU"
      },
      "source": [
        "def gender_trans_knn(name):\n",
        "    Name = [name]\n",
        "    vector = cv.transform(Name).toarray()\n",
        "    if KNN.predict(vector) == 1:\n",
        "        print(\"Giới Tính:Nam\")\n",
        "    else:\n",
        "        print(\"Giới Tính:Nữ\")"
      ],
      "execution_count": null,
      "outputs": []
    },
    {
      "cell_type": "code",
      "metadata": {
        "colab": {
          "base_uri": "https://localhost:8080/"
        },
        "id": "C0tCl7o2VVTj",
        "outputId": "7bfa1647-f523-44ae-c066-94f99d725937"
      },
      "source": [
        "gender_trans_knn(\"Tú Anh\")"
      ],
      "execution_count": null,
      "outputs": [
        {
          "output_type": "stream",
          "name": "stdout",
          "text": [
            "Giới Tính:Nữ\n"
          ]
        }
      ]
    },
    {
      "cell_type": "markdown",
      "metadata": {
        "id": "643UI70hZie6"
      },
      "source": [
        "# Decision Tree"
      ]
    },
    {
      "cell_type": "code",
      "metadata": {
        "id": "B3DtTWI6NJxX"
      },
      "source": [
        "from sklearn.tree import DecisionTreeClassifier"
      ],
      "execution_count": null,
      "outputs": []
    },
    {
      "cell_type": "code",
      "metadata": {
        "colab": {
          "base_uri": "https://localhost:8080/"
        },
        "id": "ygnDHOHuNLI_",
        "outputId": "7afba4e2-93af-4543-cfc2-a35a737c70a0"
      },
      "source": [
        "import time \n",
        "\n",
        "start_time = time.time()\n",
        "\n",
        "dtc = DecisionTreeClassifier(random_state=0,max_depth=65)\n",
        "dtc.fit(X_train_SVM,y_train_SVM)\n",
        "\n",
        "print(\"---- Mất {} để huấn luyện mô hình ----\".format((time.time() - start_time)))"
      ],
      "execution_count": null,
      "outputs": [
        {
          "output_type": "stream",
          "name": "stdout",
          "text": [
            "---- Mất 0.23913073539733887 để huấn luyện mô hình ----\n"
          ]
        }
      ]
    },
    {
      "cell_type": "code",
      "metadata": {
        "colab": {
          "base_uri": "https://localhost:8080/"
        },
        "id": "t2mmppZgOIVQ",
        "outputId": "39d115e7-3835-446b-8a64-cb1b0d6a71ca"
      },
      "source": [
        "predictions_DT = dtc.predict(X_test_SVM)\n",
        "\n",
        "# Use accuracy_score function to get the accuracy\n",
        "print(\"SVM Accuracy Score -> \",accuracy_score(predictions_DT , y_test_SVM)*100)"
      ],
      "execution_count": null,
      "outputs": [
        {
          "output_type": "stream",
          "name": "stdout",
          "text": [
            "SVM Accuracy Score ->  93.7243947858473\n"
          ]
        }
      ]
    }
  ]
}